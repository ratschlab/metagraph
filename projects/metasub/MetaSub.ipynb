{
 "cells": [
  {
   "cell_type": "code",
   "execution_count": 1,
   "metadata": {
    "ExecuteTime": {
     "end_time": "2018-07-24T10:05:57.369914Z",
     "start_time": "2018-07-24T10:05:56.632348Z"
    }
   },
   "outputs": [],
   "source": [
    "import glob\n",
    "import os\n",
    "import pandas as pd\n",
    "from io import StringIO\n",
    "from matplotlib import pyplot as plt\n",
    "from IPython.display import set_matplotlib_formats\n",
    "set_matplotlib_formats('png', 'pdf')\n",
    "import numpy as np\n",
    "\n",
    "%matplotlib inline\n",
    "%load_ext autoreload\n",
    "%autoreload 2"
   ]
  },
  {
   "cell_type": "markdown",
   "metadata": {},
   "source": [
    "### RNA-seq short-read sequencing data"
   ]
  },
  {
   "cell_type": "code",
   "execution_count": 2,
   "metadata": {
    "ExecuteTime": {
     "end_time": "2018-07-24T10:05:57.464422Z",
     "start_time": "2018-07-24T10:05:57.375621Z"
    }
   },
   "outputs": [],
   "source": [
    "dataset = pd.read_table('~/projects2014-metagenome/scripts/metasub/metasub_list.txt', header=None).values.ravel()"
   ]
  },
  {
   "cell_type": "code",
   "execution_count": 3,
   "metadata": {
    "ExecuteTime": {
     "end_time": "2018-07-24T10:05:57.488377Z",
     "start_time": "2018-07-24T10:05:57.466032Z"
    }
   },
   "outputs": [
    {
     "data": {
      "text/plain": [
       "array(['/cluster/work/grlab/projects/metagenome/benchmark_metasub/csd_2016/haib17CEM4890/H2NYMCCXY/CSD16-FAI-0157_2.fastq.gz',\n",
       "       '/cluster/work/grlab/projects/metagenome/benchmark_metasub/csd_2016/haib17CEM4890/H2NYMCCXY/CSD16-FAI-0157_1.fastq.gz',\n",
       "       '/cluster/work/grlab/projects/metagenome/benchmark_metasub/csd_2017/haib17CEM5106/HCCGHCCXY/5106-CEM-0524_1.fastq.gz',\n",
       "       ...,\n",
       "       '/cluster/work/grlab/projects/metagenome/benchmark_metasub/csd_2017/haib17CEM5106/HCCGHCCXY/5106-CEM-0555_1.fastq.gz',\n",
       "       '/cluster/work/grlab/projects/metagenome/benchmark_metasub/csd_2017/haib17CEM5106/HCCGHCCXY/5106-CEM-0604_2.fastq.gz',\n",
       "       '/cluster/work/grlab/projects/metagenome/benchmark_metasub/csd_2017/haib17CEM5106/HCCGHCCXY/5106-CEM-0604_1.fastq.gz'],\n",
       "      dtype=object)"
      ]
     },
     "execution_count": 3,
     "metadata": {},
     "output_type": "execute_result"
    }
   ],
   "source": [
    "dataset"
   ]
  },
  {
   "cell_type": "code",
   "execution_count": 4,
   "metadata": {
    "ExecuteTime": {
     "end_time": "2018-07-24T10:06:00.927885Z",
     "start_time": "2018-07-24T10:05:57.490040Z"
    }
   },
   "outputs": [
    {
     "name": "stdout",
     "output_type": "stream",
     "text": [
      "Files in the dataset: 2816\n",
      "Size of the dataset: 2255.74 Gib\n"
     ]
    }
   ],
   "source": [
    "print('Files in the dataset: {}'.format(len(dataset)))\n",
    "print('Size of the dataset: {:.2f} Gib'.format(sum([os.path.getsize(x) for x in dataset]) / 2**30))"
   ]
  },
  {
   "cell_type": "code",
   "execution_count": 5,
   "metadata": {
    "ExecuteTime": {
     "end_time": "2018-07-24T10:06:01.257101Z",
     "start_time": "2018-07-24T10:06:00.930029Z"
    }
   },
   "outputs": [
    {
     "data": {
      "text/plain": [
       "CSD16-FAI-0157_2    51.149709\n",
       "CSD16-FAI-0157_1    44.143816\n",
       "5106-CEM-0524_1     23.070721\n",
       "5106-CEM-0718_2     16.073002\n",
       "5106-CEM-0719_2     15.750460\n",
       "dtype: float64"
      ]
     },
     "execution_count": 5,
     "metadata": {},
     "output_type": "execute_result"
    }
   ],
   "source": [
    "data_size = pd.Series(data=[os.path.getsize(x) / 2**30 for x in dataset],\n",
    "                      index=[x.split('/')[-1][:-len('.fastq.gz')] for x in dataset])\n",
    "data_size.head()"
   ]
  },
  {
   "cell_type": "code",
   "execution_count": 6,
   "metadata": {
    "ExecuteTime": {
     "end_time": "2018-07-24T10:06:01.296701Z",
     "start_time": "2018-07-24T10:06:01.259102Z"
    }
   },
   "outputs": [
    {
     "data": {
      "text/html": [
       "<div>\n",
       "<style scoped>\n",
       "    .dataframe tbody tr th:only-of-type {\n",
       "        vertical-align: middle;\n",
       "    }\n",
       "\n",
       "    .dataframe tbody tr th {\n",
       "        vertical-align: top;\n",
       "    }\n",
       "\n",
       "    .dataframe thead th {\n",
       "        text-align: right;\n",
       "    }\n",
       "</style>\n",
       "<table border=\"1\" class=\"dataframe\">\n",
       "  <thead>\n",
       "    <tr style=\"text-align: right;\">\n",
       "      <th></th>\n",
       "      <th>ComprData</th>\n",
       "      <th>metasub_name</th>\n",
       "    </tr>\n",
       "  </thead>\n",
       "  <tbody>\n",
       "    <tr>\n",
       "      <th>CSD16-FAI-0157_2</th>\n",
       "      <td>51.149709</td>\n",
       "      <td>CSD16-FAI-0157</td>\n",
       "    </tr>\n",
       "    <tr>\n",
       "      <th>CSD16-FAI-0157_1</th>\n",
       "      <td>44.143816</td>\n",
       "      <td>CSD16-FAI-0157</td>\n",
       "    </tr>\n",
       "    <tr>\n",
       "      <th>5106-CEM-0524_1</th>\n",
       "      <td>23.070721</td>\n",
       "      <td>5106-CEM-0524</td>\n",
       "    </tr>\n",
       "    <tr>\n",
       "      <th>5106-CEM-0718_2</th>\n",
       "      <td>16.073002</td>\n",
       "      <td>5106-CEM-0718</td>\n",
       "    </tr>\n",
       "    <tr>\n",
       "      <th>5106-CEM-0719_2</th>\n",
       "      <td>15.750460</td>\n",
       "      <td>5106-CEM-0719</td>\n",
       "    </tr>\n",
       "  </tbody>\n",
       "</table>\n",
       "</div>"
      ],
      "text/plain": [
       "                  ComprData    metasub_name\n",
       "CSD16-FAI-0157_2  51.149709  CSD16-FAI-0157\n",
       "CSD16-FAI-0157_1  44.143816  CSD16-FAI-0157\n",
       "5106-CEM-0524_1   23.070721   5106-CEM-0524\n",
       "5106-CEM-0718_2   16.073002   5106-CEM-0718\n",
       "5106-CEM-0719_2   15.750460   5106-CEM-0719"
      ]
     },
     "execution_count": 6,
     "metadata": {},
     "output_type": "execute_result"
    }
   ],
   "source": [
    "data = pd.DataFrame(data_size, columns=['ComprData'])\n",
    "data['metasub_name'] = data.index\n",
    "data.metasub_name = data.metasub_name.apply(lambda x: x[:-2])\n",
    "data.head()"
   ]
  },
  {
   "cell_type": "code",
   "execution_count": 7,
   "metadata": {
    "ExecuteTime": {
     "end_time": "2018-07-24T10:06:01.334671Z",
     "start_time": "2018-07-24T10:06:01.298474Z"
    }
   },
   "outputs": [],
   "source": [
    "metadata = pd.read_table('/cluster/work/grlab/projects/metagenome/benchmark_metasub/metadata/sample_metadata.merged.tsv')"
   ]
  },
  {
   "cell_type": "code",
   "execution_count": 8,
   "metadata": {
    "ExecuteTime": {
     "end_time": "2018-07-24T10:06:01.372948Z",
     "start_time": "2018-07-24T10:06:01.336489Z"
    }
   },
   "outputs": [
    {
     "data": {
      "text/html": [
       "<div>\n",
       "<style scoped>\n",
       "    .dataframe tbody tr th:only-of-type {\n",
       "        vertical-align: middle;\n",
       "    }\n",
       "\n",
       "    .dataframe tbody tr th {\n",
       "        vertical-align: top;\n",
       "    }\n",
       "\n",
       "    .dataframe thead th {\n",
       "        text-align: right;\n",
       "    }\n",
       "</style>\n",
       "<table border=\"1\" class=\"dataframe\">\n",
       "  <thead>\n",
       "    <tr style=\"text-align: right;\">\n",
       "      <th></th>\n",
       "      <th>sl_name</th>\n",
       "      <th>metasub_name</th>\n",
       "      <th>barcode</th>\n",
       "      <th>plate_id</th>\n",
       "      <th>plate_position</th>\n",
       "      <th>city</th>\n",
       "      <th>elevation</th>\n",
       "      <th>latitude</th>\n",
       "      <th>longitude</th>\n",
       "      <th>project</th>\n",
       "      <th>setting</th>\n",
       "      <th>surface</th>\n",
       "      <th>surface_material</th>\n",
       "      <th>traffic_level</th>\n",
       "    </tr>\n",
       "  </thead>\n",
       "  <tbody>\n",
       "    <tr>\n",
       "      <th>1296</th>\n",
       "      <td>SL271186</td>\n",
       "      <td>5106-cem-0408</td>\n",
       "      <td>None</td>\n",
       "      <td>plate_0005</td>\n",
       "      <td>h08</td>\n",
       "      <td>london</td>\n",
       "      <td>above_ground_open</td>\n",
       "      <td>51.523436</td>\n",
       "      <td>-0.259700</td>\n",
       "      <td>csd17</td>\n",
       "      <td>urban</td>\n",
       "      <td>handrail</td>\n",
       "      <td>metal</td>\n",
       "      <td>NaN</td>\n",
       "    </tr>\n",
       "    <tr>\n",
       "      <th>1297</th>\n",
       "      <td>SL271187</td>\n",
       "      <td>5106-cem-0409</td>\n",
       "      <td>None</td>\n",
       "      <td>plate_0005</td>\n",
       "      <td>h09</td>\n",
       "      <td>london</td>\n",
       "      <td>above_ground_open</td>\n",
       "      <td>51.516648</td>\n",
       "      <td>-0.247482</td>\n",
       "      <td>csd17</td>\n",
       "      <td>urban</td>\n",
       "      <td>handrail</td>\n",
       "      <td>metal</td>\n",
       "      <td>NaN</td>\n",
       "    </tr>\n",
       "    <tr>\n",
       "      <th>1298</th>\n",
       "      <td>SL271188</td>\n",
       "      <td>5106-cem-0410</td>\n",
       "      <td>None</td>\n",
       "      <td>plate_0005</td>\n",
       "      <td>h10</td>\n",
       "      <td>london</td>\n",
       "      <td>above_ground_open</td>\n",
       "      <td>51.512044</td>\n",
       "      <td>-0.224222</td>\n",
       "      <td>csd17</td>\n",
       "      <td>urban</td>\n",
       "      <td>handrail</td>\n",
       "      <td>metal</td>\n",
       "      <td>NaN</td>\n",
       "    </tr>\n",
       "    <tr>\n",
       "      <th>1299</th>\n",
       "      <td>SL271189</td>\n",
       "      <td>5106-cem-0411</td>\n",
       "      <td>None</td>\n",
       "      <td>plate_0005</td>\n",
       "      <td>h11</td>\n",
       "      <td>london</td>\n",
       "      <td>under_ground</td>\n",
       "      <td>51.504521</td>\n",
       "      <td>-0.218739</td>\n",
       "      <td>csd17</td>\n",
       "      <td>urban</td>\n",
       "      <td>handrail</td>\n",
       "      <td>metal</td>\n",
       "      <td>NaN</td>\n",
       "    </tr>\n",
       "    <tr>\n",
       "      <th>1300</th>\n",
       "      <td>SL271190</td>\n",
       "      <td>5106-cem-0412</td>\n",
       "      <td>None</td>\n",
       "      <td>plate_0005</td>\n",
       "      <td>h12</td>\n",
       "      <td>london</td>\n",
       "      <td>under_ground</td>\n",
       "      <td>51.507405</td>\n",
       "      <td>-0.205705</td>\n",
       "      <td>csd17</td>\n",
       "      <td>urban</td>\n",
       "      <td>handrail</td>\n",
       "      <td>metal</td>\n",
       "      <td>NaN</td>\n",
       "    </tr>\n",
       "  </tbody>\n",
       "</table>\n",
       "</div>"
      ],
      "text/plain": [
       "       sl_name   metasub_name barcode    plate_id plate_position    city  \\\n",
       "1296  SL271186  5106-cem-0408    None  plate_0005            h08  london   \n",
       "1297  SL271187  5106-cem-0409    None  plate_0005            h09  london   \n",
       "1298  SL271188  5106-cem-0410    None  plate_0005            h10  london   \n",
       "1299  SL271189  5106-cem-0411    None  plate_0005            h11  london   \n",
       "1300  SL271190  5106-cem-0412    None  plate_0005            h12  london   \n",
       "\n",
       "              elevation   latitude  longitude project setting   surface  \\\n",
       "1296  above_ground_open  51.523436  -0.259700   csd17   urban  handrail   \n",
       "1297  above_ground_open  51.516648  -0.247482   csd17   urban  handrail   \n",
       "1298  above_ground_open  51.512044  -0.224222   csd17   urban  handrail   \n",
       "1299       under_ground  51.504521  -0.218739   csd17   urban  handrail   \n",
       "1300       under_ground  51.507405  -0.205705   csd17   urban  handrail   \n",
       "\n",
       "     surface_material traffic_level  \n",
       "1296            metal           NaN  \n",
       "1297            metal           NaN  \n",
       "1298            metal           NaN  \n",
       "1299            metal           NaN  \n",
       "1300            metal           NaN  "
      ]
     },
     "execution_count": 8,
     "metadata": {},
     "output_type": "execute_result"
    }
   ],
   "source": [
    "metadata.tail()"
   ]
  },
  {
   "cell_type": "code",
   "execution_count": 9,
   "metadata": {
    "ExecuteTime": {
     "end_time": "2018-07-24T10:06:01.412948Z",
     "start_time": "2018-07-24T10:06:01.375028Z"
    },
    "scrolled": true
   },
   "outputs": [
    {
     "data": {
      "text/html": [
       "<div>\n",
       "<style scoped>\n",
       "    .dataframe tbody tr th:only-of-type {\n",
       "        vertical-align: middle;\n",
       "    }\n",
       "\n",
       "    .dataframe tbody tr th {\n",
       "        vertical-align: top;\n",
       "    }\n",
       "\n",
       "    .dataframe thead th {\n",
       "        text-align: right;\n",
       "    }\n",
       "</style>\n",
       "<table border=\"1\" class=\"dataframe\">\n",
       "  <thead>\n",
       "    <tr style=\"text-align: right;\">\n",
       "      <th></th>\n",
       "      <th>ComprData</th>\n",
       "      <th>metasub_name</th>\n",
       "      <th>sl_name</th>\n",
       "      <th>barcode</th>\n",
       "      <th>plate_id</th>\n",
       "      <th>plate_position</th>\n",
       "      <th>city</th>\n",
       "      <th>elevation</th>\n",
       "      <th>latitude</th>\n",
       "      <th>longitude</th>\n",
       "      <th>project</th>\n",
       "      <th>setting</th>\n",
       "      <th>surface</th>\n",
       "      <th>surface_material</th>\n",
       "      <th>traffic_level</th>\n",
       "    </tr>\n",
       "  </thead>\n",
       "  <tbody>\n",
       "    <tr>\n",
       "      <th>0</th>\n",
       "      <td>51.149709</td>\n",
       "      <td>CSD16-FAI-0157</td>\n",
       "      <td>None</td>\n",
       "      <td>None</td>\n",
       "      <td>None</td>\n",
       "      <td>None</td>\n",
       "      <td>fai</td>\n",
       "      <td>NaN</td>\n",
       "      <td>NaN</td>\n",
       "      <td>NaN</td>\n",
       "      <td>csd16</td>\n",
       "      <td>NaN</td>\n",
       "      <td>NaN</td>\n",
       "      <td>NaN</td>\n",
       "      <td>NaN</td>\n",
       "    </tr>\n",
       "    <tr>\n",
       "      <th>1</th>\n",
       "      <td>44.143816</td>\n",
       "      <td>CSD16-FAI-0157</td>\n",
       "      <td>None</td>\n",
       "      <td>None</td>\n",
       "      <td>None</td>\n",
       "      <td>None</td>\n",
       "      <td>fai</td>\n",
       "      <td>NaN</td>\n",
       "      <td>NaN</td>\n",
       "      <td>NaN</td>\n",
       "      <td>csd16</td>\n",
       "      <td>NaN</td>\n",
       "      <td>NaN</td>\n",
       "      <td>NaN</td>\n",
       "      <td>NaN</td>\n",
       "    </tr>\n",
       "    <tr>\n",
       "      <th>2</th>\n",
       "      <td>23.070721</td>\n",
       "      <td>5106-CEM-0524</td>\n",
       "      <td>None</td>\n",
       "      <td>None</td>\n",
       "      <td>plate_0007</td>\n",
       "      <td>b04</td>\n",
       "      <td>london</td>\n",
       "      <td>NaN</td>\n",
       "      <td>NaN</td>\n",
       "      <td>NaN</td>\n",
       "      <td>csd17</td>\n",
       "      <td>NaN</td>\n",
       "      <td>NaN</td>\n",
       "      <td>NaN</td>\n",
       "      <td>NaN</td>\n",
       "    </tr>\n",
       "    <tr>\n",
       "      <th>3</th>\n",
       "      <td>16.073002</td>\n",
       "      <td>5106-CEM-0718</td>\n",
       "      <td>None</td>\n",
       "      <td>None</td>\n",
       "      <td>plate_0009</td>\n",
       "      <td>b06</td>\n",
       "      <td>london</td>\n",
       "      <td>NaN</td>\n",
       "      <td>NaN</td>\n",
       "      <td>NaN</td>\n",
       "      <td>csd17</td>\n",
       "      <td>NaN</td>\n",
       "      <td>NaN</td>\n",
       "      <td>NaN</td>\n",
       "      <td>NaN</td>\n",
       "    </tr>\n",
       "    <tr>\n",
       "      <th>4</th>\n",
       "      <td>15.750460</td>\n",
       "      <td>5106-CEM-0719</td>\n",
       "      <td>None</td>\n",
       "      <td>None</td>\n",
       "      <td>plate_0009</td>\n",
       "      <td>b07</td>\n",
       "      <td>london</td>\n",
       "      <td>NaN</td>\n",
       "      <td>NaN</td>\n",
       "      <td>NaN</td>\n",
       "      <td>csd17</td>\n",
       "      <td>NaN</td>\n",
       "      <td>NaN</td>\n",
       "      <td>NaN</td>\n",
       "      <td>NaN</td>\n",
       "    </tr>\n",
       "  </tbody>\n",
       "</table>\n",
       "</div>"
      ],
      "text/plain": [
       "   ComprData    metasub_name sl_name barcode    plate_id plate_position  \\\n",
       "0  51.149709  CSD16-FAI-0157    None    None        None           None   \n",
       "1  44.143816  CSD16-FAI-0157    None    None        None           None   \n",
       "2  23.070721   5106-CEM-0524    None    None  plate_0007            b04   \n",
       "3  16.073002   5106-CEM-0718    None    None  plate_0009            b06   \n",
       "4  15.750460   5106-CEM-0719    None    None  plate_0009            b07   \n",
       "\n",
       "     city elevation  latitude  longitude project setting surface  \\\n",
       "0     fai       NaN       NaN        NaN   csd16     NaN     NaN   \n",
       "1     fai       NaN       NaN        NaN   csd16     NaN     NaN   \n",
       "2  london       NaN       NaN        NaN   csd17     NaN     NaN   \n",
       "3  london       NaN       NaN        NaN   csd17     NaN     NaN   \n",
       "4  london       NaN       NaN        NaN   csd17     NaN     NaN   \n",
       "\n",
       "  surface_material traffic_level  \n",
       "0              NaN           NaN  \n",
       "1              NaN           NaN  \n",
       "2              NaN           NaN  \n",
       "3              NaN           NaN  \n",
       "4              NaN           NaN  "
      ]
     },
     "execution_count": 9,
     "metadata": {},
     "output_type": "execute_result"
    }
   ],
   "source": [
    "df = pd.merge(data, metadata, on='metasub_name', how='left')\n",
    "df.head()"
   ]
  },
  {
   "cell_type": "code",
   "execution_count": 10,
   "metadata": {
    "ExecuteTime": {
     "end_time": "2018-07-24T10:06:01.428806Z",
     "start_time": "2018-07-24T10:06:01.414825Z"
    }
   },
   "outputs": [
    {
     "data": {
      "text/plain": [
       "(2816, 15)"
      ]
     },
     "execution_count": 10,
     "metadata": {},
     "output_type": "execute_result"
    }
   ],
   "source": [
    "df.shape"
   ]
  },
  {
   "cell_type": "code",
   "execution_count": 11,
   "metadata": {
    "ExecuteTime": {
     "end_time": "2018-07-24T10:06:01.459871Z",
     "start_time": "2018-07-24T10:06:01.430360Z"
    }
   },
   "outputs": [
    {
     "name": "stdout",
     "output_type": "stream",
     "text": [
      "\n",
      " ComprData :\n",
      "[5.11497090e+01 4.41438160e+01 2.30707211e+01 ... 1.18255895e-03\n",
      " 2.44291499e-04 2.35131010e-04]\n",
      "\n",
      " metasub_name :\n",
      "['CSD16-FAI-0157' '5106-CEM-0524' '5106-CEM-0718' ... '4959-DB-1301.'\n",
      " '5106-CEM-0555' '5106-CEM-0604']\n",
      "\n",
      " sl_name :\n",
      "['None' nan]\n",
      "\n",
      " barcode :\n",
      "['None' nan]\n",
      "\n",
      " plate_id :\n",
      "['None' 'plate_0007' 'plate_0009' 'plate_0006' 'zymo plate 1' nan\n",
      " 'plate_0008' 'zymo plate 2']\n",
      "\n",
      " plate_position :\n",
      "['None' 'b04' 'b06' 'b07' 'h04' 'a12' nan 'd06' 'c04' 'c02' 'h02' 'b03'\n",
      " 'e03' 'c07' 'f10' 'c08' 'c01' 'f09' 'h05' 'g09' 'g10' 'g12' 'f02' 'a10'\n",
      " 'f11' 'g01' 'c09' 'a07' 'h03' 'd03' 'd08' 'c10' 'b10' 'b11' 'g05' 'h06'\n",
      " 'd07' 'f04' 'c03' 'd02' 'g11' 'f03' 'e02' 'h11' 'c05' 'g02' 'd01' 'b02'\n",
      " 'g04' 'g08' 'a08' 'a03' 'b09' 'b05' 'f08' 'b12' 'd05' 'e01' 'a02' 'b08'\n",
      " 'e06' 'e12' 'c06' 'h08' 'h07' 'g07' 'c11' 'd04' 'c12' 'a04' 'g06' 'h01'\n",
      " 'e04' 'f01' 'e09' 'e08' 'd09' 'a06' 'g03' 'h10' 'f05' 'a05' 'a11' 'h09'\n",
      " 'd10' 'b01' 'e07' 'f12' 'd12' 'e11' 'f07' 'e05' 'e10' 'h12' 'a09' 'd11'\n",
      " 'f06' 'a01']\n",
      "\n",
      " city :\n",
      "['fai' 'london' 'ilr' 'ofa' 'berlin' 'scl' 'rio' 'bog' 'tok' 'nyc' nan]\n",
      "\n",
      " elevation :\n",
      "[nan 'under_ground' 'above_ground_open']\n",
      "\n",
      " latitude :\n",
      "[        nan 51.52567304 51.50357644 51.53625519 51.55239319 51.53427845\n",
      " 51.52458249 51.53416707 51.59574781 51.53513992 51.57563951 51.49584772\n",
      " 51.5012707  51.57765885 51.56549578 51.55036797 51.52357375 51.57686088\n",
      " 51.58585544 51.60273831 51.53257057 51.51519833 51.5305265  51.52334544\n",
      " 51.57636834 51.52982887 51.61787278 51.48819371 51.49913109 51.51792853\n",
      " 51.55673669 51.60709356 51.44340406 51.53225984 51.61793168 51.52313116\n",
      " 51.54137766 51.63026513 51.58733501 51.51819437 51.53007288 51.58089355\n",
      " 51.57023141 51.50866134 51.51129079 51.50731012 51.52229675 51.57939273\n",
      " 51.54398955 51.53665913 51.51537887 51.54415189 51.52051764 51.51010128\n",
      " 51.5565034  51.50740459 51.5394686  51.601      51.53046702 51.59226368\n",
      " 51.61340971 51.61368485 51.45267416 51.51045317 51.60379254 51.51999407\n",
      " 51.52343605 51.57228586 51.51387906 51.51627608 51.58184636 51.57865118\n",
      " 51.51664829 51.5149791  51.60954907 51.65065795 51.58302266 51.5133735\n",
      " 51.61717994 51.46492347 51.51361041 51.46180336 51.41814951 51.51742113\n",
      " 51.43583612 51.59179344 51.50452058 51.415307   51.482032   51.5175063\n",
      " 51.52866595 51.56825428 51.52726755 51.5765571  51.5720977  51.52516227\n",
      " 51.51487573 51.57558605 51.52021342 51.50562676 51.51204421 51.51843415\n",
      " 51.50691892 51.48926702 51.56447095 51.51434282 51.54236162 51.56254897\n",
      " 51.50913507 51.47224114 51.58341409 51.52562663 51.58811284 51.54630074\n",
      " 51.52049908 51.50202647 51.55049384 51.46265326 51.52378935 51.54713209\n",
      " 51.56332139 51.48580284 51.4926397  51.58335804 51.42751601 51.59535142\n",
      " 51.49641574 51.58701271 51.55675484 51.50995828 51.40241312 51.50557208]\n",
      "\n",
      " longitude :\n",
      "[        nan -0.08754096 -0.11405178 -0.25747657 -0.29682089 -0.13882162\n",
      " -0.13825419 -0.20467539  0.09092102 -0.19394392  0.09032965 -0.10071186\n",
      " -0.09369265 -0.14661854 -0.13509971 -0.14045242 -0.14684519 -0.21342893\n",
      "  0.08850919 -0.26417083 -0.1057723  -0.1417531  -0.22468321 -0.1836498\n",
      "  0.04541342 -0.18560904 -0.18539428 -0.10547519 -0.11174572 -0.28095981\n",
      " -0.13790751  0.03402719 -0.153183   -0.24425905  0.07452346 -0.15688185\n",
      " -0.00318539 -0.17924718 -0.16472565 -0.1116604  -0.2929731   0.02149218\n",
      " -0.3085548  -0.12473343 -0.12822255 -0.1223406  -0.16308089 -0.33697321\n",
      " -0.27537111 -0.32381728 -0.17536529 -0.15370158 -0.10505032 -0.13399405\n",
      " -0.00561874 -0.20570509 -0.14270955 -0.1924     -0.12383856 -0.33519351\n",
      "  0.09213291 -0.27494671 -0.14795997 -0.18740254  0.093106   -0.16764493\n",
      " -0.25970031 -0.19396566 -0.14931571 -0.13085605 -0.3171254  -0.31817444\n",
      " -0.24748164 -0.30147178 -0.1884456  -0.19473748 -0.01991023 -0.08890673\n",
      "  0.04385609 -0.12951562 -0.15841504 -0.13829513 -0.17767881 -0.08295876\n",
      " -0.15967789  0.02732178 -0.21873932 -0.191915   -0.112797   -0.11999545\n",
      " -0.13326502  0.0082239  -0.05542385  0.06610365 -0.2952264  -0.03340054\n",
      " -0.0975593   0.02873977 -0.09769859 -0.22628142 -0.22422191 -0.08898884\n",
      " -0.1429     -0.13371586 -0.10649567 -0.07560061 -0.34641202 -0.30411606\n",
      " -0.19651788 -0.12289521 -0.07247832 -0.13582426 -0.06027612 -0.10394848\n",
      " -0.13464274 -0.22672099 -0.16421224 -0.1146118  -0.14393025 -0.18047382\n",
      " -0.27922066 -0.12372867 -0.22236763 -0.22646584 -0.16795432 -0.25010898\n",
      " -0.14382852 -0.04098439 -0.17820292 -0.22424543 -0.19476786 -0.08690755]\n",
      "\n",
      " project :\n",
      "['csd16' 'csd17' 'oly' 'winter-sampling' nan]\n",
      "\n",
      " setting :\n",
      "[nan 'urban']\n",
      "\n",
      " surface :\n",
      "[nan 'ticket_machine' 'bench' 'handrail' '-' 'escalator_handrail']\n",
      "\n",
      " surface_material :\n",
      "[nan 'glass' 'metal' 'wood' '-' 'metal_wood' 'rubber']\n",
      "\n",
      " traffic_level :\n",
      "[nan]\n"
     ]
    }
   ],
   "source": [
    "for col in df.columns:\n",
    "    print('\\n', col, ':')\n",
    "    print(df.loc[:, col].unique())"
   ]
  },
  {
   "cell_type": "code",
   "execution_count": 12,
   "metadata": {
    "ExecuteTime": {
     "end_time": "2018-07-24T10:06:01.478245Z",
     "start_time": "2018-07-24T10:06:01.462503Z"
    }
   },
   "outputs": [],
   "source": [
    "del df['sl_name']\n",
    "del df['barcode']\n",
    "del df['traffic_level']\n",
    "del df['setting']"
   ]
  },
  {
   "cell_type": "code",
   "execution_count": 53,
   "metadata": {
    "ExecuteTime": {
     "end_time": "2018-07-24T10:05:19.668520Z",
     "start_time": "2018-07-24T10:05:19.651955Z"
    }
   },
   "outputs": [],
   "source": [
    "import matplotlib as mpl\n",
    "mpl.rcParams.update(mpl.rcParamsDefault)\n",
    "\n",
    "plt.rc('font', family='sans serif')#, serif='Times')\n",
    "plt.rc('xtick', labelsize=14)\n",
    "plt.rc('ytick', labelsize=14)\n",
    "plt.rc('axes', labelsize=16)\n",
    "plt.rc('legend', fontsize=14)\n",
    "#plt.rcParams['mathtext.fontset'] = 'stix'\n",
    "#plt.rcParams['font.family'] = 'STIXGeneral'\n",
    "#params = {\n",
    "#'text.usetex': True,\n",
    "#'font.size': 15,\n",
    "#'text.latex.unicode': True\n",
    "#}\n",
    "#plt.rcParams.update(params)"
   ]
  },
  {
   "cell_type": "code",
   "execution_count": 13,
   "metadata": {
    "ExecuteTime": {
     "end_time": "2018-07-24T10:06:03.034380Z",
     "start_time": "2018-07-24T10:06:01.479917Z"
    },
    "scrolled": false
   },
   "outputs": [
    {
     "data": {
      "image/png": "[encoded data removed]",
      "text/plain": [
       "<Figure size 648x360 with 1 Axes>"
      ]
     },
     "metadata": {},
     "output_type": "display_data"
    },
    {
     "data": {
      "image/png": "[encoded data removed]",
      "text/plain": [
       "<Figure size 648x360 with 1 Axes>"
      ]
     },
     "metadata": {},
     "output_type": "display_data"
    },
    {
     "data": {
      "image/png": "[encoded data removed]",
      "text/plain": [
       "<Figure size 648x360 with 1 Axes>"
      ]
     },
     "metadata": {},
     "output_type": "display_data"
    },
    {
     "data": {
      "image/png": "[encoded data removed]",
      "text/plain": [
       "<Figure size 648x360 with 1 Axes>"
      ]
     },
     "metadata": {},
     "output_type": "display_data"
    },
    {
     "data": {
      "image/png": "[encoded data removed]",
      "text/plain": [
       "<Figure size 648x360 with 1 Axes>"
      ]
     },
     "metadata": {},
     "output_type": "display_data"
    },
    {
     "data": {
      "image/png": "[encoded data removed]",
      "text/plain": [
       "<Figure size 648x360 with 1 Axes>"
      ]
     },
     "metadata": {},
     "output_type": "display_data"
    },
    {
     "data": {
      "image/png": "[encoded data removed]",
      "text/plain": [
       "<Figure size 648x360 with 1 Axes>"
      ]
     },
     "metadata": {},
     "output_type": "display_data"
    }
   ],
   "source": [
    "for col in df.columns:\n",
    "    if (len(df.loc[:, col].unique()) < 100):\n",
    "        fig, ax = plt.subplots(figsize=(9, 5))\n",
    "        ax.set_title('{}, ratio of files annotated: {:.2f}'.format(col, np.mean(~df.loc[:, col].isna())), size=16)\n",
    "        pd.value_counts(df.loc[:, col]).iloc[:100].plot.bar(ax=ax)\n",
    "        plt.show()"
   ]
  }
 ],
 "metadata": {
  "kernelspec": {
   "display_name": "Python 3",
   "language": "python",
   "name": "python3"
  },
  "language_info": {
   "codemirror_mode": {
    "name": "ipython",
    "version": 3
   },
   "file_extension": ".py",
   "mimetype": "text/x-python",
   "name": "python",
   "nbconvert_exporter": "python",
   "pygments_lexer": "ipython3",
   "version": "3.6.6"
  },
  "toc": {
   "nav_menu": {},
   "number_sections": true,
   "sideBar": true,
   "skip_h1_title": true,
   "toc_cell": false,
   "toc_position": {},
   "toc_section_display": "block",
   "toc_window_display": true
  }
 },
 "nbformat": 4,
 "nbformat_minor": 2
}
