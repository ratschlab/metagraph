{
 "cells": [
  {
   "cell_type": "code",
   "execution_count": null,
   "metadata": {},
   "outputs": [],
   "source": [
    "%matplotlib inline\n",
    "import sys\n",
    "import scipy as sp\n",
    "import os\n",
    "import pickle\n",
    "import h5py\n",
    "import matplotlib\n",
    "import matplotlib.pyplot as plt\n",
    "from matplotlib.pylab import cm \n",
    "import gromics.viz.heatmap as hm"
   ]
  },
  {
   "cell_type": "code",
   "execution_count": null,
   "metadata": {},
   "outputs": [],
   "source": [
    "### constants\n",
    "K = 41"
   ]
  },
  {
   "cell_type": "code",
   "execution_count": null,
   "metadata": {},
   "outputs": [],
   "source": [
    "### generate GTEx tissue dictionary from metadata\n",
    "mfile = '/cluster/work/grlab/projects/GTEx/metadata/SraRunTable_20180218.txt'\n",
    "metadata = sp.loadtxt(mfile, dtype='str', delimiter='\\t')\n",
    "metadata = metadata[1:, :]\n",
    "metadata = metadata[:, [16, 23]]\n",
    "metadict = dict([(x[0], x[1]) for x in metadata])"
   ]
  },
  {
   "cell_type": "code",
   "execution_count": null,
   "metadata": {},
   "outputs": [],
   "source": [
    "tissueID = dict([(x, i) for i, x in enumerate(sp.unique(metadict.values()))])\n",
    "_, normalizers = sp.unique(metadict.values(), return_counts=True)"
   ]
  },
  {
   "cell_type": "code",
   "execution_count": null,
   "metadata": {},
   "outputs": [],
   "source": [
    "### prepare plotting dir\n",
    "basedir = '/cluster/work/grlab/projects/metagenome/data/gtex'\n",
    "plotdir = os.path.join(basedir, 'plots', 'queries_first_exon.v2')\n",
    "if not os.path.exists(plotdir):\n",
    "    os.makedirs(plotdir)"
   ]
  },
  {
   "cell_type": "code",
   "execution_count": null,
   "metadata": {},
   "outputs": [],
   "source": [
    "### load aggregated results\n",
    "IN = h5py.File(os.path.join(basedir, 'queries', 'gencode.v30.first_exons.result.hdf5'), 'r')\n",
    "strains = sp.array([_.split('/')[-1] for _ in IN['strains'][:].view(sp.chararray).decode('utf-8')])\n",
    "exons = IN['exons'][:].view(sp.chararray).decode('utf-8')\n",
    "\n",
    "tissues = sp.array([metadict[_] for _ in strains])\n",
    "tissues_u = sp.unique(tissues)"
   ]
  },
  {
   "cell_type": "markdown",
   "metadata": {},
   "source": [
    "For all first exons, determine their lengths and the gene they are associated with. Also record the gene name for each gene."
   ]
  },
  {
   "cell_type": "code",
   "execution_count": null,
   "metadata": {},
   "outputs": [],
   "source": [
    "### load query lengths\n",
    "tlen_file = os.path.join(basedir, 'queries', 'gencode.v30.first_exons.len.tsv')\n",
    "exons2len = dict()\n",
    "exons2genes = dict()\n",
    "genes2exons = dict()\n",
    "for line in open(tlen_file, 'r'):\n",
    "    sl = line.strip().split('\\t')\n",
    "    exons2len[sl[0]] = int(sl[1])\n",
    "    gene = sl[2].split(';')[0].rsplit(':', 2)[0]\n",
    "    exons2genes[sl[0]] = gene\n",
    "    try:\n",
    "        genes2exons[gene].append(sl[0])\n",
    "    except KeyError:\n",
    "        genes2exons[gene] = [sl[0]]\n",
    "exon_lens = sp.array([exons2len[_] for _ in exons])\n",
    "genes = sp.array([exons2genes[_] for _ in exons])\n",
    "gene_names = sp.array([_.split(':')[1] for _ in genes])"
   ]
  },
  {
   "cell_type": "markdown",
   "metadata": {},
   "source": [
    "For each exon, we have aggregated the results in the input hdf5 now accessed via `IN`. Here, `IN['matching']` stores for each exon, how many kmers matched per GTEx sample, while `IN['expression']` stores the total expression of each kmer in each sample. Hence `IN['expression'][i, j] / exon_lens[i]` is the everage expression of exon `i` in sample `j` and `IN['expression'][i, j] / IN['matching'][i, j]` is the everage count per matching kmer for exon `i` in sample `j`.\n",
    "\n",
    "We denote an exon as `is_expressed`, if on average we expression of 1 per kmer in the exon (`expression > (exon_lens - K + 1)`)."
   ]
  },
  {
   "cell_type": "code",
   "execution_count": null,
   "metadata": {},
   "outputs": [],
   "source": [
    "### get mean tissue expression and matching per tissue\n",
    "expression = IN['expression'][:]"
   ]
  },
  {
   "cell_type": "code",
   "execution_count": null,
   "metadata": {},
   "outputs": [],
   "source": [
    "### remove exons that are\n",
    "### 1: unexpressed\n",
    "### 2: are in a gene with only one transcript annotated\n",
    "### 3: exons too short\n",
    "num_kmers = exon_lens[:, sp.newaxis] - K + 1\n",
    "num_kmers[num_kmers < 1] = 1\n",
    "is_expressed = (expression / num_kmers > 0.1)\n",
    "kidx1 = sp.sum(is_expressed, axis=1) > 0\n",
    "kidx2 = sp.array([len(genes2exons[_]) > 1 for _ in genes]) \n",
    "kidx3 = (exon_lens >= K)\n",
    "kidx = kidx1 & kidx2 & kidx3\n",
    "\n",
    "expression = expression[kidx, :]\n",
    "is_expressed = is_expressed[kidx]\n",
    "exons = exons[kidx]\n",
    "exon_lens = exon_lens[kidx]\n",
    "num_kmers = num_kmers[kidx]\n",
    "genes = genes[kidx]\n",
    "gene_names = gene_names[kidx]\n",
    "genes_u = sp.unique(genes)"
   ]
  },
  {
   "cell_type": "code",
   "execution_count": null,
   "metadata": {},
   "outputs": [],
   "source": [
    "mean_expression = sp.zeros((expression.shape[0], tissues_u.shape[0]), dtype='float')\n",
    "is_expressed_fraction = sp.zeros((expression.shape[0], tissues_u.shape[0]), dtype='float')\n",
    "for i, tissue in enumerate(tissues_u):\n",
    "    t_idx = sp.where(tissues == tissue)[0]\n",
    "    e_idx = is_expressed[:, t_idx]\n",
    "    mean_expression[:, i] = sp.mean(expression[:, t_idx], axis=1) / num_kmers[:, 0]\n",
    "    is_expressed_fraction[:, i] = sp.sum(e_idx, axis=1) / t_idx.shape[0]\n",
    "del expression"
   ]
  },
  {
   "cell_type": "code",
   "execution_count": null,
   "metadata": {},
   "outputs": [],
   "source": [
    "### remove all genes that are not expressed in all tissues \n",
    "### (as we are after differential promoter usage and not differential gene expression)\n",
    "kidx = sp.zeros((mean_expression.shape[0],), dtype='bool')\n",
    "for gene in gene_names:\n",
    "    gidx = sp.where(gene_names == gene)[0]\n",
    "    kidx[gidx] = (sp.sum(mean_expression[gidx, :].max(axis=0) > 0) == mean_expression.shape[1])\n",
    "\n",
    "mean_expression = mean_expression[kidx, :]\n",
    "is_expressed = is_expressed[kidx]\n",
    "exons = exons[kidx]\n",
    "exon_lens = exon_lens[kidx]\n",
    "num_kmers = num_kmers[kidx]\n",
    "genes = genes[kidx]\n",
    "gene_names = gene_names[kidx]\n",
    "genes_u = sp.unique(genes)"
   ]
  },
  {
   "cell_type": "code",
   "execution_count": null,
   "metadata": {},
   "outputs": [],
   "source": [
    "### find best matching rows (more then 90%)\n",
    "#matching = IN['matching'][:]\n",
    "#matching = matching[kidx, :]\n",
    "#mean_matching = sp.zeros((matching.shape[0], tissues_u.shape[0]), dtype='float')\n",
    "#for i, tissue in enumerate(tissues_u):\n",
    "#    t_idx = sp.where(tissues == tissue)[0]\n",
    "#    mean_matching[:, i] = sp.mean(matching[:, t_idx], axis=1) / (exon_lens - K + 1)\n",
    "#best_matching = matching.max(axis=1) / (exon_lens - K + 1)\n",
    "#min_matching = mean_matching.min(axis=1)\n",
    "#max_matching = mean_matching.max(axis=1)"
   ]
  },
  {
   "cell_type": "code",
   "execution_count": null,
   "metadata": {},
   "outputs": [],
   "source": [
    "### get genes of interest\n",
    "rmsd_max = []\n",
    "coord_max = []\n",
    "for gene in genes_u:\n",
    "    gidx = sp.where(genes == gene)[0]\n",
    "    #curr = mean_expression[gidx, :] * mean_matching[gidx, :]\n",
    "    curr = mean_expression[gidx, :]\n",
    "    rmsd = [0]\n",
    "    coords = [[0, 0]]\n",
    "    for i in range(curr.shape[0]):\n",
    "        for j in range(i + 1, curr.shape[0]):\n",
    "            if min(curr[i, :].max(), curr[j, :].max()) < 0.2:\n",
    "                continue\n",
    "            if max(curr[i, :].min(), curr[j, :].min()) > 0.5:\n",
    "                continue\n",
    "            z = curr[i, :] - curr[j, :]\n",
    "            rmsd.append(sp.sqrt(sp.dot(z, z.T) / z.shape[0]))\n",
    "            coords.append([i, j])\n",
    "    r = sp.argmax(sp.array(rmsd))\n",
    "    rmsd_max.append(rmsd[r])\n",
    "    coord_max.append(coords[r])"
   ]
  },
  {
   "cell_type": "code",
   "execution_count": null,
   "metadata": {},
   "outputs": [],
   "source": [
    "s_idx = sp.argsort(rmsd_max)[::-1]\n",
    "i = s_idx[2]\n",
    "gidx = sp.where(genes == genes_u[i])[0]\n",
    "cmax = coord_max[i]\n",
    "mean_expression[gidx, :][cmax[1]]"
   ]
  },
  {
   "cell_type": "code",
   "execution_count": null,
   "metadata": {},
   "outputs": [],
   "source": [
    "### plotting\n",
    "FROM = 0\n",
    "TO = 50\n",
    "pmatrix = []\n",
    "glabels = []\n",
    "elabels = []\n",
    "s_idx = sp.argsort(rmsd_max)[::-1]\n",
    "for i in s_idx[FROM:TO]:\n",
    "    gidx = sp.where(genes == genes_u[i])[0]\n",
    "    cmax = coord_max[i]\n",
    "    #pmatrix.append((mean_expression[gidx, :] * mean_matching[gidx, :])[cmax])\n",
    "    pmatrix.append(mean_expression[gidx, :][cmax])\n",
    "    glabels.append(genes[gidx][cmax])\n",
    "    elabels.append(exons[gidx][cmax])\n",
    "pmatrix = sp.vstack(pmatrix)\n",
    "elabels = sp.hstack(elabels)\n",
    "glabels = sp.hstack(glabels)\n",
    "\n",
    "fig = plt.figure(figsize=(10, 25), dpi=200)\n",
    "ax = fig.add_subplot(111)\n",
    "ax.matshow(pmatrix.astype('float'), aspect='auto', cmap=cm.Blues)\n",
    "ax.set_xticks(sp.arange(pmatrix.shape[1]))\n",
    "ax.set_xticklabels(tissues_u, rotation=90)\n",
    "ax.set_yticks(sp.arange(pmatrix.shape[0]))\n",
    "ylabels = sp.array(['-'.join([glabels[_].split(':')[-1], elabels[_]]) for _ in range(elabels.shape[0])])\n",
    "ax.set_yticklabels(ylabels)\n",
    "plt.show()"
   ]
  },
  {
   "cell_type": "code",
   "execution_count": null,
   "metadata": {},
   "outputs": [],
   "source": [
    "groups = sp.ones((pmatrix.shape[0] // 2,), dtype='int') * 2\n",
    "cmap_group = sp.array([cm.Blues for _ in range(pmatrix.shape[0] // 2)])\n",
    "norm_group = sp.array([plt.Normalize(0, pmatrix.max()) for _ in range(pmatrix.shape[0] // 2)])"
   ]
  },
  {
   "cell_type": "code",
   "execution_count": null,
   "metadata": {},
   "outputs": [],
   "source": [
    "fig = plt.figure(figsize=(10, 25), dpi=200)\n",
    "(fig, axes) = hm.trackPlot(pmatrix, fig, groups=groups, labels=ylabels, cmap=cmap_group, norm=norm_group)\n",
    "axes[0].xaxis.tick_top()\n",
    "axes[0].set_xticks(sp.arange(pmatrix.shape[1]))\n",
    "axes[0].set_xticklabels(tissues_u, rotation=90)\n",
    "plt.show()"
   ]
  }
 ],
 "metadata": {
  "kernelspec": {
   "display_name": "Python 3",
   "language": "python",
   "name": "python3"
  },
  "language_info": {
   "codemirror_mode": {
    "name": "ipython",
    "version": 3
   },
   "file_extension": ".py",
   "mimetype": "text/x-python",
   "name": "python",
   "nbconvert_exporter": "python",
   "pygments_lexer": "ipython3",
   "version": "3.6.7"
  }
 },
 "nbformat": 4,
 "nbformat_minor": 2
}
