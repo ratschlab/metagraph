{
 "cells": [
  {
   "cell_type": "code",
   "execution_count": 1,
   "metadata": {
    "ExecuteTime": {
     "end_time": "2019-04-10T09:47:28.978784Z",
     "start_time": "2019-04-10T09:47:19.575315Z"
    }
   },
   "outputs": [],
   "source": [
    "import glob\n",
    "import os\n",
    "import pandas as pd\n",
    "from io import StringIO\n",
    "from matplotlib import pyplot as plt\n",
    "from IPython.display import set_matplotlib_formats\n",
    "set_matplotlib_formats('png', 'pdf')\n",
    "import numpy as np\n",
    "import matplotlib as mpl\n",
    "mpl.rcParams.update(mpl.rcParamsDefault)\n",
    "\n",
    "plt.rc('font', family='sans-serif')#, serif='Times')\n",
    "plt.rc('xtick', labelsize=11)\n",
    "plt.rc('ytick', labelsize=11)\n",
    "plt.rc('axes', labelsize=12)\n",
    "plt.rc('legend', fontsize=11)\n",
    "#plt.rcParams['mathtext.fontset'] = 'stix'\n",
    "#plt.rcParams['font.family'] = 'STIXGeneral'\n",
    "params = {\n",
    "'text.usetex': True,\n",
    "#'font.size': 15,\n",
    "#'text.latex.unicode': True\n",
    "}\n",
    "plt.rcParams.update(params)\n",
    "\n",
    "%matplotlib inline\n",
    "%load_ext autoreload\n",
    "%autoreload 2"
   ]
  },
  {
   "cell_type": "markdown",
   "metadata": {},
   "source": [
    "## Generate subsets"
   ]
  },
  {
   "cell_type": "code",
   "execution_count": 79,
   "metadata": {
    "ExecuteTime": {
     "end_time": "2018-12-22T16:18:38.265595Z",
     "start_time": "2018-12-22T16:18:35.717532Z"
    }
   },
   "outputs": [],
   "source": [
    "out = !ls -lSr /cluster/work/grlab/projects/metagenome/raw_data/refseq/fna/complete.*.genomic.fna.gz \\\n",
    "    | awk '{print $5\" \"$9}'"
   ]
  },
  {
   "cell_type": "code",
   "execution_count": 80,
   "metadata": {
    "ExecuteTime": {
     "end_time": "2018-12-22T16:18:48.109550Z",
     "start_time": "2018-12-22T16:18:47.362582Z"
    }
   },
   "outputs": [],
   "source": [
    "sizes = []\n",
    "files = []\n",
    "\n",
    "for line in out:\n",
    "    number, file = line.split(' ')\n",
    "    files.append(file.split('/')[-1])\n",
    "    sizes.append(int(number))\n",
    "\n",
    "sizes = np.array(sizes)"
   ]
  },
  {
   "cell_type": "code",
   "execution_count": 81,
   "metadata": {
    "ExecuteTime": {
     "end_time": "2018-12-22T16:19:29.394988Z",
     "start_time": "2018-12-22T16:19:28.764077Z"
    }
   },
   "outputs": [],
   "source": [
    "num_points = 90\n",
    "for i in range(num_points):\n",
    "    np.savetxt('refseq_subsets/subset_{}'.format(i + 1),\n",
    "               np.array(files)[:(i + 1) * len(files) // num_points],\n",
    "               fmt='%s')"
   ]
  },
  {
   "cell_type": "code",
   "execution_count": 82,
   "metadata": {
    "ExecuteTime": {
     "end_time": "2018-12-22T16:21:18.768633Z",
     "start_time": "2018-12-22T16:21:18.559326Z"
    },
    "scrolled": true
   },
   "outputs": [
    {
     "data": {
      "text/plain": [
       "[<matplotlib.lines.Line2D at 0x2b6ed81047f0>]"
      ]
     },
     "execution_count": 82,
     "metadata": {},
     "output_type": "execute_result"
    },
    {
     "data": {
      "image/png": "[encoded data removed]",
      "text/plain": [
       "<Figure size 432x288 with 1 Axes>"
      ]
     },
     "metadata": {
      "needs_background": "light"
     },
     "output_type": "display_data"
    }
   ],
   "source": [
    "plt.plot([sizes[:(i + 1) * len(files) // num_points].sum() for i in range(num_points)], marker='o', ms=5)"
   ]
  },
  {
   "cell_type": "markdown",
   "metadata": {},
   "source": [
    "## Variable size of the input data"
   ]
  },
  {
   "cell_type": "code",
   "execution_count": 2,
   "metadata": {
    "ExecuteTime": {
     "end_time": "2019-04-10T09:47:33.049260Z",
     "start_time": "2019-04-10T09:47:33.024471Z"
    }
   },
   "outputs": [],
   "source": [
    "DATA_DIR = \"/cluster/work/grlab/projects/metagenome/data/refseq/refseq_var_k\""
   ]
  },
  {
   "cell_type": "code",
   "execution_count": 3,
   "metadata": {
    "ExecuteTime": {
     "end_time": "2019-04-10T09:47:33.732495Z",
     "start_time": "2019-04-10T09:47:33.692573Z"
    }
   },
   "outputs": [
    {
     "data": {
      "text/plain": [
       "(5969945, 95684)"
      ]
     },
     "execution_count": 3,
     "metadata": {},
     "output_type": "execute_result"
    }
   ],
   "source": [
    "def get_kmers_and_ram_succinct(stats_file):\n",
    "    with open(stats_file, 'r') as f:\n",
    "        stats = f.read().strip()\n",
    "    stats = stats.split('\\n')\n",
    "    num_kmers = int(stats[-28].split()[-1])\n",
    "    peak_ram = int(stats[-14].split()[-1])\n",
    "    return num_kmers, peak_ram\n",
    "\n",
    "get_kmers_and_ram_succinct(DATA_DIR + '/subgraphs_k17/subset_1.dbg.stats')"
   ]
  },
  {
   "cell_type": "code",
   "execution_count": 4,
   "metadata": {
    "ExecuteTime": {
     "end_time": "2019-04-10T09:47:33.980735Z",
     "start_time": "2019-04-10T09:47:33.952357Z"
    }
   },
   "outputs": [],
   "source": [
    "results = pd.DataFrame(columns=['representation', 'k', 'num_kmers', 'RAM'])"
   ]
  },
  {
   "cell_type": "markdown",
   "metadata": {},
   "source": [
    "### Succinct"
   ]
  },
  {
   "cell_type": "code",
   "execution_count": 5,
   "metadata": {
    "ExecuteTime": {
     "end_time": "2019-04-10T09:47:39.104495Z",
     "start_time": "2019-04-10T09:47:34.748291Z"
    },
    "scrolled": true
   },
   "outputs": [
    {
     "data": {
      "text/plain": [
       "263"
      ]
     },
     "execution_count": 5,
     "metadata": {},
     "output_type": "execute_result"
    }
   ],
   "source": [
    "graphs = !ls $DATA_DIR/subgraphs_k*/*.dbg.stats\n",
    "\n",
    "num_kmers_array = []\n",
    "peak_ram_array = []\n",
    "k_array = []\n",
    "\n",
    "for graph in graphs:\n",
    "    k = int(graph.split('/')[-2].split('k')[-1])\n",
    "    try:\n",
    "        num_kmers, peak_ram = get_kmers_and_ram_succinct(graph)\n",
    "    except:\n",
    "        print('error in', graph)\n",
    "        continue\n",
    "    num_kmers_array.append(num_kmers)\n",
    "    peak_ram_array.append(peak_ram)\n",
    "    k_array.append(k)\n",
    "\n",
    "new_results = pd.DataFrame(columns=results.columns,\n",
    "                           data=zip(['succinct'] * len(num_kmers_array),\n",
    "                                    k_array,\n",
    "                                    num_kmers_array,\n",
    "                                    peak_ram_array))\n",
    "\n",
    "results = results.append(new_results)\n",
    "results.shape[0]"
   ]
  },
  {
   "cell_type": "markdown",
   "metadata": {},
   "source": [
    "### Bitmap"
   ]
  },
  {
   "cell_type": "code",
   "execution_count": 6,
   "metadata": {
    "ExecuteTime": {
     "end_time": "2019-04-10T09:47:39.203737Z",
     "start_time": "2019-04-10T09:47:39.107449Z"
    }
   },
   "outputs": [
    {
     "data": {
      "text/plain": [
       "(2347461599, 2061880)"
      ]
     },
     "execution_count": 6,
     "metadata": {},
     "output_type": "execute_result"
    }
   ],
   "source": [
    "def get_kmers_and_ram(stats_file):\n",
    "    with open(stats_file, 'r') as f:\n",
    "        stats = f.read().strip()\n",
    "    stats = stats.split('\\n')\n",
    "    num_kmers = int(stats[-26].split()[-1])\n",
    "    peak_ram = int(stats[-14].split()[-1])\n",
    "    return num_kmers, peak_ram\n",
    "\n",
    "get_kmers_and_ram(DATA_DIR + '/subgraphs_k17/subset_10_bitmap.bitmapdbg.stats')"
   ]
  },
  {
   "cell_type": "code",
   "execution_count": 7,
   "metadata": {
    "ExecuteTime": {
     "end_time": "2019-04-10T09:47:41.028576Z",
     "start_time": "2019-04-10T09:47:39.205664Z"
    },
    "scrolled": true
   },
   "outputs": [
    {
     "data": {
      "text/plain": [
       "408"
      ]
     },
     "execution_count": 7,
     "metadata": {},
     "output_type": "execute_result"
    }
   ],
   "source": [
    "graphs = !ls $DATA_DIR/subgraphs_k*/*.bitmapdbg.stats\n",
    "\n",
    "num_kmers_array = []\n",
    "peak_ram_array = []\n",
    "k_array = []\n",
    "\n",
    "for graph in graphs:\n",
    "    k = int(graph.split('/')[-2].split('k')[-1])\n",
    "    try:\n",
    "        num_kmers, peak_ram = get_kmers_and_ram(graph)\n",
    "    except:\n",
    "        print('error in', graph)\n",
    "        continue\n",
    "    num_kmers_array.append(num_kmers)\n",
    "    peak_ram_array.append(peak_ram)\n",
    "    k_array.append(k)\n",
    "\n",
    "new_results = pd.DataFrame(columns=results.columns,\n",
    "                           data=zip(['bitmap'] * len(num_kmers_array),\n",
    "                                    k_array,\n",
    "                                    num_kmers_array,\n",
    "                                    peak_ram_array))\n",
    "\n",
    "results = results.append(new_results)\n",
    "results.shape[0]"
   ]
  },
  {
   "cell_type": "markdown",
   "metadata": {},
   "source": [
    "### Hash"
   ]
  },
  {
   "cell_type": "code",
   "execution_count": 8,
   "metadata": {
    "ExecuteTime": {
     "end_time": "2019-04-10T09:47:41.947164Z",
     "start_time": "2019-04-10T09:47:41.031023Z"
    }
   },
   "outputs": [
    {
     "name": "stdout",
     "output_type": "stream",
     "text": [
      "error in /cluster/work/grlab/projects/metagenome/data/refseq/refseq_var_k/subgraphs_k17/subset_9_hash.orhashdbg.stats\n",
      "error in /cluster/work/grlab/projects/metagenome/data/refseq/refseq_var_k/subgraphs_k29/subset_10_hash.orhashdbg.stats\n",
      "error in /cluster/work/grlab/projects/metagenome/data/refseq/refseq_var_k/subgraphs_k71/subset_15_hash.orhashdbg.stats\n"
     ]
    },
    {
     "data": {
      "text/plain": [
       "468"
      ]
     },
     "execution_count": 8,
     "metadata": {},
     "output_type": "execute_result"
    }
   ],
   "source": [
    "graphs = !ls $DATA_DIR/subgraphs_k*/*.orhashdbg.stats\n",
    "\n",
    "num_kmers_array = []\n",
    "peak_ram_array = []\n",
    "k_array = []\n",
    "\n",
    "for graph in graphs:\n",
    "    k = int(graph.split('/')[-2].split('k')[-1])\n",
    "    try:\n",
    "        num_kmers, peak_ram = get_kmers_and_ram(graph)\n",
    "    except:\n",
    "        print('error in', graph)\n",
    "        continue\n",
    "    num_kmers_array.append(num_kmers)\n",
    "    peak_ram_array.append(peak_ram)\n",
    "    k_array.append(k)\n",
    "\n",
    "new_results = pd.DataFrame(columns=results.columns,\n",
    "                           data=zip(['hash'] * len(num_kmers_array),\n",
    "                                    k_array,\n",
    "                                    num_kmers_array,\n",
    "                                    peak_ram_array))\n",
    "\n",
    "results = results.append(new_results)\n",
    "results.shape[0]"
   ]
  },
  {
   "cell_type": "markdown",
   "metadata": {},
   "source": [
    "### Plot"
   ]
  },
  {
   "cell_type": "code",
   "execution_count": 9,
   "metadata": {
    "ExecuteTime": {
     "end_time": "2019-04-10T09:47:48.274537Z",
     "start_time": "2019-04-10T09:47:43.192426Z"
    }
   },
   "outputs": [
    {
     "data": {
      "image/png": "[encoded data removed]",
      "text/plain": [
       "<Figure size 815.958x226.935 with 2 Axes>"
      ]
     },
     "metadata": {
      "needs_background": "light"
     },
     "output_type": "display_data"
    }
   ],
   "source": [
    "width = 3.487 * 1.5 * 1.3\n",
    "height = width / 1.618 * 3 / 4\n",
    "\n",
    "fig, axes = plt.subplots(1, 2, figsize=(width / 1.2 * 2, height))\n",
    "#ax.set_title('RefSeq graph, with replaced \\'N\\'s')\n",
    "#ax.set_title('RefSeq assembly graph')\n",
    "\n",
    "results.sort_values('num_kmers', inplace=True)\n",
    "\n",
    "colors = ['c', 'b', 'g', 'r']\n",
    "\n",
    "ax = axes[0]\n",
    "for ax in axes:\n",
    "    df = results[(results.representation == 'succinct') & (results.k == 17)]\n",
    "    ax.plot(df.num_kmers, df.RAM / 10**6, colors[0], marker='o', label='SuccinctDBG, k=17')\n",
    "\n",
    "    df = results[(results.representation == 'succinct') & (results.k == 29)]\n",
    "    ax.plot(df.num_kmers, df.RAM / 10**6, colors[1], marker='o', label='SuccinctDBG, k=29')\n",
    "\n",
    "    df = results[(results.representation == 'succinct') & (results.k == 35)]\n",
    "    ax.plot(df.num_kmers, df.RAM / 10**6, colors[2], marker='o', label='SuccinctDBG, k=35')\n",
    "\n",
    "    df = results[(results.representation == 'succinct') & (results.k == 71)]\n",
    "    ax.plot(df.num_kmers, df.RAM / 10**6, colors[3], marker='o', label='SuccinctDBG, k=71')\n",
    "\n",
    "\n",
    "\n",
    "    df = results[(results.representation == 'bitmap') & (results.k == 17)]\n",
    "    ax.plot(df.num_kmers, df.RAM / 10**6, colors[0], marker='v', label='BitmapDBG, k=17')\n",
    "\n",
    "    df = results[(results.representation == 'bitmap') & (results.k == 29)]\n",
    "    ax.plot(df.num_kmers, df.RAM / 10**6, colors[1], marker='v', label='BitmapDBG, k=29')\n",
    "\n",
    "#     df = results[(results.representation == 'bitmap') & (results.k == 35)]\n",
    "#     ax.plot(df.num_kmers, df.RAM / 10**6, colors[2], marker='v', label='BitmapDBG, k=35')\n",
    "\n",
    "#     df = results[(results.representation == 'bitmap') & (results.k == 71)]\n",
    "#     ax.plot(df.num_kmers, df.RAM / 10**6, colors[3], marker='v', label='BitmapDBG, k=71')\n",
    "\n",
    "\n",
    "\n",
    "    df = results[(results.representation == 'hash') & (results.k == 17)]\n",
    "    ax.plot(df.num_kmers, df.RAM / 10**6, colors[0], marker='x', label='HashDBG, k=17')\n",
    "\n",
    "    df = results[(results.representation == 'hash') & (results.k == 29)]\n",
    "    ax.plot(df.num_kmers, df.RAM / 10**6, colors[1], marker='x', label='HashDBG, k=29')\n",
    "\n",
    "    df = results[(results.representation == 'hash') & (results.k == 35)]\n",
    "    ax.plot(df.num_kmers, df.RAM / 10**6, colors[2], marker='x', label='HashDBG, k=35')\n",
    "\n",
    "    df = results[(results.representation == 'hash') & (results.k == 71)]\n",
    "    ax.plot(df.num_kmers, df.RAM / 10**6, colors[3], marker='x', label='HashDBG, k=71')\n",
    "\n",
    "    ax.set_xlabel('Number of k-mers')\n",
    "    ax.set_ylabel('Graph size in RAM, Gb')\n",
    "    ax.set_xlim([-1e9, 25e9])\n",
    "    #ax.set_xticks(np.array(k_array))\n",
    "    ax.grid(True)\n",
    "#     ax.legend(loc='best')\n",
    "\n",
    "axes[1].legend(bbox_to_anchor=(1.04,1), loc=\"upper left\")\n",
    "axes[0].set_ylim([-5, 75])\n",
    "axes[1].set_ylim([-1e-1, 75])\n",
    "axes[1].set_yscale('symlog')\n",
    "\n",
    "plt.tight_layout()\n",
    "plt.savefig('graph_input_scalability.pdf', format='pdf', bbox_inches='tight')\n",
    "plt.show()"
   ]
  },
  {
   "cell_type": "markdown",
   "metadata": {},
   "source": [
    "## Variable $k$"
   ]
  },
  {
   "cell_type": "code",
   "execution_count": 10,
   "metadata": {
    "ExecuteTime": {
     "end_time": "2019-04-10T09:47:48.313772Z",
     "start_time": "2019-04-10T09:47:48.277798Z"
    }
   },
   "outputs": [],
   "source": [
    "results = pd.DataFrame(columns=['representation', 'k', 'num_kmers', 'RAM'])"
   ]
  },
  {
   "cell_type": "markdown",
   "metadata": {},
   "source": [
    "### Succinct"
   ]
  },
  {
   "cell_type": "code",
   "execution_count": 11,
   "metadata": {
    "ExecuteTime": {
     "end_time": "2019-04-10T09:47:49.553598Z",
     "start_time": "2019-04-10T09:47:48.316799Z"
    },
    "scrolled": true
   },
   "outputs": [
    {
     "data": {
      "text/plain": [
       "76"
      ]
     },
     "execution_count": 11,
     "metadata": {},
     "output_type": "execute_result"
    }
   ],
   "source": [
    "graphs = !ls $DATA_DIR/complete.1161.1.genomic.fna.gz/complete.1161.1.genomic.fna.gz.k*/*.dbg.stats\n",
    "\n",
    "num_kmers_array = []\n",
    "peak_ram_array = []\n",
    "k_array = []\n",
    "\n",
    "for graph in graphs:\n",
    "    k = int(graph.split('/')[-2].split('k')[-1])\n",
    "    try:\n",
    "        num_kmers, peak_ram = get_kmers_and_ram_succinct(graph)\n",
    "    except:\n",
    "        print('error in', graph)\n",
    "        continue\n",
    "    num_kmers_array.append(num_kmers)\n",
    "    peak_ram_array.append(peak_ram)\n",
    "    k_array.append(k)\n",
    "\n",
    "new_results = pd.DataFrame(columns=results.columns,\n",
    "                           data=zip(['succinct'] * len(num_kmers_array),\n",
    "                                    k_array,\n",
    "                                    num_kmers_array,\n",
    "                                    peak_ram_array))\n",
    "\n",
    "results = results.append(new_results)\n",
    "results.shape[0]"
   ]
  },
  {
   "cell_type": "markdown",
   "metadata": {},
   "source": [
    "### Bitmap"
   ]
  },
  {
   "cell_type": "code",
   "execution_count": 12,
   "metadata": {
    "ExecuteTime": {
     "end_time": "2019-04-10T09:47:49.970592Z",
     "start_time": "2019-04-10T09:47:49.555934Z"
    },
    "scrolled": true
   },
   "outputs": [
    {
     "data": {
      "text/plain": [
       "98"
      ]
     },
     "execution_count": 12,
     "metadata": {},
     "output_type": "execute_result"
    }
   ],
   "source": [
    "graphs = !ls $DATA_DIR/complete.1161.1.genomic.fna.gz/complete.1161.1.genomic.fna.gz.k*/*.bitmapdbg.stats\n",
    "\n",
    "num_kmers_array = []\n",
    "peak_ram_array = []\n",
    "k_array = []\n",
    "\n",
    "for graph in graphs:\n",
    "    k = int(graph.split('/')[-2].split('k')[-1])\n",
    "    try:\n",
    "        num_kmers, peak_ram = get_kmers_and_ram(graph)\n",
    "    except:\n",
    "        print('error in', graph)\n",
    "        continue\n",
    "    num_kmers_array.append(num_kmers)\n",
    "    peak_ram_array.append(peak_ram)\n",
    "    k_array.append(k)\n",
    "\n",
    "new_results = pd.DataFrame(columns=results.columns,\n",
    "                           data=zip(['bitmap'] * len(num_kmers_array),\n",
    "                                    k_array,\n",
    "                                    num_kmers_array,\n",
    "                                    peak_ram_array))\n",
    "\n",
    "results = results.append(new_results)\n",
    "results.shape[0]"
   ]
  },
  {
   "cell_type": "markdown",
   "metadata": {},
   "source": [
    "### Hash"
   ]
  },
  {
   "cell_type": "code",
   "execution_count": 13,
   "metadata": {
    "ExecuteTime": {
     "end_time": "2019-04-10T09:47:51.331825Z",
     "start_time": "2019-04-10T09:47:49.973215Z"
    },
    "scrolled": true
   },
   "outputs": [
    {
     "data": {
      "text/plain": [
       "174"
      ]
     },
     "execution_count": 13,
     "metadata": {},
     "output_type": "execute_result"
    }
   ],
   "source": [
    "graphs = !ls $DATA_DIR/complete.1161.1.genomic.fna.gz/complete.1161.1.genomic.fna.gz.k*/*.orhashdbg.stats\n",
    "\n",
    "num_kmers_array = []\n",
    "peak_ram_array = []\n",
    "k_array = []\n",
    "\n",
    "for graph in graphs:\n",
    "    k = int(graph.split('/')[-2].split('k')[-1])\n",
    "    try:\n",
    "        num_kmers, peak_ram = get_kmers_and_ram(graph)\n",
    "    except:\n",
    "        print('error in', graph)\n",
    "        continue\n",
    "    num_kmers_array.append(num_kmers)\n",
    "    peak_ram_array.append(peak_ram)\n",
    "    k_array.append(k)\n",
    "\n",
    "new_results = pd.DataFrame(columns=results.columns,\n",
    "                           data=zip(['hash'] * len(num_kmers_array),\n",
    "                                    k_array,\n",
    "                                    num_kmers_array,\n",
    "                                    peak_ram_array))\n",
    "\n",
    "results = results.append(new_results)\n",
    "results.shape[0]"
   ]
  },
  {
   "cell_type": "code",
   "execution_count": 14,
   "metadata": {
    "ExecuteTime": {
     "end_time": "2019-04-10T09:47:51.522639Z",
     "start_time": "2019-04-10T09:47:51.334778Z"
    },
    "scrolled": true
   },
   "outputs": [
    {
     "data": {
      "text/plain": [
       "182"
      ]
     },
     "execution_count": 14,
     "metadata": {},
     "output_type": "execute_result"
    }
   ],
   "source": [
    "graphs = !ls $DATA_DIR/complete.1161.1.genomic.fna.gz/complete.1161.1.genomic.fna.gz.k*/*.hashstrdbg.stats\n",
    "\n",
    "num_kmers_array = []\n",
    "peak_ram_array = []\n",
    "k_array = []\n",
    "\n",
    "for graph in graphs:\n",
    "    k = int(graph.split('/')[-2].split('k')[-1])\n",
    "    try:\n",
    "        num_kmers, peak_ram = get_kmers_and_ram(graph)\n",
    "    except:\n",
    "        print('error in', graph)\n",
    "        continue\n",
    "    num_kmers_array.append(num_kmers)\n",
    "    peak_ram_array.append(peak_ram)\n",
    "    k_array.append(k)\n",
    "\n",
    "new_results = pd.DataFrame(columns=results.columns,\n",
    "                           data=zip(['hashstr'] * len(num_kmers_array),\n",
    "                                    k_array,\n",
    "                                    num_kmers_array,\n",
    "                                    peak_ram_array))\n",
    "\n",
    "results = results.append(new_results)\n",
    "results.shape[0]"
   ]
  },
  {
   "cell_type": "markdown",
   "metadata": {},
   "source": [
    "### Plot"
   ]
  },
  {
   "cell_type": "code",
   "execution_count": 15,
   "metadata": {
    "ExecuteTime": {
     "end_time": "2019-04-10T09:47:53.235497Z",
     "start_time": "2019-04-10T09:47:51.525217Z"
    },
    "scrolled": true
   },
   "outputs": [
    {
     "data": {
      "image/png": "[encoded data removed]",
      "text/plain": [
       "<Figure size 627.66x232.754 with 2 Axes>"
      ]
     },
     "metadata": {
      "needs_background": "light"
     },
     "output_type": "display_data"
    }
   ],
   "source": [
    "width = 3.487 * 1.5\n",
    "height = width / 1.618\n",
    "\n",
    "fig, axes = plt.subplots(1, 2, figsize=(width / 1.2 * 2, height))\n",
    "#ax.set_title('RefSeq graph, with replaced \\'N\\'s')\n",
    "#ax.set_title('RefSeq assembly graph')\n",
    "\n",
    "results['RAM/k-mer'] = results.RAM / results.num_kmers\n",
    "results.sort_values('RAM/k-mer', inplace=True)\n",
    "results.sort_values('k', inplace=True)\n",
    "\n",
    "colors = ['c', 'b', 'g', 'r']\n",
    "\n",
    "ax = axes[0]\n",
    "for ax in axes:\n",
    "    df = results[(results.representation == 'succinct')]\n",
    "    ax.plot(df['k'], df['RAM/k-mer'] * 1000, colors[0], marker='', label='SuccinctDBG')\n",
    "\n",
    "    df = results[(results.representation == 'bitmap')]\n",
    "    ax.plot(df['k'], df['RAM/k-mer'] * 1000, colors[1], marker='', label='BitmapDBG')\n",
    "\n",
    "    df = results[(results.representation == 'hash')]\n",
    "    ax.plot(df['k'], df['RAM/k-mer'] * 1000, colors[2], marker='', label='HashDBG')\n",
    "\n",
    "    df = results[(results.representation == 'hashstr')]\n",
    "    ax.plot(df['k'], df['RAM/k-mer'] * 1000, colors[3], marker='', label='HashStrDBG')\n",
    "\n",
    "    ax.set_xlabel('k')\n",
    "    ax.set_ylabel('RAM per k-mer, bytes')\n",
    "    ax.set_xlim([5, 80])\n",
    "    #ax.set_xticks(np.array(k_array))\n",
    "    ax.grid(True)\n",
    "    ax.legend(loc='best')\n",
    "\n",
    "# axes[0].set_ylim([-5, 75])\n",
    "# axes[1].set_ylim([-1e-1, 75])\n",
    "axes[1].set_yscale('symlog')\n",
    "\n",
    "plt.tight_layout()\n",
    "plt.savefig('graph_growth_k.pdf', format='pdf', bbox_inches='tight')\n",
    "plt.show()"
   ]
  },
  {
   "cell_type": "markdown",
   "metadata": {},
   "source": [
    "## Ref-Seq assembly data"
   ]
  },
  {
   "cell_type": "code",
   "execution_count": 2,
   "metadata": {
    "ExecuteTime": {
     "end_time": "2018-09-21T09:24:12.766712Z",
     "start_time": "2018-09-21T09:24:12.752737Z"
    }
   },
   "outputs": [],
   "source": [
    "k_array = np.arange(10, 24)"
   ]
  },
  {
   "cell_type": "code",
   "execution_count": 3,
   "metadata": {
    "ExecuteTime": {
     "end_time": "2018-09-21T09:24:13.415020Z",
     "start_time": "2018-09-21T09:24:13.277419Z"
    }
   },
   "outputs": [
    {
     "name": "stdout",
     "output_type": "stream",
     "text": [
      "/cluster/home/mikhaika/big_graph/refseq/refseq_k10/graph_refseq_k10.dbg\r\n"
     ]
    }
   ],
   "source": [
    "!ls ~/big_graph/refseq/refseq_k10/graph_refseq_k10.dbg"
   ]
  },
  {
   "cell_type": "code",
   "execution_count": 4,
   "metadata": {
    "ExecuteTime": {
     "end_time": "2018-09-21T09:24:13.651978Z",
     "start_time": "2018-09-21T09:24:13.606865Z"
    },
    "scrolled": true
   },
   "outputs": [
    {
     "data": {
      "text/plain": [
       "[5017397,\n",
       " 19957085,\n",
       " 79716413,\n",
       " 318783677,\n",
       " 1275200189,\n",
       " 5100406198,\n",
       " 20193422370,\n",
       " 70555357553,\n",
       " 180029209052,\n",
       " 320880966947,\n",
       " 424795775328,\n",
       " 470859116657,\n",
       " 490467611111,\n",
       " 503062440506]"
      ]
     },
     "execution_count": 4,
     "metadata": {},
     "output_type": "execute_result"
    }
   ],
   "source": [
    "sizes = [os.path.getsize('../big_graph/refseq/refseq_k{}/graph_refseq_k{}.dbg'.format(x, x))\n",
    "             for x in k_array]\n",
    "sizes"
   ]
  },
  {
   "cell_type": "code",
   "execution_count": 5,
   "metadata": {
    "ExecuteTime": {
     "end_time": "2018-09-21T09:24:13.969724Z",
     "start_time": "2018-09-21T09:24:13.954641Z"
    }
   },
   "outputs": [],
   "source": [
    "num_edges = [4194305,\n",
    "16777217,\n",
    "67108865,\n",
    "268435457,\n",
    "1073741825,\n",
    "4294807964,\n",
    "17004180213,\n",
    "58827897766,\n",
    "147478598494,\n",
    "261992234631,\n",
    "355110450523,\n",
    "411025684461,\n",
    "441788978532,\n",
    "459869414309,\n",
    "]"
   ]
  },
  {
   "cell_type": "code",
   "execution_count": 6,
   "metadata": {
    "ExecuteTime": {
     "end_time": "2018-09-21T09:24:17.731664Z",
     "start_time": "2018-09-21T09:24:14.184833Z"
    },
    "scrolled": true
   },
   "outputs": [
    {
     "data": {
      "image/png": "[encoded data removed]",
      "text/plain": [
       "<Figure size 313.83x232.754 with 2 Axes>"
      ]
     },
     "metadata": {
      "needs_background": "light"
     },
     "output_type": "display_data"
    }
   ],
   "source": [
    "width = 3.487 * 1.5\n",
    "height = width / 1.618\n",
    "\n",
    "fig, ax = plt.subplots(1, 1, figsize=(width / 1.2, height))\n",
    "#ax.set_title('RefSeq graph, with replaced \\'N\\'s')\n",
    "#ax.set_title('RefSeq assembly graph')\n",
    "\n",
    "ax.plot(np.array(k_array), np.array(sizes) / 2**20, marker='o', label='size', c='b')\n",
    "ax.set_yscale('log')\n",
    "ax.set_ylabel('Graph size (fast), Mb')\n",
    "ax.set_xlabel('k, the BOSS node size')\n",
    "ax.set_xticks(np.array(k_array))\n",
    "ax.grid(True)\n",
    "ax.legend(loc='center left')\n",
    "\n",
    "ax2 = ax.twinx()\n",
    "ax2.plot(np.array(k_array), num_edges / 4 ** (np.array(k_array) + 1), marker='x', label='density', c='g')\n",
    "#ax2.set_yscale('log')\n",
    "ax2.set_ylabel('Graph density')\n",
    "ax2.legend(loc='center right')\n",
    "\n",
    "plt.tight_layout()\n",
    "plt.savefig('refseq_scalability.pdf', format='pdf', bbox_inches='tight')\n",
    "plt.show()"
   ]
  },
  {
   "cell_type": "markdown",
   "metadata": {},
   "source": [
    "### Kingsford data"
   ]
  },
  {
   "cell_type": "code",
   "execution_count": 7,
   "metadata": {
    "ExecuteTime": {
     "end_time": "2018-09-21T09:24:17.750651Z",
     "start_time": "2018-09-21T09:24:17.734552Z"
    }
   },
   "outputs": [],
   "source": [
    "k_array = np.concatenate((np.arange(5, 21), np.arange(22, 34, 2)))"
   ]
  },
  {
   "cell_type": "code",
   "execution_count": 8,
   "metadata": {
    "ExecuteTime": {
     "end_time": "2018-09-21T09:24:17.882575Z",
     "start_time": "2018-09-21T09:24:17.753285Z"
    }
   },
   "outputs": [
    {
     "name": "stdout",
     "output_type": "stream",
     "text": [
      "ls: cannot access '/cluster/home/mikhaika/big_graph/kingsford/var_k/graph_kingsford_k*.dbg': No such file or directory\r\n"
     ]
    }
   ],
   "source": [
    "!ls ~/big_graph/kingsford/var_k/graph_kingsford_k*.dbg"
   ]
  },
  {
   "cell_type": "code",
   "execution_count": 9,
   "metadata": {
    "ExecuteTime": {
     "end_time": "2018-09-21T09:24:17.985807Z",
     "start_time": "2018-09-21T09:24:17.885154Z"
    },
    "scrolled": true
   },
   "outputs": [
    {
     "ename": "FileNotFoundError",
     "evalue": "[Errno 2] No such file or directory: '../big_graph/kingsford/var_k/graph_kingsford_k5.dbg'",
     "output_type": "error",
     "traceback": [
      "\u001b[0;31m---------------------------------------------------------------------------\u001b[0m",
      "\u001b[0;31mFileNotFoundError\u001b[0m                         Traceback (most recent call last)",
      "\u001b[0;32m<ipython-input-9-c6457c9ca123>\u001b[0m in \u001b[0;36m<module>\u001b[0;34m()\u001b[0m\n\u001b[0;32m----> 1\u001b[0;31m \u001b[0msizes\u001b[0m \u001b[0;34m=\u001b[0m \u001b[0;34m[\u001b[0m\u001b[0mos\u001b[0m\u001b[0;34m.\u001b[0m\u001b[0mpath\u001b[0m\u001b[0;34m.\u001b[0m\u001b[0mgetsize\u001b[0m\u001b[0;34m(\u001b[0m\u001b[0;34m'../big_graph/kingsford/var_k/graph_kingsford_k{}.dbg'\u001b[0m\u001b[0;34m.\u001b[0m\u001b[0mformat\u001b[0m\u001b[0;34m(\u001b[0m\u001b[0mx\u001b[0m\u001b[0;34m,\u001b[0m \u001b[0mx\u001b[0m\u001b[0;34m)\u001b[0m\u001b[0;34m)\u001b[0m \u001b[0;32mfor\u001b[0m \u001b[0mx\u001b[0m \u001b[0;32min\u001b[0m \u001b[0mk_array\u001b[0m\u001b[0;34m]\u001b[0m\u001b[0;34m\u001b[0m\u001b[0m\n\u001b[0m\u001b[1;32m      2\u001b[0m \u001b[0msizes\u001b[0m\u001b[0;34m\u001b[0m\u001b[0m\n",
      "\u001b[0;32m<ipython-input-9-c6457c9ca123>\u001b[0m in \u001b[0;36m<listcomp>\u001b[0;34m(.0)\u001b[0m\n\u001b[0;32m----> 1\u001b[0;31m \u001b[0msizes\u001b[0m \u001b[0;34m=\u001b[0m \u001b[0;34m[\u001b[0m\u001b[0mos\u001b[0m\u001b[0;34m.\u001b[0m\u001b[0mpath\u001b[0m\u001b[0;34m.\u001b[0m\u001b[0mgetsize\u001b[0m\u001b[0;34m(\u001b[0m\u001b[0;34m'../big_graph/kingsford/var_k/graph_kingsford_k{}.dbg'\u001b[0m\u001b[0;34m.\u001b[0m\u001b[0mformat\u001b[0m\u001b[0;34m(\u001b[0m\u001b[0mx\u001b[0m\u001b[0;34m,\u001b[0m \u001b[0mx\u001b[0m\u001b[0;34m)\u001b[0m\u001b[0;34m)\u001b[0m \u001b[0;32mfor\u001b[0m \u001b[0mx\u001b[0m \u001b[0;32min\u001b[0m \u001b[0mk_array\u001b[0m\u001b[0;34m]\u001b[0m\u001b[0;34m\u001b[0m\u001b[0m\n\u001b[0m\u001b[1;32m      2\u001b[0m \u001b[0msizes\u001b[0m\u001b[0;34m\u001b[0m\u001b[0m\n",
      "\u001b[0;32m~/anaconda3/lib/python3.6/genericpath.py\u001b[0m in \u001b[0;36mgetsize\u001b[0;34m(filename)\u001b[0m\n\u001b[1;32m     48\u001b[0m \u001b[0;32mdef\u001b[0m \u001b[0mgetsize\u001b[0m\u001b[0;34m(\u001b[0m\u001b[0mfilename\u001b[0m\u001b[0;34m)\u001b[0m\u001b[0;34m:\u001b[0m\u001b[0;34m\u001b[0m\u001b[0m\n\u001b[1;32m     49\u001b[0m     \u001b[0;34m\"\"\"Return the size of a file, reported by os.stat().\"\"\"\u001b[0m\u001b[0;34m\u001b[0m\u001b[0m\n\u001b[0;32m---> 50\u001b[0;31m     \u001b[0;32mreturn\u001b[0m \u001b[0mos\u001b[0m\u001b[0;34m.\u001b[0m\u001b[0mstat\u001b[0m\u001b[0;34m(\u001b[0m\u001b[0mfilename\u001b[0m\u001b[0;34m)\u001b[0m\u001b[0;34m.\u001b[0m\u001b[0mst_size\u001b[0m\u001b[0;34m\u001b[0m\u001b[0m\n\u001b[0m\u001b[1;32m     51\u001b[0m \u001b[0;34m\u001b[0m\u001b[0m\n\u001b[1;32m     52\u001b[0m \u001b[0;34m\u001b[0m\u001b[0m\n",
      "\u001b[0;31mFileNotFoundError\u001b[0m: [Errno 2] No such file or directory: '../big_graph/kingsford/var_k/graph_kingsford_k5.dbg'"
     ]
    }
   ],
   "source": [
    "sizes = [os.path.getsize('../big_graph/kingsford/var_k/graph_kingsford_k{}.dbg'.format(x, x)) for x in k_array]\n",
    "sizes"
   ]
  },
  {
   "cell_type": "code",
   "execution_count": null,
   "metadata": {
    "ExecuteTime": {
     "end_time": "2018-09-21T09:24:17.986518Z",
     "start_time": "2018-09-21T09:24:15.188Z"
    }
   },
   "outputs": [],
   "source": [
    "num_edges = [15626,\n",
    "78126,\n",
    "390617,\n",
    "1902278,\n",
    "7468325,\n",
    "24194804,\n",
    "72215346,\n",
    "197636600,\n",
    "512173368,\n",
    "1326508825,\n",
    "2934716087,\n",
    "4955736317,\n",
    "6790193411,\n",
    "8184346383,\n",
    "9226858039,\n",
    "10082499128,\n",
    "10868326297,\n",
    "11479986324,\n",
    "12901835746,\n",
    "14190173930,\n",
    "15700483703,\n",
    "17261067050,\n",
    "]"
   ]
  },
  {
   "cell_type": "code",
   "execution_count": null,
   "metadata": {
    "ExecuteTime": {
     "end_time": "2018-09-21T09:24:17.987435Z",
     "start_time": "2018-09-21T09:24:15.369Z"
    },
    "scrolled": true
   },
   "outputs": [],
   "source": [
    "width = 3.487 * 1.5\n",
    "height = width / 1.618\n",
    "\n",
    "fig, ax = plt.subplots(1, 1, figsize=(width / 1.2, height))\n",
    "#ax.set_title('Kingsford graph, with replaced \\'N\\'s')\n",
    "#ax.set_title('Kingsford assembly graph')\n",
    "\n",
    "ax.plot(np.array(k_array), np.array(sizes) / 2**20, marker='o', label='size', c='b')\n",
    "ax.set_yscale('log')\n",
    "ax.set_ylabel('Graph size (fast), Mb')\n",
    "ax.set_xlabel('k, the BOSS node size')\n",
    "#ax.set_xticks(np.array(k_array))\n",
    "ax.set_xticks([6, 8, 10, 12, 14, 16, 18, 20, 22, 24, 26, 28, 30, 32])\n",
    "ax.grid(True)\n",
    "ax.legend(loc=(0.7, 0.75))\n",
    "\n",
    "ax2 = ax.twinx()\n",
    "ax2.plot(np.array(k_array), num_edges / 5 ** (np.array(k_array) + 1), marker='x', label='density', c='g')\n",
    "#ax2.set_yscale('log')\n",
    "ax2.set_ylabel('Graph density')\n",
    "ax2.legend(loc=(0.6, 0.1))\n",
    "\n",
    "plt.tight_layout()\n",
    "plt.savefig('kingsford_scalability.pdf', format='pdf', bbox_inches='tight')\n",
    "plt.show()"
   ]
  },
  {
   "cell_type": "markdown",
   "metadata": {},
   "source": [
    "### Plots"
   ]
  },
  {
   "cell_type": "code",
   "execution_count": null,
   "metadata": {
    "ExecuteTime": {
     "end_time": "2018-09-21T09:24:17.988072Z",
     "start_time": "2018-09-21T09:24:15.951Z"
    }
   },
   "outputs": [],
   "source": [
    "k_array_refseq = np.arange(10, 24)\n",
    "sizes_refseq = [os.path.getsize('../big_graph/refseq/refseq_k{}/graph_refseq_k{}.dbg'.format(x, x)) for x in k_array_refseq]\n",
    "num_edges_refseq = [4194305,\n",
    "16777217,\n",
    "67108865,\n",
    "268435457,\n",
    "1073741825,\n",
    "4294807964,\n",
    "17004180213,\n",
    "58827897766,\n",
    "147478598494,\n",
    "261992234631,\n",
    "355110450523,\n",
    "411025684461,\n",
    "441788978532,\n",
    "459869414309,\n",
    "]"
   ]
  },
  {
   "cell_type": "code",
   "execution_count": null,
   "metadata": {
    "ExecuteTime": {
     "end_time": "2018-09-21T09:24:17.989716Z",
     "start_time": "2018-09-21T09:24:16.221Z"
    }
   },
   "outputs": [],
   "source": [
    "width = 3.487 * 1.5\n",
    "height = width / 1.618\n",
    "\n",
    "fig, ax = plt.subplots(1, 1, figsize=(width / 1.2, height))\n",
    "#ax.set_title('RefSeq graph, with replaced \\'N\\'s')\n",
    "#ax.set_title('RefSeq assembly graph')\n",
    "\n",
    "ax1_plot1 = ax.plot(np.array(k_array_refseq), np.array(sizes_refseq) / 2**20, marker='o', label='RS: size', c='b')\n",
    "ax1_plot2 = ax.plot(np.array(k_array), np.array(sizes) / 2**20, marker='o', label='KF: size', c='r')\n",
    "ax.set_yscale('log')\n",
    "ax.set_ylabel('Graph size (fast), Mb')\n",
    "ax.set_xlabel('$k$, the BOSS node size')\n",
    "#ax.set_xticks(np.array(k_array))\n",
    "ax.set_xticks([6, 8, 10, 12, 14, 16, 18, 20, 22, 24, 26, 28, 30, 32])\n",
    "ax.grid(True)\n",
    "\n",
    "ax2 = ax.twinx()\n",
    "ax2_plot1 = ax2.plot(np.array(k_array_refseq), num_edges_refseq / 4 ** (np.array(k_array_refseq) + 1), marker='x', label='RS: density', c='b')\n",
    "ax2_plot2 = ax2.plot(np.array(k_array), num_edges / 5 ** (np.array(k_array) + 1), marker='x', label='KF: density', c='r')\n",
    "#ax2.set_yscale('log')\n",
    "ax2.set_ylabel('Graph density')\n",
    "\n",
    "lns = ax1_plot1 + ax1_plot2 + ax2_plot1 + ax2_plot2\n",
    "labs = [l.get_label() for l in lns]\n",
    "ax.legend(lns, labs, loc='center right')\n",
    "\n",
    "plt.tight_layout()\n",
    "plt.savefig('graph_k_scalability.pdf', format='pdf', bbox_inches='tight')\n",
    "plt.show()"
   ]
  }
 ],
 "metadata": {
  "kernelspec": {
   "display_name": "Python 3",
   "language": "python",
   "name": "python3"
  },
  "language_info": {
   "codemirror_mode": {
    "name": "ipython",
    "version": 3
   },
   "file_extension": ".py",
   "mimetype": "text/x-python",
   "name": "python",
   "nbconvert_exporter": "python",
   "pygments_lexer": "ipython3",
   "version": "3.6.8"
  },
  "toc": {
   "nav_menu": {},
   "number_sections": true,
   "sideBar": true,
   "skip_h1_title": true,
   "toc_cell": false,
   "toc_position": {
    "height": "1232px",
    "left": "0px",
    "right": "1228px",
    "top": "111px",
    "width": "212px"
   },
   "toc_section_display": "block",
   "toc_window_display": true
  }
 },
 "nbformat": 4,
 "nbformat_minor": 2
}
