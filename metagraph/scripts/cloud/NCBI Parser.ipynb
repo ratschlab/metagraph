{
 "cells": [
  {
   "cell_type": "code",
   "execution_count": 2,
   "metadata": {
    "ExecuteTime": {
     "end_time": "2020-04-30T05:53:51.602918Z",
     "start_time": "2020-04-30T05:53:51.106372Z"
    }
   },
   "outputs": [
    {
     "name": "stdout",
     "output_type": "stream",
     "text": [
      "Counted 10039 failed downloads\n",
      "Total size in MB is  31596910\n",
      "Largest sizes [(209497, 'SRR066134', 'ILLUMINA'), (101782, 'SRR066084', 'ILLUMINA'), (99567, 'SRR071451', 'ILLUMINA'), (77603, 'SRR058901', 'ILLUMINA'), (77232, 'SRR065755', 'ILLUMINA'), (72223, 'SRR3501556', 'ILLUMINA'), (71621, 'SRR065687', 'ILLUMINA'), (64054, 'SRR071866', 'ILLUMINA'), (63905, 'SRR066085', 'ILLUMINA'), (62319, 'SRR8786925', 'ILLUMINA'), (61278, 'SRR6417985', 'ILLUMINA'), (60279, 'SRR065675', 'ILLUMINA'), (59870, 'SRR097413', 'ILLUMINA'), (59580, 'SRR6417986', 'ILLUMINA'), (58711, 'SRR6417984', 'ILLUMINA'), (57722, 'SRR066136', 'ILLUMINA'), (57294, 'SRR097457', 'ILLUMINA'), (54633, 'SRR6039995', 'ILLUMINA'), (54568, 'SRR065737', 'ILLUMINA'), (53687, 'SRR2424017', 'ILLUMINA'), (52678, 'SRR097462', 'ILLUMINA'), (52445, 'SRR065674', 'ILLUMINA'), (52409, 'SRR7892102', 'PACBIO_SMRT'), (51822, 'SRR7262861', 'ILLUMINA'), (51713, 'SRR067883', 'ILLUMINA'), (51421, 'SRR097460', 'ILLUMINA'), (51226, 'SRR072037', 'ILLUMINA'), (50284, 'SRR071310', 'ILLUMINA'), (49992, 'SRR097463', 'ILLUMINA'), (49077, 'SRR065689', 'ILLUMINA'), (48865, 'SRR3880149', 'ILLUMINA'), (47569, 'SRR5206992', 'ILLUMINA'), (46908, 'SRR097458', 'ILLUMINA'), (46567, 'SRR071728', 'ILLUMINA'), (46334, 'SRR060994', 'ILLUMINA'), (45401, 'SRR8236448', 'ILLUMINA'), (45393, 'SRR7159835', 'ILLUMINA'), (45176, 'SRR4136283', 'ILLUMINA'), (45086, 'SRR065671', 'ILLUMINA'), (42779, 'SRR065688', 'ILLUMINA'), (42764, 'SRR072051', 'ILLUMINA'), (41709, 'SRR5666299', 'PACBIO_SMRT'), (41249, 'SRR060853', 'ILLUMINA'), (40803, 'SRR8944096', 'ILLUMINA'), (40318, 'SRR5714735', 'PACBIO_SMRT'), (39626, 'SRR065673', 'ILLUMINA'), (39268, 'SRR3938061', 'ILLUMINA'), (39070, 'SRR8456787', 'ILLUMINA'), (38105, 'SRR8003151', 'ILLUMINA'), (37668, 'SRR8238192', 'ILLUMINA'), (37540, 'SRR065694', 'ILLUMINA'), (37395, 'SRR072052', 'ILLUMINA'), (37178, 'SRR8494489', 'ILLUMINA'), (37103, 'SRR8003153', 'ILLUMINA'), (36862, 'SRR3928183', 'ILLUMINA'), (36799, 'SRR3927474', 'ILLUMINA'), (36699, 'SRR065752', 'ILLUMINA'), (36312, 'SRR8003154', 'ILLUMINA'), (36171, 'SRR8494488', 'ILLUMINA'), (36163, 'SRR426243', 'ILLUMINA'), (36107, 'SRR3928187', 'ILLUMINA'), (35838, 'SRR424264', 'ILLUMINA'), (35762, 'SRR072224', 'ILLUMINA'), (35386, 'SRR424604', 'ILLUMINA'), (35200, 'SRR071388', 'ILLUMINA'), (35174, 'SRR8494490', 'ILLUMINA'), (35061, 'SRR427118', 'ILLUMINA'), (34884, 'SRR8494491', 'ILLUMINA'), (34848, 'SRR427139', 'ILLUMINA'), (34672, 'SRR1765987', 'ILLUMINA'), (34250, 'SRR424569', 'ILLUMINA'), (34200, 'SRR7130396', 'ILLUMINA'), (33958, 'SRR499896', 'ILLUMINA'), (33433, 'SRR3500549', 'ILLUMINA'), (33379, 'SRR8003156', 'ILLUMINA'), (33246, 'SRR2046220', 'ILLUMINA'), (33058, 'SRR3927538', 'ILLUMINA'), (32980, 'SRR1592668', 'ILLUMINA'), (32809, 'SRR8003150', 'ILLUMINA'), (32617, 'SRR8003155', 'ILLUMINA'), (32229, 'SRR8003152', 'ILLUMINA'), (32200, 'SRR444231', 'ILLUMINA'), (32151, 'SRR5666300', 'PACBIO_SMRT'), (32129, 'SRR7130420', 'ILLUMINA'), (31641, 'SRR519094', 'ILLUMINA'), (31637, 'SRR3927183', 'ILLUMINA'), (31549, 'SRR395576', 'ILLUMINA'), (31213, 'SRR404256', 'ILLUMINA'), (31113, 'SRR4061785', 'ILLUMINA'), (31043, 'SRR8003157', 'ILLUMINA'), (30964, 'SRR4061819', 'ILLUMINA'), (30255, 'ERR2604436', 'PACBIO_SMRT'), (30240, 'SRR1292621', 'ILLUMINA'), (30212, 'SRR519093', 'ILLUMINA'), (29938, 'SRR3927079', 'ILLUMINA'), (29881, 'SRR1800844', 'ILLUMINA'), (29377, 'SRR8893159', 'ILLUMINA'), (29269, 'SRR3938058', 'ILLUMINA'), (29193, 'SRR495443', 'ILLUMINA'), (29150, 'SRR4996409', 'ILLUMINA')]\n",
      "Size of first 3000 is  29425135\n",
      "Size of last 100 is  24\n",
      "Illumina total  7782  Illumina top  2197\n"
     ]
    }
   ],
   "source": [
    "fd1 = '/Users/dd/Downloads/.metagraph_run33/failed_download.id'\n",
    "fd2 = '/Users/dd/Downloads/.metagraph_run34/failed_download.id'\n",
    "\n",
    "failed_downloads = set()\n",
    "for str in open(fd1):\n",
    "    failed_downloads.add(str.rstrip())\n",
    "for str in open(fd2):\n",
    "    failed_downloads.add(str.rstrip())\n",
    "    \n",
    "print(f'Counted {len(failed_downloads)} failed downloads')\n",
    "\n",
    "fungi_file = '/Users/dd/Downloads/sra/fungi.4751.2020.04.15.csv'\n",
    "failed_download_size = 0\n",
    "sizes = []\n",
    "total_illumina=0\n",
    "for str in open(fungi_file).readlines():\n",
    "    cols = str.split(',')\n",
    "    sra_id = cols[0]\n",
    "    if sra_id in failed_downloads:\n",
    "        size = int(cols[7])\n",
    "        failed_download_size += size\n",
    "        technology = cols[18]\n",
    "        if 'ILLUMINA' in technology:\n",
    "            total_illumina+=1\n",
    "        sizes.append((size, sra_id, technology))\n",
    "        \n",
    "print('Total size in MB is ', failed_download_size)\n",
    "sizes.sort(key = lambda tup: tup[0], reverse=True)\n",
    "print('Largest sizes', sizes[0:100])\n",
    "first_100 = 0\n",
    "total_illumina_top = 0\n",
    "for size in sizes[0:3000]:\n",
    "    first_100+=size[0]\n",
    "    technology = size[2]\n",
    "    if 'ILLUMINA' in technology:\n",
    "        total_illumina_top+=1\n",
    "    \n",
    "print('Size of first 3000 is ', first_100)\n",
    "    \n",
    "sizes.sort(key = lambda tup: tup[0],)\n",
    "last_100 = 0\n",
    "for size in sizes[0:100]:\n",
    "    last_100+=size[0]\n",
    "    \n",
    "print('Size of last 100 is ', last_100)\n",
    "print('Illumina total ', total_illumina, ' Illumina top ', total_illumina_top)\n",
    "\n"
   ]
  }
 ],
 "metadata": {
  "kernelspec": {
   "display_name": "Python 3",
   "language": "python",
   "name": "python3"
  },
  "language_info": {
   "codemirror_mode": {
    "name": "ipython",
    "version": 3
   },
   "file_extension": ".py",
   "mimetype": "text/x-python",
   "name": "python",
   "nbconvert_exporter": "python",
   "pygments_lexer": "ipython3",
   "version": "3.7.3"
  }
 },
 "nbformat": 4,
 "nbformat_minor": 2
}
