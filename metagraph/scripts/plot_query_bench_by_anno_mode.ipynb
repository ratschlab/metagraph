{
 "cells": [
  {
   "cell_type": "code",
   "execution_count": 2,
   "id": "2ae1b6bc",
   "metadata": {},
   "outputs": [],
   "source": [
    "import matplotlib.pyplot as plt\n",
    "import numpy as np\n",
    "\n",
    "from datetime import timedelta\n"
   ]
  },
  {
   "cell_type": "code",
   "execution_count": 3,
   "id": "27aa78b8",
   "metadata": {},
   "outputs": [],
   "source": [
    "def time_to_seconds(time_str):\n",
    "    # Split the time string into hours, minutes, and seconds\n",
    "    parts = time_str.split(':')\n",
    "    \n",
    "    # If the time format is h:mm:ss\n",
    "    if len(parts) == 3:\n",
    "        hours, minutes, seconds = map(float, parts)\n",
    "        total_seconds = hours * 3600 + minutes * 60 + seconds\n",
    "    # If the time format is m:ss\n",
    "    elif len(parts) == 2:\n",
    "        minutes, seconds = map(float, parts)\n",
    "        total_seconds = minutes * 60 + seconds\n",
    "    else:\n",
    "        print(parts)\n",
    "        raise ValueError(\"Invalid time format\")\n",
    "    \n",
    "    return total_seconds\n",
    "\n",
    "def compute_avg_time(sizes, times, lines, idx):\n",
    "    #first line is subset size\n",
    "    size = lines[idx]\n",
    "    time = 0\n",
    "    \n",
    "    # lines[1:3] are warm-up runs\n",
    "    for j in range(3,8):\n",
    "        time_str = lines[idx+j].strip().split(\"Elapsed (wall clock) time (h:mm:ss or m:ss): \",1)[-1]\n",
    "        time = time + time_to_seconds(time_str)\n",
    "    avg_time = time / 5\n",
    "    sizes.append(size)\n",
    "    times.append(avg_time)"
   ]
  },
  {
   "cell_type": "code",
   "execution_count": 4,
   "id": "90adf34a",
   "metadata": {},
   "outputs": [],
   "source": [
    "# Open the files for reading\n",
    "with open('/cluster/work/grlab/projects/metagenome/data/BIGSI/subsets/sshash/bench/brwt/res_pure_superkmers/all_times.txt', 'r') as file:\n",
    "    brwt_lines = file.readlines()\n",
    "with open('/cluster/work/grlab/projects/metagenome/data/BIGSI/subsets/sshash/bench/flat/res_pure_superkmers/all_times.txt', 'r') as file:\n",
    "    flat_lines = file.readlines()\n",
    "with open('/cluster/work/grlab/projects/metagenome/data/BIGSI/subsets/sshash/bench/res_pure_superkmers/all_times.txt', 'r') as file:\n",
    "    column_lines = file.readlines()\n",
    "\n",
    "# Stop if there are not 7*N measurements\n",
    "if len(brwt_lines) % 8 != 0:\n",
    "    print(\"Number of lines (in sshash file) is not multiple of 8! Stopping\")\n",
    "if len(flat_lines) % 8 != 0:\n",
    "    print(\"Number of lines (in sshash file) is not multiple of 8! Stopping\")\n",
    "if len(column_lines) % 8 != 0:\n",
    "    print(\"Number of lines (in sshash file) is not multiple of 8! Stopping\")"
   ]
  },
  {
   "cell_type": "code",
   "execution_count": 5,
   "id": "97c35b26",
   "metadata": {},
   "outputs": [],
   "source": [
    "# Initialize lists to store times for each series\n",
    "brwt_times = []\n",
    "brwt_sizes = []\n",
    "flat_times = []\n",
    "flat_sizes = []\n",
    "\n",
    "col_times = []\n",
    "col_sizes = []\n",
    "\n",
    "for i in range(0,len(brwt_lines),8):\n",
    "    compute_avg_time(brwt_sizes,brwt_times,brwt_lines,i)\n",
    "for i in range(0,len(flat_lines),8):\n",
    "    compute_avg_time(flat_sizes,flat_times,flat_lines,i)\n",
    "for i in range(0,len(column_lines),8):\n",
    "    compute_avg_time(col_sizes,col_times,column_lines,i)\n"
   ]
  },
  {
   "cell_type": "code",
   "execution_count": 40,
   "id": "d2cf37fa",
   "metadata": {},
   "outputs": [
    {
     "name": "stderr",
     "output_type": "stream",
     "text": [
      "The PostScript backend does not support transparency; partially transparent artists will be rendered opaque.\n"
     ]
    },
    {
     "data": {
      "image/png": "[encoded data removed]",
      "text/plain": [
       "<Figure size 432x288 with 1 Axes>"
      ]
     },
     "metadata": {
      "needs_background": "light"
     },
     "output_type": "display_data"
    }
   ],
   "source": [
    "# Plot the two series\n",
    "plt.plot(np.asarray(col_sizes,dtype=np.int32), np.asarray(col_times), label='column-major', marker='x', color='#1F00FF')\n",
    "plt.plot(np.asarray(flat_sizes,dtype=np.int32), np.asarray(flat_times), label='row-flat', marker='x', color='#9F00FF')\n",
    "plt.plot(np.asarray(brwt_sizes,dtype=np.int32), np.asarray(brwt_times), label='BRWT', marker='x', color='#FF00FF')\n",
    "plt.xlabel('Subset Size')\n",
    "plt.ylabel('Time[s]')\n",
    "plt.grid()\n",
    "plt.title('Benchmark Query Time (SSHash pure super-k-mer Annotation)')\n",
    "plt.legend()\n",
    "plt.savefig(\"plot_query_bench_anno_versions_pure_superkmer.eps\",format='eps')\n",
    "plt.show()\n"
   ]
  },
  {
   "cell_type": "code",
   "execution_count": 20,
   "id": "5719dab1",
   "metadata": {},
   "outputs": [
    {
     "data": {
      "text/plain": [
       "<Figure size 432x288 with 0 Axes>"
      ]
     },
     "metadata": {},
     "output_type": "display_data"
    }
   ],
   "source": []
  },
  {
   "cell_type": "code",
   "execution_count": null,
   "id": "7b16fa3d",
   "metadata": {},
   "outputs": [],
   "source": []
  }
 ],
 "metadata": {
  "kernelspec": {
   "display_name": "Python 3 (ipykernel)",
   "language": "python",
   "name": "python3"
  },
  "language_info": {
   "codemirror_mode": {
    "name": "ipython",
    "version": 3
   },
   "file_extension": ".py",
   "mimetype": "text/x-python",
   "name": "python",
   "nbconvert_exporter": "python",
   "pygments_lexer": "ipython3",
   "version": "3.10.2"
  }
 },
 "nbformat": 4,
 "nbformat_minor": 5
}
