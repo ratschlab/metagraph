{
 "cells": [
  {
   "cell_type": "code",
   "execution_count": 2,
   "id": "96ca58d1",
   "metadata": {},
   "outputs": [],
   "source": [
    "import pandas as pd\n",
    "import numpy as np\n",
    "import matplotlib.pyplot as plt"
   ]
  },
  {
   "cell_type": "code",
   "execution_count": 3,
   "id": "0573db7c",
   "metadata": {},
   "outputs": [],
   "source": [
    "path = \"/cluster/work/grlab/projects/metagenome/data/BIGSI/subsets/sshash/final_color_stats.txt\"\n",
    "file = open(path, \"r\")\n",
    "colors_array = np.loadtxt(path, dtype=int)"
   ]
  },
  {
   "cell_type": "code",
   "execution_count": 4,
   "id": "04ef5e10",
   "metadata": {},
   "outputs": [],
   "source": [
    "path = \"/cluster/work/grlab/projects/metagenome/data/BIGSI/subsets/sshash/final_kmer_stats.txt\"\n",
    "file = open(path, \"r\")\n",
    "kmers_array = np.loadtxt(path, dtype=int)"
   ]
  },
  {
   "cell_type": "code",
   "execution_count": 5,
   "id": "e98810cd",
   "metadata": {},
   "outputs": [
    {
     "data": {
      "image/png": "[encoded data removed]",
      "text/plain": [
       "<Figure size 432x288 with 1 Axes>"
      ]
     },
     "metadata": {
      "needs_background": "light"
     },
     "output_type": "display_data"
    }
   ],
   "source": [
    "number_bins = max(colors_array)+2\n",
    "plt.hist(colors_array,bins=np.arange(0,number_bins))\n",
    "plt.xticks(range(number_bins))\n",
    "plt.title(\"#color changes per super-k-mer\")\n",
    "plt.xlabel(\"#color changes\")\n",
    "plt.yscale('log')\n",
    "plt.savefig(\"final_colors_hist.eps\",format='eps')\n",
    "plt.show()"
   ]
  },
  {
   "cell_type": "code",
   "execution_count": 70,
   "id": "5eecf991",
   "metadata": {},
   "outputs": [
    {
     "data": {
      "image/png": "[encoded data removed]",
      "text/plain": [
       "<Figure size 432x288 with 1 Axes>"
      ]
     },
     "metadata": {
      "needs_background": "light"
     },
     "output_type": "display_data"
    }
   ],
   "source": [
    "number_bins = max(kmers_array)+2\n",
    "plt.hist(kmers_array,bins=np.arange(1,number_bins))\n",
    "plt.xticks(range(1,number_bins))\n",
    "plt.title(\"#kmers per super-k-mer\")\n",
    "plt.xlabel(\"#kmers\")\n",
    "plt.savefig(\"final_kmers_hist.eps\",format='eps')\n",
    "plt.show()"
   ]
  },
  {
   "cell_type": "code",
   "execution_count": 16,
   "id": "1a61bec6",
   "metadata": {},
   "outputs": [
    {
     "name": "stdout",
     "output_type": "stream",
     "text": [
      "Average #k-mers per super-k-mer:  7.1757712022432845\n"
     ]
    }
   ],
   "source": [
    "print(\"Average #k-mers per super-k-mer: \", np.mean(kmers_array))"
   ]
  },
  {
   "cell_type": "code",
   "execution_count": 17,
   "id": "d3859df4",
   "metadata": {},
   "outputs": [
    {
     "name": "stdout",
     "output_type": "stream",
     "text": [
      "ratio of polychromatic super-k-mers:  0.07684760258167535\n"
     ]
    }
   ],
   "source": [
    "print(\"ratio of polychromatic super-k-mers: \", np.sum(colors_array>0)/len(kmers_array))"
   ]
  },
  {
   "cell_type": "code",
   "execution_count": 15,
   "id": "3494d258",
   "metadata": {},
   "outputs": [
    {
     "name": "stdout",
     "output_type": "stream",
     "text": [
      "#sparsified rows:  436177187\n",
      "fraction of sparsified rows: num_sparsified_rows/num_kmers =  0.8606421565270391\n"
     ]
    }
   ],
   "source": [
    "# rows that are empty with lossy super-k-mer annotation\n",
    "tot_num_kmers=(np.sum(kmers_array))\n",
    "num_sparsified_rows = tot_num_kmers - len(kmers_array)\n",
    "print(\"#sparsified rows: \", num_sparsified_rows)\n",
    "print(\"fraction of sparsified rows: num_sparsified_rows/num_kmers = \", num_sparsified_rows/tot_num_kmers)"
   ]
  },
  {
   "cell_type": "code",
   "execution_count": 12,
   "id": "6c1348ab",
   "metadata": {},
   "outputs": [
    {
     "name": "stdout",
     "output_type": "stream",
     "text": [
      "#sparsified rows:  384836802\n",
      "fraction of sparsified rows: num_sparsified/num_kmers =  0.75933997709112\n"
     ]
    }
   ],
   "source": [
    "# rows that are empty with lossless super-k-mer annotation\n",
    "sparsified_rows = (kmers_array - 1)*(colors_array==0)\n",
    "tot_num_kmers=(np.sum(kmers_array))\n",
    "tot_sparsified_rows = np.sum(sparsified_rows)\n",
    "\n",
    "print(\"#sparsified rows: \", tot_sparsified_rows)\n",
    "print(\"fraction of sparsified rows: num_sparsified/num_kmers = \", tot_sparsified_rows/tot_num_kmers)"
   ]
  }
 ],
 "metadata": {
  "kernelspec": {
   "display_name": "Python 3 (ipykernel)",
   "language": "python",
   "name": "python3"
  },
  "language_info": {
   "codemirror_mode": {
    "name": "ipython",
    "version": 3
   },
   "file_extension": ".py",
   "mimetype": "text/x-python",
   "name": "python",
   "nbconvert_exporter": "python",
   "pygments_lexer": "ipython3",
   "version": "3.10.2"
  }
 },
 "nbformat": 4,
 "nbformat_minor": 5
}
