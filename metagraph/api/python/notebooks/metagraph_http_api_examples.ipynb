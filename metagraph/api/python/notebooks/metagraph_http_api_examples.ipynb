{
 "cells": [
  {
   "cell_type": "code",
   "execution_count": 1,
   "metadata": {
    "ExecuteTime": {
     "end_time": "2020-07-23T14:53:00.337282Z",
     "start_time": "2020-07-23T14:52:59.716840Z"
    }
   },
   "outputs": [],
   "source": [
    "import requests\n",
    "import json"
   ]
  },
  {
   "cell_type": "markdown",
   "metadata": {
    "ExecuteTime": {
     "end_time": "2020-07-13T14:12:15.955340Z",
     "start_time": "2020-07-13T14:12:15.935595Z"
    }
   },
   "source": [
    "This notebook illustrates the use of the 'raw' REST API implemented by the metagraph server. For most usecases, we recommend using the Python client library which simplifies the logistics to make queries.\n",
    "The REST API consumes and replies with JSON objects.\n",
    "\n",
    "Setting the base URL for our API calls. In this notebook, we query the metasub19 graph.\n",
    "Note, that if you run a metagraph server instance locally, the base url would simply be `http://localhost:5555` (Port may vary of course)"
   ]
  },
  {
   "cell_type": "code",
   "execution_count": 2,
   "metadata": {
    "ExecuteTime": {
     "end_time": "2020-07-23T14:53:00.347447Z",
     "start_time": "2020-07-23T14:53:00.340530Z"
    }
   },
   "outputs": [],
   "source": [
    "base_url = 'http://dnaloc.ethz.ch/api/metasub19'"
   ]
  },
  {
   "cell_type": "markdown",
   "metadata": {
    "ExecuteTime": {
     "end_time": "2020-07-13T14:22:21.519532Z",
     "start_time": "2020-07-13T14:22:21.509542Z"
    }
   },
   "source": [
    "# Getting Basic Graph Information"
   ]
  },
  {
   "cell_type": "markdown",
   "metadata": {
    "ExecuteTime": {
     "end_time": "2020-07-13T14:22:26.699590Z",
     "start_time": "2020-07-13T14:22:26.692219Z"
    }
   },
   "source": [
    "## Graph Stats\n",
    "\n",
    "Some basic statistics about a graph and its annotations.\n",
    "\n",
    "The returned json object has two keys one describing the annotation and the other the graph. Each have their own dictionary of key value pairs"
   ]
  },
  {
   "cell_type": "code",
   "execution_count": 3,
   "metadata": {
    "ExecuteTime": {
     "end_time": "2020-07-23T14:53:00.417510Z",
     "start_time": "2020-07-23T14:53:00.351555Z"
    }
   },
   "outputs": [
    {
     "name": "stdout",
     "output_type": "stream",
     "text": [
      "{\n",
      "  \"annotation\": {\n",
      "    \"filename\": \"output_k19_cleaned_graph_annotation_small.collect.relabeled.brwt.annodbg\",\n",
      "    \"labels\": 4220,\n",
      "    \"objects\": 71751760043,\n",
      "    \"relations\": 243269874047\n",
      "  },\n",
      "  \"graph\": {\n",
      "    \"filename\": \"graph_merged_k19.small.dbg\",\n",
      "    \"is_canonical_mode\": true,\n",
      "    \"k\": 19,\n",
      "    \"nodes\": 71751760043\n",
      "  }\n",
      "}\n"
     ]
    }
   ],
   "source": [
    "r = requests.get(url=f'{base_url}/stats')\n",
    "\n",
    "print(json.dumps(r.json(), indent=2))"
   ]
  },
  {
   "cell_type": "markdown",
   "metadata": {
    "ExecuteTime": {
     "end_time": "2020-07-13T14:24:46.991955Z",
     "start_time": "2020-07-13T14:24:46.987050Z"
    }
   },
   "source": [
    "## Graph Labels\n",
    "\n",
    "List of all column labels. \n",
    "\n",
    "Note, that often metadata is encoded in a column label. Entries are separated by `;`, where the first entry corresponds to the sample ID/sample name and is followed by key value pairs separated by `=` from each other."
   ]
  },
  {
   "cell_type": "code",
   "execution_count": 4,
   "metadata": {
    "ExecuteTime": {
     "end_time": "2020-07-23T14:53:00.788736Z",
     "start_time": "2020-07-23T14:53:00.423027Z"
    }
   },
   "outputs": [
    {
     "data": {
      "text/plain": [
       "4220"
      ]
     },
     "execution_count": 4,
     "metadata": {},
     "output_type": "execute_result"
    }
   ],
   "source": [
    "r = requests.get(url=f'{base_url}/column_labels')\n",
    "len(r.json())"
   ]
  },
  {
   "cell_type": "code",
   "execution_count": 5,
   "metadata": {
    "ExecuteTime": {
     "end_time": "2020-07-23T14:53:00.805971Z",
     "start_time": "2020-07-23T14:53:00.796044Z"
    }
   },
   "outputs": [
    {
     "data": {
      "text/plain": [
       "'haib17CEM4890_H2NYMCCXY_SL254769;metasub_name=CSD16-OFA-050;city=offa;latitude=8.1548483;longitude=4.7263633;surface_material=wood;station=nan;num_reads=24759619.0;city_latitude=8.0;city_longitude=4.0;city_total_population=90000.0;continent=sub_saharan_africa;sample_type=environmental_microbiome'"
      ]
     },
     "execution_count": 5,
     "metadata": {},
     "output_type": "execute_result"
    }
   ],
   "source": [
    "r.json()[0]"
   ]
  },
  {
   "cell_type": "markdown",
   "metadata": {
    "ExecuteTime": {
     "end_time": "2020-02-19T15:26:28.959072Z",
     "start_time": "2020-02-19T15:26:28.910536Z"
    }
   },
   "source": [
    "# Search for Sequences"
   ]
  },
  {
   "cell_type": "markdown",
   "metadata": {
    "ExecuteTime": {
     "end_time": "2020-07-13T14:21:12.806078Z",
     "start_time": "2020-07-13T14:21:12.778091Z"
    }
   },
   "source": [
    "## Basic Search\n",
    "\n",
    "In the basic usage, you can upload the equivalent of a  FASTA file along with query parameters.\n",
    "\n",
    "The \"FASTA-file\" should be converted to a single string with `\\n` as line breaks. What is following the `>` on the same line is taken as the sequence identifier/description and is returned back in the `seq_description` property of a result object. This way, if multiple sequences are queried, a result can easily be attributed the original query sequence. \n",
    "\n",
    "The `discovery_fraction` is a value between [0, 1.0] and stands for the minimum fraction of kmers of a sequence found to have a certain annotation.\n",
    "\n",
    "Returns list of objects, one for each query sequence. Such an object contains following fields:\n",
    "* `seq_description`: description of sequence (the `>` part in the fasta file)\n",
    "* `results`: result for that sequence, which is a list of objects with the following fields:\n",
    "    * `kmer_count`: number of kmers of the sequence found with this annotation\n",
    "    * `sample`: Column name of annotation\n",
    "    * `properties` (optional): dictionary with metadata about the sample. This generally differs from one graph to another"
   ]
  },
  {
   "cell_type": "code",
   "execution_count": 6,
   "metadata": {
    "ExecuteTime": {
     "end_time": "2020-07-23T14:53:00.822290Z",
     "start_time": "2020-07-23T14:53:00.810757Z"
    }
   },
   "outputs": [
    {
     "data": {
      "text/plain": [
       "'>example_query\\nGTGAGGGGGGCAAAAATAAGAAGCAAGTTCTGAAGTTCACTCT'"
      ]
     },
     "execution_count": 6,
     "metadata": {},
     "output_type": "execute_result"
    }
   ],
   "source": [
    "fasta_str = \"\\n\".join([\">example_query\",\n",
    "                                            'GTGAGGGGGGCAAAAATAAGAAGCAAGTTCTGAAGTTCACTCT'])\n",
    "\n",
    "fasta_str"
   ]
  },
  {
   "cell_type": "code",
   "execution_count": 7,
   "metadata": {
    "ExecuteTime": {
     "end_time": "2020-07-23T14:53:00.883749Z",
     "start_time": "2020-07-23T14:53:00.829443Z"
    }
   },
   "outputs": [
    {
     "data": {
      "text/plain": [
       "[{'results': [{'kmer_count': 10,\n",
       "    'properties': {'city': 'berlin',\n",
       "     'city_latitude': 52.52436828613281,\n",
       "     'city_longitude': 13.410530090332031,\n",
       "     'city_total_population': 3711930.0,\n",
       "     'continent': 'europe',\n",
       "     'latitude': None,\n",
       "     'longitude': None,\n",
       "     'metasub_name': 6.0,\n",
       "     'num_reads': 45883240.0,\n",
       "     'sample_type': 'environmental_microbiome',\n",
       "     'station': None,\n",
       "     'surface_material': None},\n",
       "    'sample': 'haib17CEM4890_HKC32ALXX_SL254684'},\n",
       "   {'kmer_count': 10,\n",
       "    'properties': {'city': 'tokyo',\n",
       "     'city_latitude': 35.68949890136719,\n",
       "     'city_longitude': 139.69171142578125,\n",
       "     'city_total_population': 13839910.0,\n",
       "     'continent': 'east_asia',\n",
       "     'latitude': 35.600887298583984,\n",
       "     'longitude': 139.68487548828125,\n",
       "     'metasub_name': 'CSD16-TOK-013',\n",
       "     'num_reads': 40433992.0,\n",
       "     'sample_type': 'environmental_microbiome',\n",
       "     'station': None,\n",
       "     'surface_material': 'vinyl'},\n",
       "    'sample': 'haib17CEM4890_HKC32ALXX_SL254689'},\n",
       "   {'kmer_count': 10,\n",
       "    'properties': {'city': 'berlin',\n",
       "     'city_latitude': 52.52436828613281,\n",
       "     'city_longitude': 13.410530090332031,\n",
       "     'city_total_population': 3711930.0,\n",
       "     'continent': 'europe',\n",
       "     'latitude': None,\n",
       "     'longitude': None,\n",
       "     'metasub_name': 6.0,\n",
       "     'num_reads': 56733196.0,\n",
       "     'sample_type': 'environmental_microbiome',\n",
       "     'station': None,\n",
       "     'surface_material': None},\n",
       "    'sample': 'haib17CEM4890_HKC32ALXX_SL254696'},\n",
       "   {'kmer_count': 10,\n",
       "    'properties': {'city': 'santiago',\n",
       "     'city_latitude': -33.456939697265625,\n",
       "     'city_longitude': -70.64826965332031,\n",
       "     'city_total_population': 6310000.0,\n",
       "     'continent': 'south_america',\n",
       "     'latitude': -33.525543212890625,\n",
       "     'longitude': -70.59708404541016,\n",
       "     'metasub_name': 'CSD16-SCL-181',\n",
       "     'num_reads': 52869612.0,\n",
       "     'sample_type': 'environmental_microbiome',\n",
       "     'station': None,\n",
       "     'surface_material': 'metal'},\n",
       "    'sample': 'haib17CEM4890_HKC32ALXX_SL254745'}],\n",
       "  'seq_description': 'example_query'}]"
      ]
     },
     "execution_count": 7,
     "metadata": {},
     "output_type": "execute_result"
    }
   ],
   "source": [
    "req = {\"FASTA\": fasta_str,\n",
    "       \"discovery_fraction\": 0.4}\n",
    "ret = requests.post(url=f'{base_url}/search', json=req)\n",
    "ret.json()"
   ]
  },
  {
   "cell_type": "markdown",
   "metadata": {
    "ExecuteTime": {
     "end_time": "2020-07-22T07:58:41.889136Z",
     "start_time": "2020-07-22T07:58:41.872299Z"
    }
   },
   "source": [
    "## More Advanced Search\n",
    "\n",
    "Additional parameters are supported:\n",
    "\n",
    "* `num_labels`: return the `num_labels` top results per sequence with respect to the kmer count \n",
    "\n",
    "\n",
    "There is also the possibility to *align* a sequence first and used the aligned sequence to query the graph. This can be done via the `align=True` parameter, default is `align=False`. In case of `align=True`, the parameter `max_num_nodes_per_seq_char` is also supported (see \"Alignment\" section below).\n",
    "\n",
    "In this case, a result object contains more information (the result objects are the same):\n",
    "\n",
    "* `sequence`: aligned sequence\n",
    "* `score`: alignment score\n",
    "* `cigar`: the cigar string string of the aligned sequence"
   ]
  },
  {
   "cell_type": "code",
   "execution_count": 8,
   "metadata": {
    "ExecuteTime": {
     "end_time": "2020-07-23T14:53:00.949950Z",
     "start_time": "2020-07-23T14:53:00.888523Z"
    }
   },
   "outputs": [
    {
     "data": {
      "text/plain": [
       "[{'cigar': '5=1X2=1X34=',\n",
       "  'results': [{'kmer_count': 12,\n",
       "    'properties': {'city': 'berlin',\n",
       "     'city_latitude': 52.52436828613281,\n",
       "     'city_longitude': 13.410530090332031,\n",
       "     'city_total_population': 3711930.0,\n",
       "     'continent': 'europe',\n",
       "     'latitude': None,\n",
       "     'longitude': None,\n",
       "     'metasub_name': 6.0,\n",
       "     'num_reads': 56733196.0,\n",
       "     'sample_type': 'environmental_microbiome',\n",
       "     'station': None,\n",
       "     'surface_material': None},\n",
       "    'sample': 'haib17CEM4890_HKC32ALXX_SL254696'},\n",
       "   {'kmer_count': 11,\n",
       "    'properties': {'city': 'berlin',\n",
       "     'city_latitude': 52.52436828613281,\n",
       "     'city_longitude': 13.410530090332031,\n",
       "     'city_total_population': 3711930.0,\n",
       "     'continent': 'europe',\n",
       "     'latitude': None,\n",
       "     'longitude': None,\n",
       "     'metasub_name': 6.0,\n",
       "     'num_reads': 45883240.0,\n",
       "     'sample_type': 'environmental_microbiome',\n",
       "     'station': None,\n",
       "     'surface_material': None},\n",
       "    'sample': 'haib17CEM4890_HKC32ALXX_SL254684'}],\n",
       "  'score': 76,\n",
       "  'seq_description': 'example_query',\n",
       "  'sequence': 'GTGAGAGGAGCAAAAATAAGAAGCAAGTTCTGAAGTTCACTCT'}]"
      ]
     },
     "execution_count": 8,
     "metadata": {},
     "output_type": "execute_result"
    }
   ],
   "source": [
    "req = {\"FASTA\": fasta_str,\n",
    "       \"discovery_fraction\": 0.4,\n",
    "       \"align\": True,  \n",
    "       \"num_labels\": 2}\n",
    "\n",
    "ret = requests.post(url=f'{base_url}/search', json=req)\n",
    "ret.json()"
   ]
  },
  {
   "cell_type": "markdown",
   "metadata": {
    "ExecuteTime": {
     "end_time": "2020-07-22T09:57:00.155353Z",
     "start_time": "2020-07-22T09:57:00.150818Z"
    }
   },
   "source": [
    "## Alignment\n",
    "\n",
    "The `/alignment` end point allows the alignment of sequences to the graph"
   ]
  },
  {
   "cell_type": "code",
   "execution_count": 9,
   "metadata": {
    "ExecuteTime": {
     "end_time": "2020-07-23T14:53:00.997484Z",
     "start_time": "2020-07-23T14:53:00.952718Z"
    }
   },
   "outputs": [
    {
     "data": {
      "text/plain": [
       "[{'alignments': [{'cigar': '5=1X2=1X34=',\n",
       "    'score': 76,\n",
       "    'sequence': 'GTGAGAGGAGCAAAAATAAGAAGCAAGTTCTGAAGTTCACTCT'}],\n",
       "  'seq_description': 'example_query'}]"
      ]
     },
     "execution_count": 9,
     "metadata": {},
     "output_type": "execute_result"
    }
   ],
   "source": [
    "req = {\"FASTA\": fasta_str}\n",
    "\n",
    "ret = requests.post(url=f'{base_url}/align', json=req)\n",
    "ret.json()"
   ]
  },
  {
   "cell_type": "markdown",
   "metadata": {},
   "source": [
    "For every submitted sequence, it returns:\n",
    " * `seq_description`: description of sequence (the `>` part in the fasta file)\n",
    " * `alignments`:  alignment result object consisting of:\n",
    "     * `sequence`: aligned sequence\n",
    "     * `score`: alignment score\n",
    "     * `cigar`: the cigar string string of the aligned sequence\n",
    "\n",
    "There are the following additional query parameters:\n",
    "* `max_alternative_alignments`: max number of different alignments to return (default 1)\n",
    "* `max_num_nodes_per_seq_char`: maximum number of nodes to consider during extension \n",
    "\n",
    "\n"
   ]
  }
 ],
 "metadata": {
  "hide_input": false,
  "kernelspec": {
   "display_name": "Python 3",
   "language": "python",
   "name": "python3"
  },
  "language_info": {
   "codemirror_mode": {
    "name": "ipython",
    "version": 3
   },
   "file_extension": ".py",
   "mimetype": "text/x-python",
   "name": "python",
   "nbconvert_exporter": "python",
   "pygments_lexer": "ipython3",
   "version": "3.7.5"
  },
  "toc": {
   "base_numbering": 1,
   "nav_menu": {},
   "number_sections": true,
   "sideBar": true,
   "skip_h1_title": false,
   "title_cell": "Table of Contents",
   "title_sidebar": "Contents",
   "toc_cell": false,
   "toc_position": {},
   "toc_section_display": true,
   "toc_window_display": false
  }
 },
 "nbformat": 4,
 "nbformat_minor": 2
}
