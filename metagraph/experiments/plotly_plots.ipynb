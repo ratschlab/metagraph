{
 "cells": [
  {
   "cell_type": "code",
   "execution_count": null,
   "metadata": {},
   "outputs": [],
   "source": [
    "import pandas as pd\n",
    "import numpy as np\n",
    "\n",
    "from datetime import datetime\n",
    "from datetime import time as dt_tm\n",
    "from datetime import date as dt_date\n",
    "\n",
    "import plotly.tools as plotly_tools\n",
    "import plotly.graph_objs as go\n",
    "import plotly.express as px\n",
    "import plotly.graph_objects as go\n",
    "import plotly.colors\n",
    "\n",
    "import os\n",
    "import tempfile\n",
    "os.environ['MPLCONFIGDIR'] = tempfile.mkdtemp()\n",
    "import matplotlib.pyplot as plt\n",
    "\n",
    "from scipy.stats import gaussian_kde\n",
    "\n",
    "from IPython.display import HTML"
   ]
  },
  {
   "cell_type": "code",
   "execution_count": null,
   "metadata": {},
   "outputs": [],
   "source": [
    "import sys\n",
    "#import matplotlib as mpl\n",
    "from scipy.special import xlogy, loggamma\n",
    "from scipy.stats import entropy\n",
    "from scipy.ndimage.filters import gaussian_filter1d\n",
    "#import seaborn as sns\n",
    "#mpl.use('agg')\n",
    "\n",
    "#plot_ratio = (1 + np.sqrt(5)) / 2\n",
    "#markers = ['^', 'v', '<', '>', 'o', 's', 'P', '*']\n",
    "\n",
    "results_filename = 'results10M_2par.txt'\n",
    "\n",
    "with open(results_filename, \"r\") as rfile:\n",
    "    lines = np.vstack([ np.array(a.rstrip(\"\\n\").split(\"\\t\")) for a in rfile ])\n",
    "\n",
    "#lines = lines[(lines[:, 0] == 'sd') | (lines[:, 0] == 'rrr')]\n",
    "\n",
    "#plt.rcParams.update({'font.size': 22})\n",
    "\n",
    "figsize = 8\n",
    "\n",
    "data = pd.DataFrame()\n",
    "data['method'] = lines[:, 0]\n",
    "data['size'] = lines[:, 1].astype(int)\n",
    "data['density'] = lines[:, 3].astype(float)\n",
    "data['bits_per_entry'] = lines[:, 4].astype(float)\n",
    "data['RAM_per_entry'] = lines[:, 5].astype(float) / data['size'] * 8\n",
    "data['bits_per_entry_expected'] = lines[:, 6].astype(float)\n",
    "\n",
    "data['access_time'] = lines[:, 7].astype(float)\n",
    "data['seq_access_time'] = lines[:, 8].astype(float)\n",
    "\n",
    "data['access_word_time'] = lines[:, 9].astype(float)\n",
    "data['seq_access_word_time'] = lines[:, 10].astype(float)\n",
    "\n",
    "data['rank_time'] = lines[:, 11].astype(float)\n",
    "data['seq_rank_time'] = lines[:, 12].astype(float)\n",
    "\n",
    "data['select_time'] = lines[:, 13].astype(float)\n",
    "data['seq_select_time'] = lines[:, 14].astype(float)\n",
    "\n",
    "data['cond_rank_time'] = lines[:, 15].astype(float)\n",
    "data['seq_cond_rank_time'] = lines[:, 16].astype(float)"
   ]
  },
  {
   "cell_type": "code",
   "execution_count": null,
   "metadata": {},
   "outputs": [],
   "source": [
    "np.unique(data['method'])"
   ]
  },
  {
   "cell_type": "code",
   "execution_count": null,
   "metadata": {},
   "outputs": [],
   "source": [
    "methods = ['stat', 'il', 'sd', 'rrr15', 'rrr31', 'rrr63', 'rrr127', 'rrr255',\n",
    "       'dyn', 'hyb', 'smart', 'small', 'smallrank']"
   ]
  },
  {
   "cell_type": "code",
   "execution_count": null,
   "metadata": {},
   "outputs": [],
   "source": [
    "colors = dict(zip(methods, plotly.colors.qualitative.Vivid + plotly.colors.qualitative.Alphabet))\n",
    "\n",
    "def make_transparent(color, alpha=0.1):\n",
    "    if color[0] == '#':\n",
    "        return 'rgba({}, {}, {}, {})'.format(*[int(color[1:][i:i+2], 16) for i in (0, 2, 4)], alpha)\n",
    "    else:\n",
    "        return 'rgba({}, {}, {}, {})'.format(*[int(x) for x in color[4:-1].split(', ')], alpha)"
   ]
  },
  {
   "cell_type": "code",
   "execution_count": null,
   "metadata": {
    "scrolled": false
   },
   "outputs": [],
   "source": [
    "assert(set(methods) == set(np.unique(data['method'])))\n",
    "\n",
    "queries = [\n",
    "    ('access_time', 'Bit access time (random)'),\n",
    "    ('seq_access_time', 'Bit access time (sequential)'),\n",
    "    ('access_word_time', '64-bit word access time (random)'),\n",
    "    ('seq_access_word_time', '64-bit word access time (sequential)'),\n",
    "    ('rank_time', 'Rank query time (random)'),\n",
    "    ('seq_rank_time', 'Rank query time (sequential)'),\n",
    "    ('cond_rank_time', 'Rank-if-Access query time (random)'),\n",
    "    ('seq_cond_rank_time', 'Rank-if-Access query time (sequential)'),\n",
    "    ('select_time', 'Select query time (random)'),\n",
    "    ('seq_select_time', 'Select query time (sequential)'),\n",
    "    ('RAM_per_entry', 'RAM'),\n",
    "    ('bits_per_entry', 'Serialized size'),\n",
    "]\n",
    "\n",
    "fig = plotly.subplots.make_subplots(rows=6, cols=2, print_grid=False,\n",
    "                                    subplot_titles=list(zip(*queries))[1],\n",
    "                                    horizontal_spacing=0.12, vertical_spacing=0.05)\n",
    "\n",
    "for i, (query, query_name) in enumerate(queries):\n",
    "    df_all = data[['method', query, 'density']]\n",
    "    for method in methods:\n",
    "        if method in {'rrr127', 'rrr255', 'hyb', 'dyn'}:\n",
    "            visible = 'legendonly' # hide by default\n",
    "        else:\n",
    "            visible = None\n",
    "\n",
    "        df = df_all[df_all['method'] == method].sort_values(by='density')\n",
    "        del df['method']\n",
    "        df_mean = df.groupby(by=['density'], as_index=False).mean()\n",
    "        df_std = df.groupby(by=['density'], as_index=False).apply(lambda x: x.std())\n",
    "        fig.add_trace(go.Scatter(line=dict(width=0.5, color=colors[method]), hoverinfo='none',\n",
    "                                 fillcolor=make_transparent(colors[method]),\n",
    "                                 x=df_mean['density'], y=df_mean[query] + df_std[query], mode='lines',\n",
    "                                 name=method, legendgroup=method, showlegend=False, visible=visible),\n",
    "                      row=1+i//2, col=1+(i%2))\n",
    "        fig.add_trace(go.Scatter(line=dict(width=0.5, color=colors[method]), hoverinfo='none', fill='tonexty',\n",
    "                                 fillcolor=make_transparent(colors[method]),\n",
    "                                 x=df_mean['density'], y=df_mean[query] - df_std[query], mode='lines',\n",
    "                                 name=method, legendgroup=method, showlegend=False, visible=visible),\n",
    "                      row=1+i//2, col=1+(i%2))\n",
    "        fig.add_trace(go.Scatter(x=df_mean['density'], y=df_mean[query], mode='lines',\n",
    "                                 name=method, legendgroup=method, marker_color=colors[method], showlegend=(i==0),\n",
    "                                 visible=visible),\n",
    "                      row=1+i//2, col=1+(i%2))\n",
    "        fig.update_xaxes(title_text='Density', row=1+i//2, col=1+(i%2))\n",
    "        fig.update_yaxes(title_text=('Time, sec' if i//2 < 5 else 'Bits per entry'), row=1+i//2, col=1+(i%2))\n",
    "fig.update_layout(height=2000, title=None, xaxis_title='Density', yaxis_title='Time, sec')\n",
    "fig.show()"
   ]
  },
  {
   "cell_type": "code",
   "execution_count": null,
   "metadata": {},
   "outputs": [],
   "source": [
    "plotly.offline.plot(fig, image_height=2000, image_width=800, filename='bit_vectors_10M.html',\n",
    "                    include_plotlyjs=True, auto_open=False)"
   ]
  }
 ],
 "metadata": {
  "kernelspec": {
   "display_name": "Python 3",
   "language": "python",
   "name": "python3"
  },
  "language_info": {
   "codemirror_mode": {
    "name": "ipython",
    "version": 3
   },
   "file_extension": ".py",
   "mimetype": "text/x-python",
   "name": "python",
   "nbconvert_exporter": "python",
   "pygments_lexer": "ipython3",
   "version": "3.6.10"
  },
  "toc": {
   "base_numbering": 1,
   "nav_menu": {},
   "number_sections": true,
   "sideBar": true,
   "skip_h1_title": false,
   "title_cell": "Table of Contents",
   "title_sidebar": "Contents",
   "toc_cell": false,
   "toc_position": {},
   "toc_section_display": true,
   "toc_window_display": false
  }
 },
 "nbformat": 4,
 "nbformat_minor": 2
}
