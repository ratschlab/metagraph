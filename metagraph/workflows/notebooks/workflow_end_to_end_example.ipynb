{
 "cells": [
  {
   "cell_type": "code",
   "execution_count": 1,
   "id": "proper-norway",
   "metadata": {
    "ExecuteTime": {
     "end_time": "2021-10-19T12:37:26.053378Z",
     "start_time": "2021-10-19T12:37:26.016001Z"
    },
    "execution": {
     "iopub.execute_input": "2021-03-31T07:55:44.254485Z",
     "iopub.status.busy": "2021-03-31T07:55:44.253980Z",
     "iopub.status.idle": "2021-03-31T07:55:44.393638Z",
     "shell.execute_reply": "2021-03-31T07:55:44.392335Z",
     "shell.execute_reply.started": "2021-03-31T07:55:44.254352Z"
    },
    "tags": []
   },
   "outputs": [],
   "source": [
    "%load_ext autoreload\n",
    "%autoreload 2"
   ]
  },
  {
   "cell_type": "code",
   "execution_count": 2,
   "id": "verified-apache",
   "metadata": {
    "ExecuteTime": {
     "end_time": "2021-10-19T12:37:26.082089Z",
     "start_time": "2021-10-19T12:37:26.056666Z"
    }
   },
   "outputs": [],
   "source": [
    "# needed to call snakemake from jupyter notebook\n",
    "import nest_asyncio\n",
    "nest_asyncio.apply()"
   ]
  },
  {
   "cell_type": "code",
   "execution_count": 3,
   "id": "hungarian-frequency",
   "metadata": {
    "ExecuteTime": {
     "end_time": "2021-10-19T12:37:26.329909Z",
     "start_time": "2021-10-19T12:37:26.086548Z"
    },
    "execution": {
     "iopub.execute_input": "2021-03-31T07:55:44.508512Z",
     "iopub.status.busy": "2021-03-31T07:55:44.507820Z",
     "iopub.status.idle": "2021-03-31T07:55:44.622865Z",
     "shell.execute_reply": "2021-03-31T07:55:44.621694Z",
     "shell.execute_reply.started": "2021-03-31T07:55:44.508477Z"
    },
    "tags": []
   },
   "outputs": [],
   "source": [
    "from metagraph_workflows import cli\n",
    "from pathlib import Path\n",
    "\n",
    "from metagraph_workflows import workflow_configs\n",
    "\n",
    "import urllib"
   ]
  },
  {
   "cell_type": "markdown",
   "id": "intended-oklahoma",
   "metadata": {
    "execution": {
     "iopub.execute_input": "2021-03-26T08:52:06.016430Z",
     "iopub.status.busy": "2021-03-26T08:52:06.015907Z",
     "iopub.status.idle": "2021-03-26T08:52:06.056002Z",
     "shell.execute_reply": "2021-03-26T08:52:06.053820Z",
     "shell.execute_reply.started": "2021-03-26T08:52:06.016390Z"
    },
    "tags": []
   },
   "source": [
    "## Building Index"
   ]
  },
  {
   "cell_type": "code",
   "execution_count": 4,
   "id": "printable-sight",
   "metadata": {
    "ExecuteTime": {
     "end_time": "2021-10-19T12:37:26.355841Z",
     "start_time": "2021-10-19T12:37:26.333200Z"
    }
   },
   "outputs": [],
   "source": [
    "temp_dir = Path('/tmp/metagraph_workflows')\n",
    "temp_dir.mkdir(parents=True, exist_ok=True)"
   ]
  },
  {
   "cell_type": "code",
   "execution_count": 5,
   "id": "young-syndication",
   "metadata": {
    "ExecuteTime": {
     "end_time": "2021-10-19T12:37:26.385422Z",
     "start_time": "2021-10-19T12:37:26.361187Z"
    },
    "execution": {
     "iopub.execute_input": "2021-03-31T07:55:46.048662Z",
     "iopub.status.busy": "2021-03-31T07:55:46.047835Z",
     "iopub.status.idle": "2021-03-31T07:55:46.118796Z",
     "shell.execute_reply": "2021-03-31T07:55:46.117843Z",
     "shell.execute_reply.started": "2021-03-31T07:55:46.048574Z"
    },
    "tags": []
   },
   "outputs": [],
   "source": [
    "sample_list_path = Path('/tmp/paths.txt')"
   ]
  },
  {
   "cell_type": "code",
   "execution_count": 6,
   "id": "colored-intervention",
   "metadata": {
    "ExecuteTime": {
     "end_time": "2021-10-19T12:37:26.413353Z",
     "start_time": "2021-10-19T12:37:26.387666Z"
    }
   },
   "outputs": [],
   "source": [
    "# download can be unreliable at times. Try several times, possibly changing the protocol between http and ftp\n",
    "\n",
    "protocol = \"ftp\"\n",
    "sample_download = [\n",
    "    f\"{protocol}://ftp.sra.ebi.ac.uk/vol1/fastq/SRR512/000/SRR5122830/SRR5122830_subreads.fastq.gz\",\n",
    "    f\"{protocol}://ftp.sra.ebi.ac.uk/vol1/fastq/SRR512/006/SRR5122826/SRR5122826_subreads.fastq.gz\"\n",
    "]\n",
    "\n",
    "input_seqs = temp_dir/'input_seqs'\n",
    "\n",
    "input_seqs.mkdir(parents=True, exist_ok=True)\n",
    "\n",
    "for s in sample_download:\n",
    "    file_name = Path(urllib.parse.urlparse(s).path).name\n",
    "    sample_name = file_name.split('_')[0]\n",
    "    \n",
    "    if not (input_seqs/file_name).exists():\n",
    "        urllib.request.urlretrieve(s, input_seqs/file_name)"
   ]
  },
  {
   "cell_type": "code",
   "execution_count": 7,
   "id": "reflected-specification",
   "metadata": {
    "ExecuteTime": {
     "end_time": "2021-10-19T12:37:26.444026Z",
     "start_time": "2021-10-19T12:37:26.418382Z"
    },
    "execution": {
     "iopub.execute_input": "2021-03-31T07:55:46.122595Z",
     "iopub.status.busy": "2021-03-31T07:55:46.121935Z",
     "iopub.status.idle": "2021-03-31T07:55:46.191302Z",
     "shell.execute_reply": "2021-03-31T07:55:46.190377Z",
     "shell.execute_reply.started": "2021-03-31T07:55:46.122439Z"
    },
    "tags": []
   },
   "outputs": [],
   "source": [
    "def create_sample_list_path(path_list, out_path):\n",
    "    with open(out_path, \"w\") as f:\n",
    "        f.write('\\n'.join([str(p) for p in path_list]))\n",
    "\n",
    "create_sample_list_path(input_seqs.glob('*fastq*'), sample_list_path)"
   ]
  },
  {
   "cell_type": "code",
   "execution_count": 8,
   "id": "healthy-hamilton",
   "metadata": {
    "ExecuteTime": {
     "end_time": "2021-10-19T12:37:26.481634Z",
     "start_time": "2021-10-19T12:37:26.447955Z"
    },
    "execution": {
     "iopub.execute_input": "2021-03-31T07:55:46.194052Z",
     "iopub.status.busy": "2021-03-31T07:55:46.193386Z",
     "iopub.status.idle": "2021-03-31T07:55:46.252664Z",
     "shell.execute_reply": "2021-03-31T07:55:46.251673Z",
     "shell.execute_reply.started": "2021-03-31T07:55:46.194012Z"
    },
    "tags": []
   },
   "outputs": [],
   "source": [
    "output_dir =  temp_dir /'output_dir'"
   ]
  },
  {
   "cell_type": "code",
   "execution_count": 9,
   "id": "portuguese-employer",
   "metadata": {
    "ExecuteTime": {
     "end_time": "2021-10-19T12:37:26.949507Z",
     "start_time": "2021-10-19T12:37:26.484629Z"
    }
   },
   "outputs": [
    {
     "name": "stdout",
     "output_type": "stream",
     "text": [
      "#############################\r\n",
      "### Welcome to MetaGraph! ###\r\n",
      "#############################\r\n",
      "\r\n",
      "Metagraph: comprehensive metagenome graph representation -- Version 0.1\r\n",
      "\r\n",
      "Usage: metagraph <command> [command specific options]\r\n",
      "\r\n",
      "Available commands:\r\n",
      "\tbuild\t\tconstruct a graph object from input sequence\r\n"
     ]
    }
   ],
   "source": [
    "# checking metagraph version\n",
    "!metagraph --help 2>&1 | head"
   ]
  },
  {
   "cell_type": "code",
   "execution_count": 10,
   "id": "reported-march",
   "metadata": {
    "ExecuteTime": {
     "end_time": "2021-10-19T12:37:57.440009Z",
     "start_time": "2021-10-19T12:37:26.953032Z"
    },
    "execution": {
     "iopub.execute_input": "2021-03-31T07:55:46.465433Z",
     "iopub.status.busy": "2021-03-31T07:55:46.465147Z",
     "iopub.status.idle": "2021-03-31T07:55:50.278245Z",
     "shell.execute_reply": "2021-03-31T07:55:50.277387Z",
     "shell.execute_reply.started": "2021-03-31T07:55:46.465399Z"
    },
    "tags": []
   },
   "outputs": [
    {
     "name": "stderr",
     "output_type": "stream",
     "text": [
      "2021-10-19 14:37:27,393 - WARNING: Command /usr/bin/time --version for GNU time could not be executed successfully: b'/usr/bin/time: illegal option -- -\\nusage: time [-lp] <command>\\n'. No timing information collected\n",
      "Building DAG of jobs...\n",
      "2021-10-19 14:37:27,452 - WARNING: Building DAG of jobs...\n",
      "Using shell: /usr/local/bin/bash\n",
      "2021-10-19 14:37:27,481 - WARNING: Using shell: /usr/local/bin/bash\n",
      "Provided cores: 1 (use --cores to define parallelism)\n",
      "2021-10-19 14:37:27,482 - WARNING: Provided cores: 1 (use --cores to define parallelism)\n",
      "Rules claiming more threads will be scaled down.\n",
      "2021-10-19 14:37:27,484 - WARNING: Rules claiming more threads will be scaled down.\n",
      "Job counts:\n",
      "\tcount\tjobs\n",
      "\t1\tall\n",
      "\t1\tannotate\n",
      "\t1\tannotate_row_diff_brwt\n",
      "\t1\tbuild_joint_graph\n",
      "\t1\tbuild_joint_primary\n",
      "\t1\tgenerate_column_list\n",
      "\t1\tprimarize_joint_graph\n",
      "\t1\trelax_row_diff_brwt\n",
      "\t1\ttransform_rd_stage0\n",
      "\t1\ttransform_rd_stage1\n",
      "\t1\ttransform_rd_stage2\n",
      "\t11\n",
      "2021-10-19 14:37:27,486 - WARNING: Job counts:\n",
      "\tcount\tjobs\n",
      "\t1\tall\n",
      "\t1\tannotate\n",
      "\t1\tannotate_row_diff_brwt\n",
      "\t1\tbuild_joint_graph\n",
      "\t1\tbuild_joint_primary\n",
      "\t1\tgenerate_column_list\n",
      "\t1\tprimarize_joint_graph\n",
      "\t1\trelax_row_diff_brwt\n",
      "\t1\ttransform_rd_stage0\n",
      "\t1\ttransform_rd_stage1\n",
      "\t1\ttransform_rd_stage2\n",
      "\t11\n",
      "\n",
      "2021-10-19 14:37:27,489 - INFO: \n",
      "[Tue Oct 19 14:37:27 2021]\n",
      "2021-10-19 14:37:27,494 - INFO: [Tue Oct 19 14:37:27 2021]\n",
      "rule build_joint_graph:\n",
      "    input: /tmp/paths.txt\n",
      "    output: /tmp/metagraph_workflows/output_dir/graph_canonical.dbg\n",
      "    log: /tmp/metagraph_workflows/output_dir/logs/build_joint_graph.log\n",
      "    jobid: 3\n",
      "    resources: mem_mb=4048, disk_mb=10240\n",
      "2021-10-19 14:37:27,498 - INFO: rule build_joint_graph:\n",
      "    input: /tmp/paths.txt\n",
      "    output: /tmp/metagraph_workflows/output_dir/graph_canonical.dbg\n",
      "    log: /tmp/metagraph_workflows/output_dir/logs/build_joint_graph.log\n",
      "    jobid: 3\n",
      "    resources: mem_mb=4048, disk_mb=10240\n",
      "\n",
      "2021-10-19 14:37:27,501 - INFO: \n",
      "[Tue Oct 19 14:37:27 2021]\n",
      "2021-10-19 14:37:27,898 - INFO: [Tue Oct 19 14:37:27 2021]\n",
      "Finished job 3.\n",
      "2021-10-19 14:37:27,900 - INFO: Finished job 3.\n",
      "1 of 11 steps (9%) done\n",
      "2021-10-19 14:37:27,903 - INFO: 1 of 11 steps (9%) done\n",
      "\n",
      "2021-10-19 14:37:27,906 - INFO: \n",
      "[Tue Oct 19 14:37:27 2021]\n",
      "2021-10-19 14:37:27,908 - INFO: [Tue Oct 19 14:37:27 2021]\n",
      "rule primarize_joint_graph:\n",
      "    input: /tmp/metagraph_workflows/output_dir/graph_canonical.dbg\n",
      "    output: /tmp/metagraph_workflows/output_dir/graph_primary.fasta.gz\n",
      "    log: /tmp/metagraph_workflows/output_dir/logs/primarize_joint_graph.log\n",
      "    jobid: 2\n",
      "    resources: mem_mb=4048\n",
      "2021-10-19 14:37:27,911 - INFO: rule primarize_joint_graph:\n",
      "    input: /tmp/metagraph_workflows/output_dir/graph_canonical.dbg\n",
      "    output: /tmp/metagraph_workflows/output_dir/graph_primary.fasta.gz\n",
      "    log: /tmp/metagraph_workflows/output_dir/logs/primarize_joint_graph.log\n",
      "    jobid: 2\n",
      "    resources: mem_mb=4048\n",
      "\n",
      "2021-10-19 14:37:27,914 - INFO: \n",
      "Removing temporary output file /tmp/metagraph_workflows/output_dir/graph_canonical.dbg.\n",
      "2021-10-19 14:37:28,208 - WARNING: Removing temporary output file /tmp/metagraph_workflows/output_dir/graph_canonical.dbg.\n",
      "[Tue Oct 19 14:37:28 2021]\n",
      "2021-10-19 14:37:28,211 - INFO: [Tue Oct 19 14:37:28 2021]\n",
      "Finished job 2.\n",
      "2021-10-19 14:37:28,214 - INFO: Finished job 2.\n",
      "2 of 11 steps (18%) done\n",
      "2021-10-19 14:37:28,217 - INFO: 2 of 11 steps (18%) done\n",
      "\n",
      "2021-10-19 14:37:28,221 - INFO: \n",
      "[Tue Oct 19 14:37:28 2021]\n",
      "2021-10-19 14:37:28,227 - INFO: [Tue Oct 19 14:37:28 2021]\n",
      "rule build_joint_primary:\n",
      "    input: /tmp/metagraph_workflows/output_dir/graph_primary.fasta.gz\n",
      "    output: /tmp/metagraph_workflows/output_dir/graph.dbg\n",
      "    log: /tmp/metagraph_workflows/output_dir/logs/build_joint_primary.log\n",
      "    jobid: 1\n",
      "    resources: mem_mb=4048, disk_mb=10240\n",
      "2021-10-19 14:37:28,239 - INFO: rule build_joint_primary:\n",
      "    input: /tmp/metagraph_workflows/output_dir/graph_primary.fasta.gz\n",
      "    output: /tmp/metagraph_workflows/output_dir/graph.dbg\n",
      "    log: /tmp/metagraph_workflows/output_dir/logs/build_joint_primary.log\n",
      "    jobid: 1\n",
      "    resources: mem_mb=4048, disk_mb=10240\n",
      "\n",
      "2021-10-19 14:37:28,246 - INFO: \n",
      "Removing temporary output file /tmp/metagraph_workflows/output_dir/graph_primary.fasta.gz.\n",
      "2021-10-19 14:37:28,561 - WARNING: Removing temporary output file /tmp/metagraph_workflows/output_dir/graph_primary.fasta.gz.\n",
      "[Tue Oct 19 14:37:28 2021]\n",
      "2021-10-19 14:37:28,565 - INFO: [Tue Oct 19 14:37:28 2021]\n",
      "Finished job 1.\n",
      "2021-10-19 14:37:28,567 - INFO: Finished job 1.\n",
      "3 of 11 steps (27%) done\n",
      "2021-10-19 14:37:28,570 - INFO: 3 of 11 steps (27%) done\n",
      "\n",
      "2021-10-19 14:37:28,575 - INFO: \n",
      "[Tue Oct 19 14:37:28 2021]\n",
      "2021-10-19 14:37:28,578 - INFO: [Tue Oct 19 14:37:28 2021]\n",
      "rule annotate:\n",
      "    input: /tmp/paths.txt, /tmp/metagraph_workflows/output_dir/graph.dbg\n",
      "    output: /tmp/metagraph_workflows/output_dir/columns/DONE, /tmp/metagraph_workflows/output_dir/columns/SRR5122826_subreads.fastq.gz.column.annodbg, /tmp/metagraph_workflows/output_dir/columns/SRR5122830_subreads.fastq.gz.column.annodbg\n",
      "    log: /tmp/metagraph_workflows/output_dir/logs/annotate.log\n",
      "    jobid: 8\n",
      "    resources: mem_mb=4048\n",
      "2021-10-19 14:37:28,592 - INFO: rule annotate:\n",
      "    input: /tmp/paths.txt, /tmp/metagraph_workflows/output_dir/graph.dbg\n",
      "    output: /tmp/metagraph_workflows/output_dir/columns/DONE, /tmp/metagraph_workflows/output_dir/columns/SRR5122826_subreads.fastq.gz.column.annodbg, /tmp/metagraph_workflows/output_dir/columns/SRR5122830_subreads.fastq.gz.column.annodbg\n",
      "    log: /tmp/metagraph_workflows/output_dir/logs/annotate.log\n",
      "    jobid: 8\n",
      "    resources: mem_mb=4048\n",
      "\n",
      "2021-10-19 14:37:28,595 - INFO: \n",
      "Touching output file /tmp/metagraph_workflows/output_dir/columns/DONE.\n",
      "2021-10-19 14:37:29,548 - WARNING: Touching output file /tmp/metagraph_workflows/output_dir/columns/DONE.\n",
      "[Tue Oct 19 14:37:29 2021]\n",
      "2021-10-19 14:37:29,581 - INFO: [Tue Oct 19 14:37:29 2021]\n",
      "Finished job 8.\n",
      "2021-10-19 14:37:29,585 - INFO: Finished job 8.\n",
      "4 of 11 steps (36%) done\n",
      "2021-10-19 14:37:29,590 - INFO: 4 of 11 steps (36%) done\n",
      "\n",
      "2021-10-19 14:37:29,595 - INFO: \n",
      "[Tue Oct 19 14:37:29 2021]\n",
      "2021-10-19 14:37:29,599 - INFO: [Tue Oct 19 14:37:29 2021]\n",
      "localrule generate_column_list:\n",
      "    input: /tmp/metagraph_workflows/output_dir/columns/SRR5122826_subreads.fastq.gz.column.annodbg, /tmp/metagraph_workflows/output_dir/columns/SRR5122830_subreads.fastq.gz.column.annodbg\n",
      "    output: /tmp/metagraph_workflows/output_dir/columns.txt\n",
      "    jobid: 7\n",
      "2021-10-19 14:37:29,603 - INFO: localrule generate_column_list:\n",
      "    input: /tmp/metagraph_workflows/output_dir/columns/SRR5122826_subreads.fastq.gz.column.annodbg, /tmp/metagraph_workflows/output_dir/columns/SRR5122830_subreads.fastq.gz.column.annodbg\n",
      "    output: /tmp/metagraph_workflows/output_dir/columns.txt\n",
      "    jobid: 7\n",
      "\n",
      "2021-10-19 14:37:29,609 - INFO: \n",
      "[Tue Oct 19 14:37:30 2021]\n",
      "2021-10-19 14:37:30,408 - INFO: [Tue Oct 19 14:37:30 2021]\n",
      "Finished job 7.\n",
      "2021-10-19 14:37:30,411 - INFO: Finished job 7.\n",
      "5 of 11 steps (45%) done\n",
      "2021-10-19 14:37:30,415 - INFO: 5 of 11 steps (45%) done\n",
      "\n",
      "2021-10-19 14:37:30,442 - INFO: \n",
      "[Tue Oct 19 14:37:30 2021]\n",
      "2021-10-19 14:37:30,445 - INFO: [Tue Oct 19 14:37:30 2021]\n",
      "rule transform_rd_stage0:\n",
      "    input: /tmp/metagraph_workflows/output_dir/graph.dbg, /tmp/metagraph_workflows/output_dir/columns.txt\n",
      "    output: /tmp/metagraph_workflows/output_dir/rd_cols/vector.row_count\n",
      "    log: /tmp/metagraph_workflows/output_dir/logs/transform_rd_stage0.log\n",
      "    jobid: 10\n",
      "    resources: mem_mb=2048\n",
      "2021-10-19 14:37:30,450 - INFO: rule transform_rd_stage0:\n",
      "    input: /tmp/metagraph_workflows/output_dir/graph.dbg, /tmp/metagraph_workflows/output_dir/columns.txt\n",
      "    output: /tmp/metagraph_workflows/output_dir/rd_cols/vector.row_count\n",
      "    log: /tmp/metagraph_workflows/output_dir/logs/transform_rd_stage0.log\n",
      "    jobid: 10\n",
      "    resources: mem_mb=2048\n",
      "\n",
      "2021-10-19 14:37:30,457 - INFO: \n",
      "[Tue Oct 19 14:37:30 2021]\n",
      "2021-10-19 14:37:30,752 - INFO: [Tue Oct 19 14:37:30 2021]\n",
      "Finished job 10.\n",
      "2021-10-19 14:37:30,754 - INFO: Finished job 10.\n",
      "6 of 11 steps (55%) done\n",
      "2021-10-19 14:37:30,756 - INFO: 6 of 11 steps (55%) done\n",
      "\n",
      "2021-10-19 14:37:30,762 - INFO: \n",
      "[Tue Oct 19 14:37:30 2021]\n",
      "2021-10-19 14:37:30,783 - INFO: [Tue Oct 19 14:37:30 2021]\n",
      "rule transform_rd_stage1:\n",
      "    input: /tmp/metagraph_workflows/output_dir/graph.dbg, /tmp/metagraph_workflows/output_dir/columns.txt, /tmp/metagraph_workflows/output_dir/rd_cols/vector.row_count\n",
      "    output: /tmp/metagraph_workflows/output_dir/graph.dbg.pred, /tmp/metagraph_workflows/output_dir/graph.dbg.pred_boundary, /tmp/metagraph_workflows/output_dir/graph.dbg.rd_succ, /tmp/metagraph_workflows/output_dir/graph.dbg.succ, /tmp/metagraph_workflows/output_dir/graph.dbg.succ_boundary, /tmp/metagraph_workflows/output_dir/rd_cols/vectors.row_reduction\n",
      "    log: /tmp/metagraph_workflows/output_dir/logs/transform_rd_stage1.log\n",
      "    jobid: 9\n",
      "    resources: mem_mb=4048\n"
     ]
    },
    {
     "name": "stderr",
     "output_type": "stream",
     "text": [
      "2021-10-19 14:37:30,800 - INFO: rule transform_rd_stage1:\n",
      "    input: /tmp/metagraph_workflows/output_dir/graph.dbg, /tmp/metagraph_workflows/output_dir/columns.txt, /tmp/metagraph_workflows/output_dir/rd_cols/vector.row_count\n",
      "    output: /tmp/metagraph_workflows/output_dir/graph.dbg.pred, /tmp/metagraph_workflows/output_dir/graph.dbg.pred_boundary, /tmp/metagraph_workflows/output_dir/graph.dbg.rd_succ, /tmp/metagraph_workflows/output_dir/graph.dbg.succ, /tmp/metagraph_workflows/output_dir/graph.dbg.succ_boundary, /tmp/metagraph_workflows/output_dir/rd_cols/vectors.row_reduction\n",
      "    log: /tmp/metagraph_workflows/output_dir/logs/transform_rd_stage1.log\n",
      "    jobid: 9\n",
      "    resources: mem_mb=4048\n",
      "\n",
      "2021-10-19 14:37:30,809 - INFO: \n",
      "[Tue Oct 19 14:37:38 2021]\n",
      "2021-10-19 14:37:38,427 - INFO: [Tue Oct 19 14:37:38 2021]\n",
      "Finished job 9.\n",
      "2021-10-19 14:37:38,430 - INFO: Finished job 9.\n",
      "7 of 11 steps (64%) done\n",
      "2021-10-19 14:37:38,431 - INFO: 7 of 11 steps (64%) done\n",
      "\n",
      "2021-10-19 14:37:38,435 - INFO: \n",
      "[Tue Oct 19 14:37:38 2021]\n",
      "2021-10-19 14:37:38,441 - INFO: [Tue Oct 19 14:37:38 2021]\n",
      "rule transform_rd_stage2:\n",
      "    input: /tmp/metagraph_workflows/output_dir/graph.dbg, /tmp/metagraph_workflows/output_dir/columns.txt, /tmp/metagraph_workflows/output_dir/rd_cols/vectors.row_reduction\n",
      "    output: /tmp/metagraph_workflows/output_dir/graph.dbg.anchors, /tmp/metagraph_workflows/output_dir/rd_cols/DONE\n",
      "    log: /tmp/metagraph_workflows/output_dir/logs/transform_rd_stage2.log\n",
      "    jobid: 6\n",
      "    resources: mem_mb=4048\n",
      "2021-10-19 14:37:38,453 - INFO: rule transform_rd_stage2:\n",
      "    input: /tmp/metagraph_workflows/output_dir/graph.dbg, /tmp/metagraph_workflows/output_dir/columns.txt, /tmp/metagraph_workflows/output_dir/rd_cols/vectors.row_reduction\n",
      "    output: /tmp/metagraph_workflows/output_dir/graph.dbg.anchors, /tmp/metagraph_workflows/output_dir/rd_cols/DONE\n",
      "    log: /tmp/metagraph_workflows/output_dir/logs/transform_rd_stage2.log\n",
      "    jobid: 6\n",
      "    resources: mem_mb=4048\n",
      "\n",
      "2021-10-19 14:37:38,465 - INFO: \n",
      "Touching output file /tmp/metagraph_workflows/output_dir/rd_cols/DONE.\n",
      "2021-10-19 14:37:50,273 - WARNING: Touching output file /tmp/metagraph_workflows/output_dir/rd_cols/DONE.\n",
      "[Tue Oct 19 14:37:50 2021]\n",
      "2021-10-19 14:37:50,294 - INFO: [Tue Oct 19 14:37:50 2021]\n",
      "Finished job 6.\n",
      "2021-10-19 14:37:50,296 - INFO: Finished job 6.\n",
      "8 of 11 steps (73%) done\n",
      "2021-10-19 14:37:50,300 - INFO: 8 of 11 steps (73%) done\n",
      "\n",
      "2021-10-19 14:37:50,327 - INFO: \n",
      "[Tue Oct 19 14:37:50 2021]\n",
      "2021-10-19 14:37:50,331 - INFO: [Tue Oct 19 14:37:50 2021]\n",
      "rule annotate_row_diff_brwt:\n",
      "    input: /tmp/metagraph_workflows/output_dir/graph.dbg.anchors, /tmp/metagraph_workflows/output_dir/rd_cols/DONE, /tmp/metagraph_workflows/output_dir/graph.dbg\n",
      "    output: /tmp/metagraph_workflows/output_dir/graph.row_diff_brwt.annodbg, /tmp/metagraph_workflows/output_dir/graph.row_diff_brwt.annodbg.linkage\n",
      "    log: /tmp/metagraph_workflows/output_dir/logs/annotate_row_diff_brwt.log\n",
      "    jobid: 5\n",
      "    resources: mem_mb=4048\n",
      "2021-10-19 14:37:50,334 - INFO: rule annotate_row_diff_brwt:\n",
      "    input: /tmp/metagraph_workflows/output_dir/graph.dbg.anchors, /tmp/metagraph_workflows/output_dir/rd_cols/DONE, /tmp/metagraph_workflows/output_dir/graph.dbg\n",
      "    output: /tmp/metagraph_workflows/output_dir/graph.row_diff_brwt.annodbg, /tmp/metagraph_workflows/output_dir/graph.row_diff_brwt.annodbg.linkage\n",
      "    log: /tmp/metagraph_workflows/output_dir/logs/annotate_row_diff_brwt.log\n",
      "    jobid: 5\n",
      "    resources: mem_mb=4048\n",
      "\n",
      "2021-10-19 14:37:50,345 - INFO: \n",
      "[Tue Oct 19 14:37:57 2021]\n",
      "2021-10-19 14:37:57,042 - INFO: [Tue Oct 19 14:37:57 2021]\n",
      "Finished job 5.\n",
      "2021-10-19 14:37:57,045 - INFO: Finished job 5.\n",
      "9 of 11 steps (82%) done\n",
      "2021-10-19 14:37:57,047 - INFO: 9 of 11 steps (82%) done\n",
      "\n",
      "2021-10-19 14:37:57,049 - INFO: \n",
      "[Tue Oct 19 14:37:57 2021]\n",
      "2021-10-19 14:37:57,052 - INFO: [Tue Oct 19 14:37:57 2021]\n",
      "rule relax_row_diff_brwt:\n",
      "    input: /tmp/metagraph_workflows/output_dir/graph.row_diff_brwt.annodbg\n",
      "    output: /tmp/metagraph_workflows/output_dir/graph.relax.row_diff_brwt.annodbg\n",
      "    log: /tmp/metagraph_workflows/output_dir/logs/relax_row_diff_brwt.log\n",
      "    jobid: 4\n",
      "    resources: mem_mb=4048\n",
      "2021-10-19 14:37:57,063 - INFO: rule relax_row_diff_brwt:\n",
      "    input: /tmp/metagraph_workflows/output_dir/graph.row_diff_brwt.annodbg\n",
      "    output: /tmp/metagraph_workflows/output_dir/graph.relax.row_diff_brwt.annodbg\n",
      "    log: /tmp/metagraph_workflows/output_dir/logs/relax_row_diff_brwt.log\n",
      "    jobid: 4\n",
      "    resources: mem_mb=4048\n",
      "\n",
      "2021-10-19 14:37:57,067 - INFO: \n",
      "[Tue Oct 19 14:37:57 2021]\n",
      "2021-10-19 14:37:57,377 - INFO: [Tue Oct 19 14:37:57 2021]\n",
      "Finished job 4.\n",
      "2021-10-19 14:37:57,379 - INFO: Finished job 4.\n",
      "10 of 11 steps (91%) done\n",
      "2021-10-19 14:37:57,380 - INFO: 10 of 11 steps (91%) done\n",
      "\n",
      "2021-10-19 14:37:57,383 - INFO: \n",
      "[Tue Oct 19 14:37:57 2021]\n",
      "2021-10-19 14:37:57,385 - INFO: [Tue Oct 19 14:37:57 2021]\n",
      "localrule all:\n",
      "    input: /tmp/metagraph_workflows/output_dir/graph.dbg, /tmp/metagraph_workflows/output_dir/graph.relax.row_diff_brwt.annodbg\n",
      "    jobid: 0\n",
      "2021-10-19 14:37:57,390 - INFO: localrule all:\n",
      "    input: /tmp/metagraph_workflows/output_dir/graph.dbg, /tmp/metagraph_workflows/output_dir/graph.relax.row_diff_brwt.annodbg\n",
      "    jobid: 0\n",
      "\n",
      "2021-10-19 14:37:57,395 - INFO: \n",
      "[Tue Oct 19 14:37:57 2021]\n",
      "2021-10-19 14:37:57,398 - INFO: [Tue Oct 19 14:37:57 2021]\n",
      "Finished job 0.\n",
      "2021-10-19 14:37:57,403 - INFO: Finished job 0.\n",
      "11 of 11 steps (100%) done\n",
      "2021-10-19 14:37:57,408 - INFO: 11 of 11 steps (100%) done\n",
      "Complete log: /Users/marc/git/projects2014-metagenome/metagraph/workflows/notebooks/.snakemake/log/2021-10-19T143727.055182.snakemake.log\n",
      "2021-10-19 14:37:57,415 - WARNING: Complete log: /Users/marc/git/projects2014-metagenome/metagraph/workflows/notebooks/.snakemake/log/2021-10-19T143727.055182.snakemake.log\n"
     ]
    }
   ],
   "source": [
    "cli.run_build_workflow(output_dir, sample_list_path, build_primary_graph=True, \n",
    "                       force=True, k=5, verbose=False, threads=2,\n",
    "                       annotation_labels_source=workflow_configs.AnnotationLabelsSource.SEQUENCE_HEADERS);"
   ]
  },
  {
   "cell_type": "markdown",
   "id": "prostate-plaza",
   "metadata": {
    "execution": {
     "iopub.execute_input": "2021-03-26T08:53:52.948433Z",
     "iopub.status.busy": "2021-03-26T08:53:52.947770Z",
     "iopub.status.idle": "2021-03-26T08:53:52.995178Z",
     "shell.execute_reply": "2021-03-26T08:53:52.993944Z",
     "shell.execute_reply.started": "2021-03-26T08:53:52.948384Z"
    },
    "tags": []
   },
   "source": [
    "## Querying Index"
   ]
  },
  {
   "cell_type": "code",
   "execution_count": 11,
   "id": "photographic-incentive",
   "metadata": {
    "ExecuteTime": {
     "end_time": "2021-10-19T12:37:57.643953Z",
     "start_time": "2021-10-19T12:37:57.448265Z"
    },
    "execution": {
     "iopub.execute_input": "2021-03-31T07:55:53.024150Z",
     "iopub.status.busy": "2021-03-31T07:55:53.023769Z",
     "iopub.status.idle": "2021-03-31T07:55:53.213976Z",
     "shell.execute_reply": "2021-03-31T07:55:53.212880Z",
     "shell.execute_reply.started": "2021-03-31T07:55:53.024121Z"
    },
    "tags": []
   },
   "outputs": [
    {
     "name": "stdout",
     "output_type": "stream",
     "text": [
      "\u001b[34mcolumns\u001b[m\u001b[m                             graph.dbg.succ\r\n",
      "columns.txt                         graph.dbg.succ_boundary\r\n",
      "graph.dbg                           graph.relax.row_diff_brwt.annodbg\r\n",
      "graph.dbg.anchors                   graph.row_diff_brwt.annodbg\r\n",
      "graph.dbg.pred                      graph.row_diff_brwt.annodbg.linkage\r\n",
      "graph.dbg.pred_boundary             \u001b[34mlogs\u001b[m\u001b[m\r\n",
      "graph.dbg.rd_succ                   \u001b[34mrd_cols\u001b[m\u001b[m\r\n"
     ]
    }
   ],
   "source": [
    "!ls {output_dir}"
   ]
  },
  {
   "cell_type": "code",
   "execution_count": 12,
   "id": "neither-balance",
   "metadata": {
    "ExecuteTime": {
     "end_time": "2021-10-19T12:37:57.678758Z",
     "start_time": "2021-10-19T12:37:57.646744Z"
    },
    "execution": {
     "iopub.execute_input": "2021-03-31T07:55:53.216106Z",
     "iopub.status.busy": "2021-03-31T07:55:53.215739Z",
     "iopub.status.idle": "2021-03-31T07:55:53.268315Z",
     "shell.execute_reply": "2021-03-31T07:55:53.267389Z",
     "shell.execute_reply.started": "2021-03-31T07:55:53.216043Z"
    },
    "tags": []
   },
   "outputs": [],
   "source": [
    "graph_path = output_dir / 'graph.dbg'\n",
    "annotations = output_dir / 'graph.relax.row_diff_brwt.annodbg'"
   ]
  },
  {
   "cell_type": "code",
   "execution_count": 13,
   "id": "herbal-portugal",
   "metadata": {
    "ExecuteTime": {
     "end_time": "2021-10-19T12:37:57.735200Z",
     "start_time": "2021-10-19T12:37:57.681257Z"
    }
   },
   "outputs": [
    {
     "data": {
      "text/plain": [
       "<function __main__.kill_server()>"
      ]
     },
     "execution_count": 13,
     "metadata": {},
     "output_type": "execute_result"
    }
   ],
   "source": [
    "# some \"magic\" to start a metagraph server on the commandline\n",
    "import asyncio\n",
    "import atexit\n",
    "\n",
    "s = asyncio.create_subprocess_shell(f\"metagraph server_query -i {graph_path} -a {annotations}\")\n",
    "process = asyncio.run(s)\n",
    "\n",
    "def kill_server():\n",
    "    process.kill()\n",
    "\n",
    "atexit.register(kill_server) # shutting down server, when jupyter kernel exits"
   ]
  },
  {
   "cell_type": "code",
   "execution_count": 14,
   "id": "heated-edmonton",
   "metadata": {
    "ExecuteTime": {
     "end_time": "2021-10-19T12:37:58.754758Z",
     "start_time": "2021-10-19T12:37:57.739594Z"
    },
    "execution": {
     "iopub.execute_input": "2021-03-31T07:55:53.331447Z",
     "iopub.status.busy": "2021-03-31T07:55:53.331031Z",
     "iopub.status.idle": "2021-03-31T07:55:53.576023Z",
     "shell.execute_reply": "2021-03-31T07:55:53.572471Z",
     "shell.execute_reply.started": "2021-03-31T07:55:53.331400Z"
    },
    "tags": []
   },
   "outputs": [],
   "source": [
    "# https://metagraph.ethz.ch/static/docs/api.html#install-api\n",
    "from metagraph import client\n",
    "cl = client.GraphClient('localhost', '5555')"
   ]
  },
  {
   "cell_type": "code",
   "execution_count": 15,
   "id": "sunset-tours",
   "metadata": {
    "ExecuteTime": {
     "end_time": "2021-10-19T12:37:58.792925Z",
     "start_time": "2021-10-19T12:37:58.757139Z"
    },
    "execution": {
     "iopub.status.busy": "2021-03-31T07:55:53.581790Z",
     "iopub.status.idle": "2021-03-31T07:55:53.582293Z",
     "shell.execute_reply": "2021-03-31T07:55:53.582052Z"
    },
    "tags": []
   },
   "outputs": [],
   "source": [
    "example_seq = 'ACCACCCAAGACTGTAATTGTTCCATCTACACAGGACATATCACAGGACACAGAATGGCTTGGGACATGATGATGAATTGGAGCCCCACCGCGACGCTGGTCCTCGCCCAACT'"
   ]
  },
  {
   "cell_type": "code",
   "execution_count": 16,
   "id": "entitled-watershed",
   "metadata": {
    "ExecuteTime": {
     "end_time": "2021-10-19T12:37:58.895090Z",
     "start_time": "2021-10-19T12:37:58.795984Z"
    },
    "execution": {
     "iopub.status.busy": "2021-03-31T07:55:53.586151Z",
     "iopub.status.idle": "2021-03-31T07:55:53.587415Z",
     "shell.execute_reply": "2021-03-31T07:55:53.586566Z"
    },
    "tags": []
   },
   "outputs": [
    {
     "data": {
      "text/html": [
       "<div>\n",
       "<style scoped>\n",
       "    .dataframe tbody tr th:only-of-type {\n",
       "        vertical-align: middle;\n",
       "    }\n",
       "\n",
       "    .dataframe tbody tr th {\n",
       "        vertical-align: top;\n",
       "    }\n",
       "\n",
       "    .dataframe thead th {\n",
       "        text-align: right;\n",
       "    }\n",
       "</style>\n",
       "<table border=\"1\" class=\"dataframe\">\n",
       "  <thead>\n",
       "    <tr style=\"text-align: right;\">\n",
       "      <th></th>\n",
       "      <th>kmer_count</th>\n",
       "      <th>sample</th>\n",
       "      <th>seq_description</th>\n",
       "    </tr>\n",
       "  </thead>\n",
       "  <tbody>\n",
       "    <tr>\n",
       "      <th>0</th>\n",
       "      <td>109</td>\n",
       "      <td>SRR5122826.1</td>\n",
       "      <td>0</td>\n",
       "    </tr>\n",
       "    <tr>\n",
       "      <th>1</th>\n",
       "      <td>109</td>\n",
       "      <td>SRR5122826.2</td>\n",
       "      <td>0</td>\n",
       "    </tr>\n",
       "    <tr>\n",
       "      <th>2</th>\n",
       "      <td>109</td>\n",
       "      <td>SRR5122826.3</td>\n",
       "      <td>0</td>\n",
       "    </tr>\n",
       "    <tr>\n",
       "      <th>3</th>\n",
       "      <td>109</td>\n",
       "      <td>SRR5122826.4</td>\n",
       "      <td>0</td>\n",
       "    </tr>\n",
       "    <tr>\n",
       "      <th>4</th>\n",
       "      <td>109</td>\n",
       "      <td>SRR5122826.5</td>\n",
       "      <td>0</td>\n",
       "    </tr>\n",
       "    <tr>\n",
       "      <th>...</th>\n",
       "      <td>...</td>\n",
       "      <td>...</td>\n",
       "      <td>...</td>\n",
       "    </tr>\n",
       "    <tr>\n",
       "      <th>95</th>\n",
       "      <td>109</td>\n",
       "      <td>SRR5122826.108</td>\n",
       "      <td>0</td>\n",
       "    </tr>\n",
       "    <tr>\n",
       "      <th>96</th>\n",
       "      <td>109</td>\n",
       "      <td>SRR5122826.109</td>\n",
       "      <td>0</td>\n",
       "    </tr>\n",
       "    <tr>\n",
       "      <th>97</th>\n",
       "      <td>109</td>\n",
       "      <td>SRR5122826.111</td>\n",
       "      <td>0</td>\n",
       "    </tr>\n",
       "    <tr>\n",
       "      <th>98</th>\n",
       "      <td>109</td>\n",
       "      <td>SRR5122826.112</td>\n",
       "      <td>0</td>\n",
       "    </tr>\n",
       "    <tr>\n",
       "      <th>99</th>\n",
       "      <td>109</td>\n",
       "      <td>SRR5122826.113</td>\n",
       "      <td>0</td>\n",
       "    </tr>\n",
       "  </tbody>\n",
       "</table>\n",
       "<p>100 rows × 3 columns</p>\n",
       "</div>"
      ],
      "text/plain": [
       "    kmer_count          sample seq_description\n",
       "0          109    SRR5122826.1               0\n",
       "1          109    SRR5122826.2               0\n",
       "2          109    SRR5122826.3               0\n",
       "3          109    SRR5122826.4               0\n",
       "4          109    SRR5122826.5               0\n",
       "..         ...             ...             ...\n",
       "95         109  SRR5122826.108               0\n",
       "96         109  SRR5122826.109               0\n",
       "97         109  SRR5122826.111               0\n",
       "98         109  SRR5122826.112               0\n",
       "99         109  SRR5122826.113               0\n",
       "\n",
       "[100 rows x 3 columns]"
      ]
     },
     "execution_count": 16,
     "metadata": {},
     "output_type": "execute_result"
    }
   ],
   "source": [
    "# we should find the sequence back!\n",
    "cl.search([example_seq])"
   ]
  }
 ],
 "metadata": {
  "hide_input": false,
  "kernelspec": {
   "display_name": "Python (metagraph-workflows)",
   "language": "python",
   "name": "metagraph-workflows"
  },
  "language_info": {
   "codemirror_mode": {
    "name": "ipython",
    "version": 3
   },
   "file_extension": ".py",
   "mimetype": "text/x-python",
   "name": "python",
   "nbconvert_exporter": "python",
   "pygments_lexer": "ipython3",
   "version": "3.8.8"
  },
  "toc": {
   "base_numbering": 1,
   "nav_menu": {},
   "number_sections": true,
   "sideBar": true,
   "skip_h1_title": false,
   "title_cell": "Table of Contents",
   "title_sidebar": "Contents",
   "toc_cell": false,
   "toc_position": {},
   "toc_section_display": true,
   "toc_window_display": false
  }
 },
 "nbformat": 4,
 "nbformat_minor": 5
}
