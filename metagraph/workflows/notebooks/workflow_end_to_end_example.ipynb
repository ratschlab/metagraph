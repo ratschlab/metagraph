{
 "cells": [
  {
   "cell_type": "code",
   "execution_count": 1,
   "id": "proper-norway",
   "metadata": {
    "ExecuteTime": {
     "end_time": "2021-10-19T09:50:37.098300Z",
     "start_time": "2021-10-19T09:50:37.054249Z"
    },
    "execution": {
     "iopub.execute_input": "2021-03-31T07:55:44.254485Z",
     "iopub.status.busy": "2021-03-31T07:55:44.253980Z",
     "iopub.status.idle": "2021-03-31T07:55:44.393638Z",
     "shell.execute_reply": "2021-03-31T07:55:44.392335Z",
     "shell.execute_reply.started": "2021-03-31T07:55:44.254352Z"
    },
    "tags": []
   },
   "outputs": [],
   "source": [
    "%load_ext autoreload\n",
    "%autoreload 2"
   ]
  },
  {
   "cell_type": "code",
   "execution_count": 2,
   "id": "unlike-poster",
   "metadata": {
    "ExecuteTime": {
     "end_time": "2021-10-19T09:50:37.178469Z",
     "start_time": "2021-10-19T09:50:37.106424Z"
    }
   },
   "outputs": [],
   "source": [
    "# needed to call snakemake from jupyter notebook\n",
    "import nest_asyncio\n",
    "nest_asyncio.apply()"
   ]
  },
  {
   "cell_type": "code",
   "execution_count": 3,
   "id": "hungarian-frequency",
   "metadata": {
    "ExecuteTime": {
     "end_time": "2021-10-19T09:50:37.565443Z",
     "start_time": "2021-10-19T09:50:37.187460Z"
    },
    "execution": {
     "iopub.execute_input": "2021-03-31T07:55:44.508512Z",
     "iopub.status.busy": "2021-03-31T07:55:44.507820Z",
     "iopub.status.idle": "2021-03-31T07:55:44.622865Z",
     "shell.execute_reply": "2021-03-31T07:55:44.621694Z",
     "shell.execute_reply.started": "2021-03-31T07:55:44.508477Z"
    },
    "tags": []
   },
   "outputs": [],
   "source": [
    "from metagraph_workflows import cli\n",
    "from pathlib import Path\n",
    "\n",
    "from metagraph_workflows import workflow_configs"
   ]
  },
  {
   "cell_type": "markdown",
   "id": "intended-oklahoma",
   "metadata": {
    "execution": {
     "iopub.execute_input": "2021-03-26T08:52:06.016430Z",
     "iopub.status.busy": "2021-03-26T08:52:06.015907Z",
     "iopub.status.idle": "2021-03-26T08:52:06.056002Z",
     "shell.execute_reply": "2021-03-26T08:52:06.053820Z",
     "shell.execute_reply.started": "2021-03-26T08:52:06.016390Z"
    },
    "tags": []
   },
   "source": [
    "## Building Index"
   ]
  },
  {
   "cell_type": "code",
   "execution_count": 4,
   "id": "everyday-opportunity",
   "metadata": {
    "ExecuteTime": {
     "end_time": "2021-10-19T09:50:38.523091Z",
     "start_time": "2021-10-19T09:50:37.581129Z"
    },
    "execution": {
     "iopub.execute_input": "2021-03-31T07:55:44.624629Z",
     "iopub.status.busy": "2021-03-31T07:55:44.624313Z",
     "iopub.status.idle": "2021-03-31T07:55:45.459745Z",
     "shell.execute_reply": "2021-03-31T07:55:45.458994Z",
     "shell.execute_reply.started": "2021-03-31T07:55:44.624601Z"
    },
    "tags": []
   },
   "outputs": [],
   "source": [
    "from Bio.SeqRecord import SeqRecord\n",
    "from Bio.Seq import Seq\n",
    "from Bio import SeqIO"
   ]
  },
  {
   "cell_type": "code",
   "execution_count": 5,
   "id": "social-combining",
   "metadata": {
    "ExecuteTime": {
     "end_time": "2021-10-19T09:50:38.555802Z",
     "start_time": "2021-10-19T09:50:38.525275Z"
    },
    "execution": {
     "iopub.execute_input": "2021-03-31T07:55:45.461391Z",
     "iopub.status.busy": "2021-03-31T07:55:45.461004Z",
     "iopub.status.idle": "2021-03-31T07:55:45.567795Z",
     "shell.execute_reply": "2021-03-31T07:55:45.565709Z",
     "shell.execute_reply.started": "2021-03-31T07:55:45.461361Z"
    },
    "tags": []
   },
   "outputs": [
    {
     "data": {
      "text/plain": [
       "SeqRecord(seq='AGTACACTGGTAGTACACTGGTAGTACACTGGT', id='1', name='<unknown name>', description='<unknown description>', dbxrefs=[])"
      ]
     },
     "execution_count": 5,
     "metadata": {},
     "output_type": "execute_result"
    }
   ],
   "source": [
    "SeqRecord(\"AGTACACTGGTAGTACACTGGTAGTACACTGGT\", '1')"
   ]
  },
  {
   "cell_type": "code",
   "execution_count": 6,
   "id": "opening-bankruptcy",
   "metadata": {
    "ExecuteTime": {
     "end_time": "2021-10-19T09:50:38.595632Z",
     "start_time": "2021-10-19T09:50:38.558258Z"
    },
    "execution": {
     "iopub.execute_input": "2021-03-31T07:55:45.580111Z",
     "iopub.status.busy": "2021-03-31T07:55:45.578286Z",
     "iopub.status.idle": "2021-03-31T07:55:45.653014Z",
     "shell.execute_reply": "2021-03-31T07:55:45.646511Z",
     "shell.execute_reply.started": "2021-03-31T07:55:45.580057Z"
    },
    "tags": []
   },
   "outputs": [],
   "source": [
    "seqs = [\n",
    "            SeqRecord(Seq(\"AGTACACTGGTAGTACACTGGTAGTACACTGGT\"), id='seq1'),\n",
    "            SeqRecord(Seq(\"A\"*40), 'seq2'),\n",
    "            SeqRecord(Seq(\"TTTCACTCTTTGATAGCAGCATGCTTAGTACTAAGCTAAGTCTCCAAGATTGTCGAGTCAGTCGCTTCATTTCTTCCTACCTGATACTAGTATGACTTGATCCTCCCGCTGCACGTAAAACCACAAAAGATACACTACTTAATTACCAGTAGAAATATACAATCAATGCAGTCATAGAATCGGAGGACAATACTTTGCCAAGCAGGGTTT\"), \"seq3\")\n",
    "]"
   ]
  },
  {
   "cell_type": "code",
   "execution_count": 7,
   "id": "critical-business",
   "metadata": {
    "ExecuteTime": {
     "end_time": "2021-10-19T09:50:38.632933Z",
     "start_time": "2021-10-19T09:50:38.600270Z"
    },
    "execution": {
     "iopub.execute_input": "2021-03-31T07:55:45.662256Z",
     "iopub.status.busy": "2021-03-31T07:55:45.661831Z",
     "iopub.status.idle": "2021-03-31T07:55:45.727419Z",
     "shell.execute_reply": "2021-03-31T07:55:45.726477Z",
     "shell.execute_reply.started": "2021-03-31T07:55:45.662210Z"
    },
    "tags": []
   },
   "outputs": [],
   "source": [
    "fasta_file = Path('/tmp/my.fasta')"
   ]
  },
  {
   "cell_type": "code",
   "execution_count": 8,
   "id": "through-alpha",
   "metadata": {
    "ExecuteTime": {
     "end_time": "2021-10-19T09:50:38.732449Z",
     "start_time": "2021-10-19T09:50:38.641413Z"
    },
    "execution": {
     "iopub.execute_input": "2021-03-31T07:55:45.739433Z",
     "iopub.status.busy": "2021-03-31T07:55:45.739102Z",
     "iopub.status.idle": "2021-03-31T07:55:45.830503Z",
     "shell.execute_reply": "2021-03-31T07:55:45.829540Z",
     "shell.execute_reply.started": "2021-03-31T07:55:45.739386Z"
    },
    "tags": []
   },
   "outputs": [],
   "source": [
    "with open(fasta_file, \"w\") as f:\n",
    "    SeqIO.write(seqs, f, 'fasta')"
   ]
  },
  {
   "cell_type": "code",
   "execution_count": 9,
   "id": "increased-planning",
   "metadata": {
    "ExecuteTime": {
     "end_time": "2021-10-19T09:50:38.898359Z",
     "start_time": "2021-10-19T09:50:38.736289Z"
    },
    "execution": {
     "iopub.execute_input": "2021-03-31T07:55:45.834544Z",
     "iopub.status.busy": "2021-03-31T07:55:45.834007Z",
     "iopub.status.idle": "2021-03-31T07:55:46.045777Z",
     "shell.execute_reply": "2021-03-31T07:55:46.044379Z",
     "shell.execute_reply.started": "2021-03-31T07:55:45.834497Z"
    },
    "tags": []
   },
   "outputs": [
    {
     "name": "stdout",
     "output_type": "stream",
     "text": [
      ">seq1 <unknown description>\r\n",
      "AGTACACTGGTAGTACACTGGTAGTACACTGGT\r\n",
      ">seq2 <unknown description>\r\n",
      "AAAAAAAAAAAAAAAAAAAAAAAAAAAAAAAAAAAAAAAA\r\n",
      ">seq3 <unknown description>\r\n",
      "TTTCACTCTTTGATAGCAGCATGCTTAGTACTAAGCTAAGTCTCCAAGATTGTCGAGTCA\r\n",
      "GTCGCTTCATTTCTTCCTACCTGATACTAGTATGACTTGATCCTCCCGCTGCACGTAAAA\r\n",
      "CCACAAAAGATACACTACTTAATTACCAGTAGAAATATACAATCAATGCAGTCATAGAAT\r\n",
      "CGGAGGACAATACTTTGCCAAGCAGGGTTT\r\n"
     ]
    }
   ],
   "source": [
    "!cat {fasta_file}"
   ]
  },
  {
   "cell_type": "code",
   "execution_count": 10,
   "id": "young-syndication",
   "metadata": {
    "ExecuteTime": {
     "end_time": "2021-10-19T09:50:38.932279Z",
     "start_time": "2021-10-19T09:50:38.901226Z"
    },
    "execution": {
     "iopub.execute_input": "2021-03-31T07:55:46.048662Z",
     "iopub.status.busy": "2021-03-31T07:55:46.047835Z",
     "iopub.status.idle": "2021-03-31T07:55:46.118796Z",
     "shell.execute_reply": "2021-03-31T07:55:46.117843Z",
     "shell.execute_reply.started": "2021-03-31T07:55:46.048574Z"
    },
    "tags": []
   },
   "outputs": [],
   "source": [
    "sample_list_path = Path('/tmp/paths.txt')"
   ]
  },
  {
   "cell_type": "code",
   "execution_count": 11,
   "id": "reflected-specification",
   "metadata": {
    "ExecuteTime": {
     "end_time": "2021-10-19T09:50:38.968170Z",
     "start_time": "2021-10-19T09:50:38.935287Z"
    },
    "execution": {
     "iopub.execute_input": "2021-03-31T07:55:46.122595Z",
     "iopub.status.busy": "2021-03-31T07:55:46.121935Z",
     "iopub.status.idle": "2021-03-31T07:55:46.191302Z",
     "shell.execute_reply": "2021-03-31T07:55:46.190377Z",
     "shell.execute_reply.started": "2021-03-31T07:55:46.122439Z"
    },
    "tags": []
   },
   "outputs": [],
   "source": [
    "def create_sample_list_path(path_list, out_path):\n",
    "    with open(out_path, \"w\") as f:\n",
    "        f.write('\\n'.join([str(p) for p in path_list]))\n",
    "\n",
    "create_sample_list_path([fasta_file], sample_list_path)"
   ]
  },
  {
   "cell_type": "code",
   "execution_count": 12,
   "id": "healthy-hamilton",
   "metadata": {
    "ExecuteTime": {
     "end_time": "2021-10-19T09:50:38.996955Z",
     "start_time": "2021-10-19T09:50:38.970542Z"
    },
    "execution": {
     "iopub.execute_input": "2021-03-31T07:55:46.194052Z",
     "iopub.status.busy": "2021-03-31T07:55:46.193386Z",
     "iopub.status.idle": "2021-03-31T07:55:46.252664Z",
     "shell.execute_reply": "2021-03-31T07:55:46.251673Z",
     "shell.execute_reply.started": "2021-03-31T07:55:46.194012Z"
    },
    "tags": []
   },
   "outputs": [],
   "source": [
    "output_dir = Path('/tmp/output_test')\n",
    "output_dir_primary =  Path('/tmp/output_test_primary')"
   ]
  },
  {
   "cell_type": "code",
   "execution_count": 13,
   "id": "vocational-glass",
   "metadata": {
    "ExecuteTime": {
     "end_time": "2021-10-19T09:50:39.162137Z",
     "start_time": "2021-10-19T09:50:38.999747Z"
    },
    "execution": {
     "iopub.execute_input": "2021-03-31T07:55:46.258697Z",
     "iopub.status.busy": "2021-03-31T07:55:46.256369Z",
     "iopub.status.idle": "2021-03-31T07:55:46.462993Z",
     "shell.execute_reply": "2021-03-31T07:55:46.462040Z",
     "shell.execute_reply.started": "2021-03-31T07:55:46.258635Z"
    },
    "tags": []
   },
   "outputs": [
    {
     "name": "stdout",
     "output_type": "stream",
     "text": [
      "/tmp/my.fasta"
     ]
    }
   ],
   "source": [
    "!cat {sample_list_path}"
   ]
  },
  {
   "cell_type": "code",
   "execution_count": 14,
   "id": "substantial-classic",
   "metadata": {
    "ExecuteTime": {
     "end_time": "2021-10-19T09:50:39.612431Z",
     "start_time": "2021-10-19T09:50:39.165237Z"
    }
   },
   "outputs": [
    {
     "name": "stdout",
     "output_type": "stream",
     "text": [
      "#############################\r\n",
      "### Welcome to MetaGraph! ###\r\n",
      "#############################\r\n",
      "\r\n",
      "Metagraph: comprehensive metagenome graph representation -- Version 0.1\r\n",
      "\r\n",
      "Usage: metagraph <command> [command specific options]\r\n",
      "\r\n",
      "Available commands:\r\n",
      "\tbuild\t\tconstruct a graph object from input sequence\r\n"
     ]
    }
   ],
   "source": [
    "# checking metagraph version\n",
    "!metagraph --help 2>&1 | head"
   ]
  },
  {
   "cell_type": "code",
   "execution_count": 15,
   "id": "reported-march",
   "metadata": {
    "ExecuteTime": {
     "end_time": "2021-10-19T09:50:44.041343Z",
     "start_time": "2021-10-19T09:50:39.615396Z"
    },
    "execution": {
     "iopub.execute_input": "2021-03-31T07:55:46.465433Z",
     "iopub.status.busy": "2021-03-31T07:55:46.465147Z",
     "iopub.status.idle": "2021-03-31T07:55:50.278245Z",
     "shell.execute_reply": "2021-03-31T07:55:50.277387Z",
     "shell.execute_reply.started": "2021-03-31T07:55:46.465399Z"
    },
    "tags": []
   },
   "outputs": [
    {
     "name": "stderr",
     "output_type": "stream",
     "text": [
      "2021-10-19 11:50:40,149 - WARNING: Command /usr/bin/time --version for GNU time could not be executed successfully: b'/usr/bin/time: illegal option -- -\\nusage: time [-lp] <command>\\n'. No timing information collected\n",
      "Building DAG of jobs...\n",
      "2021-10-19 11:50:40,224 - WARNING: Building DAG of jobs...\n",
      "Using shell: /usr/local/bin/bash\n",
      "2021-10-19 11:50:40,262 - WARNING: Using shell: /usr/local/bin/bash\n",
      "Provided cores: 1 (use --cores to define parallelism)\n",
      "2021-10-19 11:50:40,264 - WARNING: Provided cores: 1 (use --cores to define parallelism)\n",
      "Rules claiming more threads will be scaled down.\n",
      "2021-10-19 11:50:40,266 - WARNING: Rules claiming more threads will be scaled down.\n",
      "Job counts:\n",
      "\tcount\tjobs\n",
      "\t1\tall\n",
      "\t1\tannotate\n",
      "\t1\tannotate_row_diff_brwt\n",
      "\t1\tbuild_joint_graph\n",
      "\t1\tbuild_joint_primary\n",
      "\t1\tgenerate_column_list\n",
      "\t1\tprimarize_joint_graph\n",
      "\t1\trelax_row_diff_brwt\n",
      "\t1\ttransform_rd_stage0\n",
      "\t1\ttransform_rd_stage1\n",
      "\t1\ttransform_rd_stage2\n",
      "\t11\n",
      "2021-10-19 11:50:40,271 - WARNING: Job counts:\n",
      "\tcount\tjobs\n",
      "\t1\tall\n",
      "\t1\tannotate\n",
      "\t1\tannotate_row_diff_brwt\n",
      "\t1\tbuild_joint_graph\n",
      "\t1\tbuild_joint_primary\n",
      "\t1\tgenerate_column_list\n",
      "\t1\tprimarize_joint_graph\n",
      "\t1\trelax_row_diff_brwt\n",
      "\t1\ttransform_rd_stage0\n",
      "\t1\ttransform_rd_stage1\n",
      "\t1\ttransform_rd_stage2\n",
      "\t11\n",
      "\n",
      "2021-10-19 11:50:40,274 - INFO: \n",
      "[Tue Oct 19 11:50:40 2021]\n",
      "2021-10-19 11:50:40,276 - INFO: [Tue Oct 19 11:50:40 2021]\n",
      "rule build_joint_graph:\n",
      "    input: /tmp/paths.txt\n",
      "    output: /tmp/output_test_primary/graph_canonical.dbg\n",
      "    log: /tmp/output_test_primary/logs/build_joint_graph.log\n",
      "    jobid: 3\n",
      "    resources: mem_mb=4048, disk_mb=10240\n",
      "2021-10-19 11:50:40,278 - INFO: rule build_joint_graph:\n",
      "    input: /tmp/paths.txt\n",
      "    output: /tmp/output_test_primary/graph_canonical.dbg\n",
      "    log: /tmp/output_test_primary/logs/build_joint_graph.log\n",
      "    jobid: 3\n",
      "    resources: mem_mb=4048, disk_mb=10240\n",
      "\n",
      "2021-10-19 11:50:40,280 - INFO: \n",
      "[Tue Oct 19 11:50:40 2021]\n",
      "2021-10-19 11:50:40,582 - INFO: [Tue Oct 19 11:50:40 2021]\n",
      "Finished job 3.\n",
      "2021-10-19 11:50:40,585 - INFO: Finished job 3.\n",
      "1 of 11 steps (9%) done\n",
      "2021-10-19 11:50:40,586 - INFO: 1 of 11 steps (9%) done\n",
      "\n",
      "2021-10-19 11:50:40,589 - INFO: \n",
      "[Tue Oct 19 11:50:40 2021]\n",
      "2021-10-19 11:50:40,591 - INFO: [Tue Oct 19 11:50:40 2021]\n",
      "rule primarize_joint_graph:\n",
      "    input: /tmp/output_test_primary/graph_canonical.dbg\n",
      "    output: /tmp/output_test_primary/graph_primary.fasta.gz\n",
      "    log: /tmp/output_test_primary/logs/primarize_joint_graph.log\n",
      "    jobid: 2\n",
      "    resources: mem_mb=4048\n",
      "2021-10-19 11:50:40,592 - INFO: rule primarize_joint_graph:\n",
      "    input: /tmp/output_test_primary/graph_canonical.dbg\n",
      "    output: /tmp/output_test_primary/graph_primary.fasta.gz\n",
      "    log: /tmp/output_test_primary/logs/primarize_joint_graph.log\n",
      "    jobid: 2\n",
      "    resources: mem_mb=4048\n",
      "\n",
      "2021-10-19 11:50:40,596 - INFO: \n",
      "Removing temporary output file /tmp/output_test_primary/graph_canonical.dbg.\n",
      "2021-10-19 11:50:40,923 - WARNING: Removing temporary output file /tmp/output_test_primary/graph_canonical.dbg.\n",
      "[Tue Oct 19 11:50:40 2021]\n",
      "2021-10-19 11:50:40,926 - INFO: [Tue Oct 19 11:50:40 2021]\n",
      "Finished job 2.\n",
      "2021-10-19 11:50:40,928 - INFO: Finished job 2.\n",
      "2 of 11 steps (18%) done\n",
      "2021-10-19 11:50:40,930 - INFO: 2 of 11 steps (18%) done\n",
      "\n",
      "2021-10-19 11:50:40,933 - INFO: \n",
      "[Tue Oct 19 11:50:40 2021]\n",
      "2021-10-19 11:50:40,935 - INFO: [Tue Oct 19 11:50:40 2021]\n",
      "rule build_joint_primary:\n",
      "    input: /tmp/output_test_primary/graph_primary.fasta.gz\n",
      "    output: /tmp/output_test_primary/graph.dbg\n",
      "    log: /tmp/output_test_primary/logs/build_joint_primary.log\n",
      "    jobid: 1\n",
      "    resources: mem_mb=4048, disk_mb=10240\n",
      "2021-10-19 11:50:40,937 - INFO: rule build_joint_primary:\n",
      "    input: /tmp/output_test_primary/graph_primary.fasta.gz\n",
      "    output: /tmp/output_test_primary/graph.dbg\n",
      "    log: /tmp/output_test_primary/logs/build_joint_primary.log\n",
      "    jobid: 1\n",
      "    resources: mem_mb=4048, disk_mb=10240\n",
      "\n",
      "2021-10-19 11:50:40,944 - INFO: \n",
      "Removing temporary output file /tmp/output_test_primary/graph_primary.fasta.gz.\n",
      "2021-10-19 11:50:41,242 - WARNING: Removing temporary output file /tmp/output_test_primary/graph_primary.fasta.gz.\n",
      "[Tue Oct 19 11:50:41 2021]\n",
      "2021-10-19 11:50:41,244 - INFO: [Tue Oct 19 11:50:41 2021]\n",
      "Finished job 1.\n",
      "2021-10-19 11:50:41,246 - INFO: Finished job 1.\n",
      "3 of 11 steps (27%) done\n",
      "2021-10-19 11:50:41,249 - INFO: 3 of 11 steps (27%) done\n",
      "\n",
      "2021-10-19 11:50:41,252 - INFO: \n",
      "[Tue Oct 19 11:50:41 2021]\n",
      "2021-10-19 11:50:41,257 - INFO: [Tue Oct 19 11:50:41 2021]\n",
      "rule annotate:\n",
      "    input: /tmp/paths.txt, /tmp/output_test_primary/graph.dbg\n",
      "    output: /tmp/output_test_primary/columns/DONE, /tmp/output_test_primary/columns/my.fasta.column.annodbg\n",
      "    log: /tmp/output_test_primary/logs/annotate.log\n",
      "    jobid: 8\n",
      "    resources: mem_mb=4048\n",
      "2021-10-19 11:50:41,260 - INFO: rule annotate:\n",
      "    input: /tmp/paths.txt, /tmp/output_test_primary/graph.dbg\n",
      "    output: /tmp/output_test_primary/columns/DONE, /tmp/output_test_primary/columns/my.fasta.column.annodbg\n",
      "    log: /tmp/output_test_primary/logs/annotate.log\n",
      "    jobid: 8\n",
      "    resources: mem_mb=4048\n",
      "\n",
      "2021-10-19 11:50:41,277 - INFO: \n",
      "Touching output file /tmp/output_test_primary/columns/DONE.\n",
      "2021-10-19 11:50:41,578 - WARNING: Touching output file /tmp/output_test_primary/columns/DONE.\n",
      "[Tue Oct 19 11:50:41 2021]\n",
      "2021-10-19 11:50:41,600 - INFO: [Tue Oct 19 11:50:41 2021]\n",
      "Finished job 8.\n",
      "2021-10-19 11:50:41,601 - INFO: Finished job 8.\n",
      "4 of 11 steps (36%) done\n",
      "2021-10-19 11:50:41,605 - INFO: 4 of 11 steps (36%) done\n",
      "\n",
      "2021-10-19 11:50:41,612 - INFO: \n",
      "[Tue Oct 19 11:50:41 2021]\n",
      "2021-10-19 11:50:41,615 - INFO: [Tue Oct 19 11:50:41 2021]\n",
      "localrule generate_column_list:\n",
      "    input: /tmp/output_test_primary/columns/my.fasta.column.annodbg\n",
      "    output: /tmp/output_test_primary/columns.txt\n",
      "    jobid: 7\n",
      "2021-10-19 11:50:41,617 - INFO: localrule generate_column_list:\n",
      "    input: /tmp/output_test_primary/columns/my.fasta.column.annodbg\n",
      "    output: /tmp/output_test_primary/columns.txt\n",
      "    jobid: 7\n",
      "\n",
      "2021-10-19 11:50:41,619 - INFO: \n",
      "[Tue Oct 19 11:50:42 2021]\n",
      "2021-10-19 11:50:42,489 - INFO: [Tue Oct 19 11:50:42 2021]\n",
      "Finished job 7.\n",
      "2021-10-19 11:50:42,493 - INFO: Finished job 7.\n",
      "5 of 11 steps (45%) done\n",
      "2021-10-19 11:50:42,495 - INFO: 5 of 11 steps (45%) done\n",
      "\n",
      "2021-10-19 11:50:42,505 - INFO: \n",
      "[Tue Oct 19 11:50:42 2021]\n",
      "2021-10-19 11:50:42,510 - INFO: [Tue Oct 19 11:50:42 2021]\n",
      "rule transform_rd_stage0:\n",
      "    input: /tmp/output_test_primary/graph.dbg, /tmp/output_test_primary/columns.txt\n",
      "    output: /tmp/output_test_primary/rd_cols/vector.row_count\n",
      "    log: /tmp/output_test_primary/logs/transform_rd_stage0.log\n",
      "    jobid: 10\n",
      "    resources: mem_mb=2048\n",
      "2021-10-19 11:50:42,518 - INFO: rule transform_rd_stage0:\n",
      "    input: /tmp/output_test_primary/graph.dbg, /tmp/output_test_primary/columns.txt\n",
      "    output: /tmp/output_test_primary/rd_cols/vector.row_count\n",
      "    log: /tmp/output_test_primary/logs/transform_rd_stage0.log\n",
      "    jobid: 10\n",
      "    resources: mem_mb=2048\n",
      "\n",
      "2021-10-19 11:50:42,530 - INFO: \n",
      "[Tue Oct 19 11:50:42 2021]\n",
      "2021-10-19 11:50:42,785 - INFO: [Tue Oct 19 11:50:42 2021]\n",
      "Finished job 10.\n",
      "2021-10-19 11:50:42,787 - INFO: Finished job 10.\n",
      "6 of 11 steps (55%) done\n",
      "2021-10-19 11:50:42,788 - INFO: 6 of 11 steps (55%) done\n",
      "\n",
      "2021-10-19 11:50:42,792 - INFO: \n",
      "[Tue Oct 19 11:50:42 2021]\n",
      "2021-10-19 11:50:42,794 - INFO: [Tue Oct 19 11:50:42 2021]\n",
      "rule transform_rd_stage1:\n",
      "    input: /tmp/output_test_primary/graph.dbg, /tmp/output_test_primary/columns.txt, /tmp/output_test_primary/rd_cols/vector.row_count\n",
      "    output: /tmp/output_test_primary/graph.dbg.pred, /tmp/output_test_primary/graph.dbg.pred_boundary, /tmp/output_test_primary/graph.dbg.rd_succ, /tmp/output_test_primary/graph.dbg.succ, /tmp/output_test_primary/graph.dbg.succ_boundary, /tmp/output_test_primary/rd_cols/vectors.row_reduction\n",
      "    log: /tmp/output_test_primary/logs/transform_rd_stage1.log\n",
      "    jobid: 9\n",
      "    resources: mem_mb=4048\n",
      "2021-10-19 11:50:42,795 - INFO: rule transform_rd_stage1:\n",
      "    input: /tmp/output_test_primary/graph.dbg, /tmp/output_test_primary/columns.txt, /tmp/output_test_primary/rd_cols/vector.row_count\n",
      "    output: /tmp/output_test_primary/graph.dbg.pred, /tmp/output_test_primary/graph.dbg.pred_boundary, /tmp/output_test_primary/graph.dbg.rd_succ, /tmp/output_test_primary/graph.dbg.succ, /tmp/output_test_primary/graph.dbg.succ_boundary, /tmp/output_test_primary/rd_cols/vectors.row_reduction\n",
      "    log: /tmp/output_test_primary/logs/transform_rd_stage1.log\n",
      "    jobid: 9\n",
      "    resources: mem_mb=4048\n"
     ]
    },
    {
     "name": "stderr",
     "output_type": "stream",
     "text": [
      "\n",
      "2021-10-19 11:50:42,797 - INFO: \n",
      "[Tue Oct 19 11:50:43 2021]\n",
      "2021-10-19 11:50:43,098 - INFO: [Tue Oct 19 11:50:43 2021]\n",
      "Finished job 9.\n",
      "2021-10-19 11:50:43,100 - INFO: Finished job 9.\n",
      "7 of 11 steps (64%) done\n",
      "2021-10-19 11:50:43,101 - INFO: 7 of 11 steps (64%) done\n",
      "\n",
      "2021-10-19 11:50:43,105 - INFO: \n",
      "[Tue Oct 19 11:50:43 2021]\n",
      "2021-10-19 11:50:43,108 - INFO: [Tue Oct 19 11:50:43 2021]\n",
      "rule transform_rd_stage2:\n",
      "    input: /tmp/output_test_primary/graph.dbg, /tmp/output_test_primary/columns.txt, /tmp/output_test_primary/rd_cols/vectors.row_reduction\n",
      "    output: /tmp/output_test_primary/graph.dbg.anchors, /tmp/output_test_primary/rd_cols/DONE\n",
      "    log: /tmp/output_test_primary/logs/transform_rd_stage2.log\n",
      "    jobid: 6\n",
      "    resources: mem_mb=4048\n",
      "2021-10-19 11:50:43,111 - INFO: rule transform_rd_stage2:\n",
      "    input: /tmp/output_test_primary/graph.dbg, /tmp/output_test_primary/columns.txt, /tmp/output_test_primary/rd_cols/vectors.row_reduction\n",
      "    output: /tmp/output_test_primary/graph.dbg.anchors, /tmp/output_test_primary/rd_cols/DONE\n",
      "    log: /tmp/output_test_primary/logs/transform_rd_stage2.log\n",
      "    jobid: 6\n",
      "    resources: mem_mb=4048\n",
      "\n",
      "2021-10-19 11:50:43,114 - INFO: \n",
      "Touching output file /tmp/output_test_primary/rd_cols/DONE.\n",
      "2021-10-19 11:50:43,386 - WARNING: Touching output file /tmp/output_test_primary/rd_cols/DONE.\n",
      "[Tue Oct 19 11:50:43 2021]\n",
      "2021-10-19 11:50:43,405 - INFO: [Tue Oct 19 11:50:43 2021]\n",
      "Finished job 6.\n",
      "2021-10-19 11:50:43,406 - INFO: Finished job 6.\n",
      "8 of 11 steps (73%) done\n",
      "2021-10-19 11:50:43,408 - INFO: 8 of 11 steps (73%) done\n",
      "\n",
      "2021-10-19 11:50:43,412 - INFO: \n",
      "[Tue Oct 19 11:50:43 2021]\n",
      "2021-10-19 11:50:43,424 - INFO: [Tue Oct 19 11:50:43 2021]\n",
      "rule annotate_row_diff_brwt:\n",
      "    input: /tmp/output_test_primary/graph.dbg.anchors, /tmp/output_test_primary/rd_cols/DONE, /tmp/output_test_primary/graph.dbg\n",
      "    output: /tmp/output_test_primary/graph.row_diff_brwt.annodbg, /tmp/output_test_primary/graph.row_diff_brwt.annodbg.linkage\n",
      "    log: /tmp/output_test_primary/logs/annotate_row_diff_brwt.log\n",
      "    jobid: 5\n",
      "    resources: mem_mb=4048\n",
      "2021-10-19 11:50:43,426 - INFO: rule annotate_row_diff_brwt:\n",
      "    input: /tmp/output_test_primary/graph.dbg.anchors, /tmp/output_test_primary/rd_cols/DONE, /tmp/output_test_primary/graph.dbg\n",
      "    output: /tmp/output_test_primary/graph.row_diff_brwt.annodbg, /tmp/output_test_primary/graph.row_diff_brwt.annodbg.linkage\n",
      "    log: /tmp/output_test_primary/logs/annotate_row_diff_brwt.log\n",
      "    jobid: 5\n",
      "    resources: mem_mb=4048\n",
      "\n",
      "2021-10-19 11:50:43,433 - INFO: \n",
      "[Tue Oct 19 11:50:43 2021]\n",
      "2021-10-19 11:50:43,719 - INFO: [Tue Oct 19 11:50:43 2021]\n",
      "Finished job 5.\n",
      "2021-10-19 11:50:43,721 - INFO: Finished job 5.\n",
      "9 of 11 steps (82%) done\n",
      "2021-10-19 11:50:43,722 - INFO: 9 of 11 steps (82%) done\n",
      "\n",
      "2021-10-19 11:50:43,726 - INFO: \n",
      "[Tue Oct 19 11:50:43 2021]\n",
      "2021-10-19 11:50:43,728 - INFO: [Tue Oct 19 11:50:43 2021]\n",
      "rule relax_row_diff_brwt:\n",
      "    input: /tmp/output_test_primary/graph.row_diff_brwt.annodbg\n",
      "    output: /tmp/output_test_primary/graph.relax.row_diff_brwt.annodbg\n",
      "    log: /tmp/output_test_primary/logs/relax_row_diff_brwt.log\n",
      "    jobid: 4\n",
      "    resources: mem_mb=4048\n",
      "2021-10-19 11:50:43,733 - INFO: rule relax_row_diff_brwt:\n",
      "    input: /tmp/output_test_primary/graph.row_diff_brwt.annodbg\n",
      "    output: /tmp/output_test_primary/graph.relax.row_diff_brwt.annodbg\n",
      "    log: /tmp/output_test_primary/logs/relax_row_diff_brwt.log\n",
      "    jobid: 4\n",
      "    resources: mem_mb=4048\n",
      "\n",
      "2021-10-19 11:50:43,745 - INFO: \n",
      "[Tue Oct 19 11:50:43 2021]\n",
      "2021-10-19 11:50:43,986 - INFO: [Tue Oct 19 11:50:43 2021]\n",
      "Finished job 4.\n",
      "2021-10-19 11:50:43,988 - INFO: Finished job 4.\n",
      "10 of 11 steps (91%) done\n",
      "2021-10-19 11:50:43,990 - INFO: 10 of 11 steps (91%) done\n",
      "\n",
      "2021-10-19 11:50:43,992 - INFO: \n",
      "[Tue Oct 19 11:50:43 2021]\n",
      "2021-10-19 11:50:43,997 - INFO: [Tue Oct 19 11:50:43 2021]\n",
      "localrule all:\n",
      "    input: /tmp/output_test_primary/graph.dbg, /tmp/output_test_primary/graph.relax.row_diff_brwt.annodbg\n",
      "    jobid: 0\n",
      "2021-10-19 11:50:44,001 - INFO: localrule all:\n",
      "    input: /tmp/output_test_primary/graph.dbg, /tmp/output_test_primary/graph.relax.row_diff_brwt.annodbg\n",
      "    jobid: 0\n",
      "\n",
      "2021-10-19 11:50:44,004 - INFO: \n",
      "[Tue Oct 19 11:50:44 2021]\n",
      "2021-10-19 11:50:44,007 - INFO: [Tue Oct 19 11:50:44 2021]\n",
      "Finished job 0.\n",
      "2021-10-19 11:50:44,010 - INFO: Finished job 0.\n",
      "11 of 11 steps (100%) done\n",
      "2021-10-19 11:50:44,012 - INFO: 11 of 11 steps (100%) done\n",
      "Complete log: /Users/marc/git/projects2014-metagenome/metagraph/workflows/notebooks/.snakemake/log/2021-10-19T115039.725313.snakemake.log\n",
      "2021-10-19 11:50:44,025 - WARNING: Complete log: /Users/marc/git/projects2014-metagenome/metagraph/workflows/notebooks/.snakemake/log/2021-10-19T115039.725313.snakemake.log\n"
     ]
    },
    {
     "data": {
      "text/plain": [
       "True"
      ]
     },
     "execution_count": 15,
     "metadata": {},
     "output_type": "execute_result"
    }
   ],
   "source": [
    "cli.run_build_workflow(output_dir_primary, sample_list_path, build_primary_graph=True, force=True, k=5, verbose=False, \n",
    "                       annotation_labels_source=workflow_configs.AnnotationLabelsSource.SEQUENCE_HEADERS)"
   ]
  },
  {
   "cell_type": "markdown",
   "id": "prostate-plaza",
   "metadata": {
    "execution": {
     "iopub.execute_input": "2021-03-26T08:53:52.948433Z",
     "iopub.status.busy": "2021-03-26T08:53:52.947770Z",
     "iopub.status.idle": "2021-03-26T08:53:52.995178Z",
     "shell.execute_reply": "2021-03-26T08:53:52.993944Z",
     "shell.execute_reply.started": "2021-03-26T08:53:52.948384Z"
    },
    "tags": []
   },
   "source": [
    "## Querying Index"
   ]
  },
  {
   "cell_type": "code",
   "execution_count": 16,
   "id": "photographic-incentive",
   "metadata": {
    "ExecuteTime": {
     "end_time": "2021-10-19T09:50:44.230870Z",
     "start_time": "2021-10-19T09:50:44.044306Z"
    },
    "execution": {
     "iopub.execute_input": "2021-03-31T07:55:53.024150Z",
     "iopub.status.busy": "2021-03-31T07:55:53.023769Z",
     "iopub.status.idle": "2021-03-31T07:55:53.213976Z",
     "shell.execute_reply": "2021-03-31T07:55:53.212880Z",
     "shell.execute_reply.started": "2021-03-31T07:55:53.024121Z"
    },
    "tags": []
   },
   "outputs": [
    {
     "name": "stdout",
     "output_type": "stream",
     "text": [
      "\u001b[34mcolumns\u001b[m\u001b[m                             graph.dbg.succ\r\n",
      "columns.txt                         graph.dbg.succ_boundary\r\n",
      "graph.dbg                           graph.relax.row_diff_brwt.annodbg\r\n",
      "graph.dbg.anchors                   graph.row_diff_brwt.annodbg\r\n",
      "graph.dbg.pred                      graph.row_diff_brwt.annodbg.linkage\r\n",
      "graph.dbg.pred_boundary             \u001b[34mlogs\u001b[m\u001b[m\r\n",
      "graph.dbg.rd_succ                   \u001b[34mrd_cols\u001b[m\u001b[m\r\n"
     ]
    }
   ],
   "source": [
    "!ls {output_dir}"
   ]
  },
  {
   "cell_type": "code",
   "execution_count": 17,
   "id": "neither-balance",
   "metadata": {
    "ExecuteTime": {
     "end_time": "2021-10-19T09:50:44.268936Z",
     "start_time": "2021-10-19T09:50:44.234045Z"
    },
    "execution": {
     "iopub.execute_input": "2021-03-31T07:55:53.216106Z",
     "iopub.status.busy": "2021-03-31T07:55:53.215739Z",
     "iopub.status.idle": "2021-03-31T07:55:53.268315Z",
     "shell.execute_reply": "2021-03-31T07:55:53.267389Z",
     "shell.execute_reply.started": "2021-03-31T07:55:53.216043Z"
    },
    "tags": []
   },
   "outputs": [],
   "source": [
    "graph_path = output_dir / 'graph.dbg'\n",
    "annotations = output_dir / 'graph.relax.row_diff_brwt.annodbg'"
   ]
  },
  {
   "cell_type": "code",
   "execution_count": 18,
   "id": "single-mount",
   "metadata": {
    "ExecuteTime": {
     "end_time": "2021-10-19T09:50:44.335817Z",
     "start_time": "2021-10-19T09:50:44.272397Z"
    }
   },
   "outputs": [
    {
     "data": {
      "text/plain": [
       "<function __main__.kill_server()>"
      ]
     },
     "execution_count": 18,
     "metadata": {},
     "output_type": "execute_result"
    }
   ],
   "source": [
    "# some \"magic\" to start a metagraph server on the commandline\n",
    "import asyncio\n",
    "import atexit\n",
    "\n",
    "s = asyncio.create_subprocess_shell(f\"metagraph server_query -i {graph_path} -a {annotations}\")\n",
    "process = asyncio.run(s)\n",
    "\n",
    "def kill_server():\n",
    "    process.kill()\n",
    "\n",
    "atexit.register(kill_server) # shutting down server, when jupyter kernel exits"
   ]
  },
  {
   "cell_type": "code",
   "execution_count": 19,
   "id": "heated-edmonton",
   "metadata": {
    "ExecuteTime": {
     "end_time": "2021-10-19T09:50:45.277133Z",
     "start_time": "2021-10-19T09:50:44.346115Z"
    },
    "execution": {
     "iopub.execute_input": "2021-03-31T07:55:53.331447Z",
     "iopub.status.busy": "2021-03-31T07:55:53.331031Z",
     "iopub.status.idle": "2021-03-31T07:55:53.576023Z",
     "shell.execute_reply": "2021-03-31T07:55:53.572471Z",
     "shell.execute_reply.started": "2021-03-31T07:55:53.331400Z"
    },
    "tags": []
   },
   "outputs": [],
   "source": [
    "# https://metagraph.ethz.ch/static/docs/api.html#install-api\n",
    "from metagraph import client\n",
    "cl = client.GraphClient('localhost', '5555')"
   ]
  },
  {
   "cell_type": "code",
   "execution_count": 20,
   "id": "sunset-tours",
   "metadata": {
    "ExecuteTime": {
     "end_time": "2021-10-19T09:50:45.308382Z",
     "start_time": "2021-10-19T09:50:45.279164Z"
    },
    "execution": {
     "iopub.status.busy": "2021-03-31T07:55:53.581790Z",
     "iopub.status.idle": "2021-03-31T07:55:53.582293Z",
     "shell.execute_reply": "2021-03-31T07:55:53.582052Z"
    },
    "tags": []
   },
   "outputs": [
    {
     "data": {
      "text/plain": [
       "Seq('AGTACACTGGTAGTACACTGGTAGTACACTGGT')"
      ]
     },
     "execution_count": 20,
     "metadata": {},
     "output_type": "execute_result"
    }
   ],
   "source": [
    "seqs[0].seq"
   ]
  },
  {
   "cell_type": "code",
   "execution_count": 21,
   "id": "entitled-watershed",
   "metadata": {
    "ExecuteTime": {
     "end_time": "2021-10-19T09:50:45.399914Z",
     "start_time": "2021-10-19T09:50:45.312109Z"
    },
    "execution": {
     "iopub.status.busy": "2021-03-31T07:55:53.586151Z",
     "iopub.status.idle": "2021-03-31T07:55:53.587415Z",
     "shell.execute_reply": "2021-03-31T07:55:53.586566Z"
    },
    "tags": []
   },
   "outputs": [
    {
     "data": {
      "text/html": [
       "<div>\n",
       "<style scoped>\n",
       "    .dataframe tbody tr th:only-of-type {\n",
       "        vertical-align: middle;\n",
       "    }\n",
       "\n",
       "    .dataframe tbody tr th {\n",
       "        vertical-align: top;\n",
       "    }\n",
       "\n",
       "    .dataframe thead th {\n",
       "        text-align: right;\n",
       "    }\n",
       "</style>\n",
       "<table border=\"1\" class=\"dataframe\">\n",
       "  <thead>\n",
       "    <tr style=\"text-align: right;\">\n",
       "      <th></th>\n",
       "      <th>kmer_count</th>\n",
       "      <th>sample</th>\n",
       "      <th>seq_description</th>\n",
       "    </tr>\n",
       "  </thead>\n",
       "  <tbody>\n",
       "    <tr>\n",
       "      <th>0</th>\n",
       "      <td>29</td>\n",
       "      <td>seq1</td>\n",
       "      <td>0</td>\n",
       "    </tr>\n",
       "    <tr>\n",
       "      <th>1</th>\n",
       "      <td>11</td>\n",
       "      <td>seq3</td>\n",
       "      <td>0</td>\n",
       "    </tr>\n",
       "    <tr>\n",
       "      <th>2</th>\n",
       "      <td>17</td>\n",
       "      <td>seq3</td>\n",
       "      <td>1</td>\n",
       "    </tr>\n",
       "  </tbody>\n",
       "</table>\n",
       "</div>"
      ],
      "text/plain": [
       "   kmer_count sample seq_description\n",
       "0          29   seq1               0\n",
       "1          11   seq3               0\n",
       "2          17   seq3               1"
      ]
     },
     "execution_count": 21,
     "metadata": {},
     "output_type": "execute_result"
    }
   ],
   "source": [
    "# we should find the sequence back!\n",
    "cl.search([str(seqs[0].seq), str(seqs[0].seq.reverse_complement())  ])"
   ]
  }
 ],
 "metadata": {
  "hide_input": false,
  "kernelspec": {
   "display_name": "Python (metagraph-workflows)",
   "language": "python",
   "name": "metagraph-workflows"
  },
  "language_info": {
   "codemirror_mode": {
    "name": "ipython",
    "version": 3
   },
   "file_extension": ".py",
   "mimetype": "text/x-python",
   "name": "python",
   "nbconvert_exporter": "python",
   "pygments_lexer": "ipython3",
   "version": "3.8.8"
  },
  "toc": {
   "base_numbering": 1,
   "nav_menu": {},
   "number_sections": true,
   "sideBar": true,
   "skip_h1_title": false,
   "title_cell": "Table of Contents",
   "title_sidebar": "Contents",
   "toc_cell": false,
   "toc_position": {},
   "toc_section_display": true,
   "toc_window_display": false
  }
 },
 "nbformat": 4,
 "nbformat_minor": 5
}
